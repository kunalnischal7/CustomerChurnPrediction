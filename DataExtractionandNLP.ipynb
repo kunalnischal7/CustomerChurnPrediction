{
  "nbformat": 4,
  "nbformat_minor": 0,
  "metadata": {
    "colab": {
      "provenance": [],
      "toc_visible": true,
      "authorship_tag": "ABX9TyNyVltoG6ayq0jMziUpXNdf",
      "include_colab_link": true
    },
    "kernelspec": {
      "name": "python3",
      "display_name": "Python 3"
    },
    "language_info": {
      "name": "python"
    }
  },
  "cells": [
    {
      "cell_type": "markdown",
      "metadata": {
        "id": "view-in-github",
        "colab_type": "text"
      },
      "source": [
        "<a href=\"https://colab.research.google.com/github/kunalnischal7/CustomerChurnPrediction/blob/main/DataExtractionandNLP.ipynb\" target=\"_parent\"><img src=\"https://colab.research.google.com/assets/colab-badge.svg\" alt=\"Open In Colab\"/></a>"
      ]
    },
    {
      "cell_type": "markdown",
      "source": [
        "# Data Extraction"
      ],
      "metadata": {
        "id": "uktzPFyH3Hzy"
      }
    },
    {
      "cell_type": "markdown",
      "source": [
        "### Installing and Importing Libraries"
      ],
      "metadata": {
        "id": "kOEo_fcD3LI8"
      }
    },
    {
      "cell_type": "code",
      "source": [
        "import tensorflow as tf\n",
        "import pandas as pd\n",
        "import sklearn"
      ],
      "metadata": {
        "id": "fc3vMemJ_fSp"
      },
      "execution_count": 1,
      "outputs": []
    },
    {
      "cell_type": "code",
      "source": [
        "import requests\n",
        "from bs4 import BeautifulSoup\n",
        "import os"
      ],
      "metadata": {
        "id": "Cy22WOds35NH"
      },
      "execution_count": 12,
      "outputs": []
    },
    {
      "cell_type": "markdown",
      "source": [
        "## Fetch the webpages"
      ],
      "metadata": {
        "id": "ZQI5PHUI4Lp9"
      }
    },
    {
      "cell_type": "code",
      "source": [
        "from google.colab import drive\n",
        "drive.mount('/content/drive')"
      ],
      "metadata": {
        "colab": {
          "base_uri": "https://localhost:8080/"
        },
        "id": "2viiEvyA99uC",
        "outputId": "be738688-c16c-433d-fba4-695e073eb27a"
      },
      "execution_count": 2,
      "outputs": [
        {
          "output_type": "stream",
          "name": "stdout",
          "text": [
            "Drive already mounted at /content/drive; to attempt to forcibly remount, call drive.mount(\"/content/drive\", force_remount=True).\n"
          ]
        }
      ]
    },
    {
      "cell_type": "code",
      "source": [
        "%cd \"/content/drive/My Drive/\""
      ],
      "metadata": {
        "colab": {
          "base_uri": "https://localhost:8080/"
        },
        "id": "w3dCt6vPEHFR",
        "outputId": "804b1cfd-4ef6-45b8-ec94-ba336c851f2c"
      },
      "execution_count": 7,
      "outputs": [
        {
          "output_type": "stream",
          "name": "stdout",
          "text": [
            "/content/drive/My Drive\n"
          ]
        }
      ]
    },
    {
      "cell_type": "code",
      "source": [
        "file_path = 'Input.xlsx'"
      ],
      "metadata": {
        "id": "-wPV_CkC-kGS"
      },
      "execution_count": 8,
      "outputs": []
    },
    {
      "cell_type": "code",
      "source": [
        "df = pd.read_excel(file_path)"
      ],
      "metadata": {
        "id": "iMiOlBLA_U6Y"
      },
      "execution_count": 9,
      "outputs": []
    },
    {
      "cell_type": "code",
      "source": [
        "urls = df['URL']"
      ],
      "metadata": {
        "id": "1uGoiMiH_cSq"
      },
      "execution_count": 10,
      "outputs": []
    },
    {
      "cell_type": "code",
      "source": [
        "\n",
        "# Create a directory to save the text files\n",
        "if not os.path.exists('article_texts'):\n",
        "    os.mkdir('article_texts')\n",
        "\n",
        "# Initialize an empty list to store the article texts\n",
        "article_texts = []\n",
        "\n",
        "for index, url in enumerate(urls):\n",
        "    try:\n",
        "        response = requests.get(url)\n",
        "\n",
        "        if response.status_code == 200:\n",
        "            html_content = response.text\n",
        "        else:\n",
        "            print(f\"Failed to retrieve the webpage at URL: {url}. Status code: {response.status_code}\")\n",
        "            continue  # Skip to the next URL in case of an error\n",
        "\n",
        "        # Parse the HTML content using BeautifulSoup\n",
        "        soup = BeautifulSoup(html_content, 'html.parser')\n",
        "\n",
        "        # Extract article text (modify as per your HTML structure)\n",
        "        article_text = \"\"\n",
        "        paragraphs = soup.find_all('p')\n",
        "        for paragraph in paragraphs:\n",
        "            article_text += paragraph.text + '\\n'\n",
        "\n",
        "        # Append the article text to the list\n",
        "        article_texts.append(article_text)\n",
        "\n",
        "        # Save the article text to a text file with URL_ID as its file name\n",
        "        url_id = df.at[index, 'URL_ID']  # Assuming there is a column 'URL_ID' in the Excel file\n",
        "        with open(f'article_texts/{url_id}.txt', 'w', encoding='utf-8') as file:\n",
        "            file.write(article_text)\n",
        "\n",
        "        print(f\"Saved article from URL: {url} with URL_ID: {url_id}\")\n",
        "    except Exception as e:\n",
        "        print(f\"Error processing URL: {url} - {str(e)}\")\n",
        "\n",
        "print(\"Extraction and saving completed.\")\n",
        "\n",
        "# Now, the article_texts list contains the extracted article texts, and you can proceed with your analysis.\n"
      ],
      "metadata": {
        "colab": {
          "base_uri": "https://localhost:8080/"
        },
        "id": "HGoKjwLoEfZl",
        "outputId": "0b561893-b4d1-49c8-b07d-bb006b37dbba"
      },
      "execution_count": 19,
      "outputs": [
        {
          "output_type": "stream",
          "name": "stdout",
          "text": [
            "Saved article from URL: https://insights.blackcoffer.com/rise-of-telemedicine-and-its-impact-on-livelihood-by-2040-3-2/ with URL_ID: 123.0\n",
            "Saved article from URL: https://insights.blackcoffer.com/rise-of-e-health-and-its-impact-on-humans-by-the-year-2030/ with URL_ID: 321.0\n",
            "Saved article from URL: https://insights.blackcoffer.com/rise-of-e-health-and-its-imapct-on-humans-by-the-year-2030-2/ with URL_ID: 2345.0\n",
            "Saved article from URL: https://insights.blackcoffer.com/rise-of-telemedicine-and-its-impact-on-livelihood-by-2040-2/ with URL_ID: 4321.0\n",
            "Saved article from URL: https://insights.blackcoffer.com/rise-of-telemedicine-and-its-impact-on-livelihood-by-2040-2-2/ with URL_ID: 432.0\n",
            "Saved article from URL: https://insights.blackcoffer.com/rise-of-chatbots-and-its-impact-on-customer-support-by-the-year-2040/ with URL_ID: 2893.8\n",
            "Saved article from URL: https://insights.blackcoffer.com/rise-of-e-health-and-its-imapct-on-humans-by-the-year-2030/ with URL_ID: 3355.6\n",
            "Saved article from URL: https://insights.blackcoffer.com/how-does-marketing-influence-businesses-and-consumers/ with URL_ID: 3817.4\n",
            "Saved article from URL: https://insights.blackcoffer.com/how-advertisement-increase-your-market-value/ with URL_ID: 4279.2\n",
            "Saved article from URL: https://insights.blackcoffer.com/negative-effects-of-marketing-on-society/ with URL_ID: 4741.0\n",
            "Saved article from URL: https://insights.blackcoffer.com/how-advertisement-marketing-affects-business/ with URL_ID: 5202.8\n",
            "Saved article from URL: https://insights.blackcoffer.com/rising-it-cities-will-impact-the-economy-environment-infrastructure-and-city-life-by-the-year-2035/ with URL_ID: 5664.6\n",
            "Saved article from URL: https://insights.blackcoffer.com/rise-of-ott-platform-and-its-impact-on-entertainment-industry-by-the-year-2030/ with URL_ID: 6126.4\n",
            "Saved article from URL: https://insights.blackcoffer.com/rise-of-electric-vehicles-and-its-impact-on-livelihood-by-2040/ with URL_ID: 6588.2\n",
            "Saved article from URL: https://insights.blackcoffer.com/rise-of-electric-vehicle-and-its-impact-on-livelihood-by-the-year-2040/ with URL_ID: 7050.0\n",
            "Saved article from URL: https://insights.blackcoffer.com/oil-prices-by-the-year-2040-and-how-it-will-impact-the-world-economy/ with URL_ID: 7511.8\n",
            "Saved article from URL: https://insights.blackcoffer.com/an-outlook-of-healthcare-by-the-year-2040-and-how-it-will-impact-human-lives/ with URL_ID: 7973.6\n",
            "Saved article from URL: https://insights.blackcoffer.com/ai-in-healthcare-to-improve-patient-outcomes/ with URL_ID: 8435.4\n",
            "Saved article from URL: https://insights.blackcoffer.com/what-if-the-creation-is-taking-over-the-creator/ with URL_ID: 8897.2\n",
            "Saved article from URL: https://insights.blackcoffer.com/what-jobs-will-robots-take-from-humans-in-the-future/ with URL_ID: 9359.0\n",
            "Saved article from URL: https://insights.blackcoffer.com/will-machine-replace-the-human-in-the-future-of-work/ with URL_ID: 9820.8\n",
            "Saved article from URL: https://insights.blackcoffer.com/will-ai-replace-us-or-work-with-us/ with URL_ID: 10282.6\n",
            "Saved article from URL: https://insights.blackcoffer.com/man-and-machines-together-machines-are-more-diligent-than-humans-blackcoffe/ with URL_ID: 10744.4\n",
            "Saved article from URL: https://insights.blackcoffer.com/in-future-or-in-upcoming-years-humans-and-machines-are-going-to-work-together-in-every-field-of-work/ with URL_ID: 11206.2\n",
            "Failed to retrieve the webpage at URL: https://insights.blackcoffer.com/how-neural-networks-can-be-applied-in-various-areas-in-the-future/. Status code: 404\n",
            "Saved article from URL: https://insights.blackcoffer.com/how-machine-learning-will-affect-your-business/ with URL_ID: 12129.8\n",
            "Saved article from URL: https://insights.blackcoffer.com/deep-learning-impact-on-areas-of-e-learning/ with URL_ID: 12591.6\n",
            "Saved article from URL: https://insights.blackcoffer.com/how-to-protect-future-data-and-its-privacy-blackcoffer/ with URL_ID: 13053.4\n",
            "Saved article from URL: https://insights.blackcoffer.com/how-machines-ai-automations-and-robo-human-are-effective-in-finance-and-banking/ with URL_ID: 13515.2\n",
            "Saved article from URL: https://insights.blackcoffer.com/ai-human-robotics-machine-future-planet-blackcoffer-thinking-jobs-workplace/ with URL_ID: 13977.0\n",
            "Saved article from URL: https://insights.blackcoffer.com/how-ai-will-change-the-world-blackcoffer/ with URL_ID: 14438.8\n",
            "Saved article from URL: https://insights.blackcoffer.com/future-of-work-how-ai-has-entered-the-workplace/ with URL_ID: 14900.6\n",
            "Saved article from URL: https://insights.blackcoffer.com/ai-tool-alexa-google-assistant-finance-banking-tool-future/ with URL_ID: 15362.4\n",
            "Saved article from URL: https://insights.blackcoffer.com/ai-healthcare-revolution-ml-technology-algorithm-google-analytics-industrialrevolution/ with URL_ID: 15824.2\n",
            "Saved article from URL: https://insights.blackcoffer.com/all-you-need-to-know-about-online-marketing/ with URL_ID: 16286.0\n",
            "Saved article from URL: https://insights.blackcoffer.com/evolution-of-advertising-industry/ with URL_ID: 16747.8\n",
            "Saved article from URL: https://insights.blackcoffer.com/how-data-analytics-can-help-your-business-respond-to-the-impact-of-covid-19/ with URL_ID: 17209.6\n",
            "Failed to retrieve the webpage at URL: https://insights.blackcoffer.com/covid-19-environmental-impact-for-the-future/. Status code: 404\n",
            "Saved article from URL: https://insights.blackcoffer.com/environmental-impact-of-the-covid-19-pandemic-lesson-for-the-future/ with URL_ID: 18133.2\n",
            "Saved article from URL: https://insights.blackcoffer.com/how-data-analytics-and-ai-are-used-to-halt-the-covid-19-pandemic/ with URL_ID: 18595.0\n",
            "Saved article from URL: https://insights.blackcoffer.com/difference-between-artificial-intelligence-machine-learning-statistics-and-data-mining/ with URL_ID: 19056.8\n",
            "Saved article from URL: https://insights.blackcoffer.com/how-python-became-the-first-choice-for-data-science/ with URL_ID: 19518.6\n",
            "Saved article from URL: https://insights.blackcoffer.com/how-google-fit-measure-heart-and-respiratory-rates-using-a-phone/ with URL_ID: 19980.4\n",
            "Saved article from URL: https://insights.blackcoffer.com/what-is-the-future-of-mobile-apps/ with URL_ID: 20442.2\n",
            "Saved article from URL: https://insights.blackcoffer.com/impact-of-ai-in-health-and-medicine/ with URL_ID: 20904.0\n",
            "Saved article from URL: https://insights.blackcoffer.com/telemedicine-what-patients-like-and-dislike-about-it/ with URL_ID: 21365.8\n",
            "Saved article from URL: https://insights.blackcoffer.com/how-we-forecast-future-technologies/ with URL_ID: 21827.6\n",
            "Saved article from URL: https://insights.blackcoffer.com/can-robots-tackle-late-life-loneliness/ with URL_ID: 22289.4\n",
            "Saved article from URL: https://insights.blackcoffer.com/embedding-care-robots-into-society-socio-technical-considerations/ with URL_ID: 22751.2\n",
            "Saved article from URL: https://insights.blackcoffer.com/management-challenges-for-future-digitalization-of-healthcare-services/ with URL_ID: 23213.0\n",
            "Saved article from URL: https://insights.blackcoffer.com/are-we-any-closer-to-preventing-a-nuclear-holocaust/ with URL_ID: 23674.8\n",
            "Saved article from URL: https://insights.blackcoffer.com/will-technology-eliminate-the-need-for-animal-testing-in-drug-development/ with URL_ID: 24136.6\n",
            "Saved article from URL: https://insights.blackcoffer.com/will-we-ever-understand-the-nature-of-consciousness/ with URL_ID: 24598.4\n",
            "Saved article from URL: https://insights.blackcoffer.com/will-we-ever-colonize-outer-space/ with URL_ID: 25060.2\n",
            "Saved article from URL: https://insights.blackcoffer.com/what-is-the-chance-homo-sapiens-will-survive-for-the-next-500-years/ with URL_ID: 25522.0\n",
            "Saved article from URL: https://insights.blackcoffer.com/why-does-your-business-need-a-chatbot/ with URL_ID: 25983.8\n",
            "Saved article from URL: https://insights.blackcoffer.com/how-you-lead-a-project-or-a-team-without-any-technical-expertise/ with URL_ID: 26445.6\n",
            "Saved article from URL: https://insights.blackcoffer.com/can-you-be-great-leader-without-technical-expertise/ with URL_ID: 26907.4\n",
            "Saved article from URL: https://insights.blackcoffer.com/how-does-artificial-intelligence-affect-the-environment/ with URL_ID: 27369.2\n",
            "Saved article from URL: https://insights.blackcoffer.com/how-to-overcome-your-fear-of-making-mistakes-2/ with URL_ID: 27831.0\n",
            "Saved article from URL: https://insights.blackcoffer.com/is-perfection-the-greatest-enemy-of-productivity/ with URL_ID: 28292.8\n",
            "Saved article from URL: https://insights.blackcoffer.com/global-financial-crisis-2008-causes-effects-and-its-solution/ with URL_ID: 28754.6\n",
            "Saved article from URL: https://insights.blackcoffer.com/gender-diversity-and-equality-in-the-tech-industry/ with URL_ID: 29216.4\n",
            "Saved article from URL: https://insights.blackcoffer.com/how-to-overcome-your-fear-of-making-mistakes/ with URL_ID: 29678.2\n",
            "Saved article from URL: https://insights.blackcoffer.com/how-small-business-can-survive-the-coronavirus-crisis/ with URL_ID: 30140.0\n",
            "Saved article from URL: https://insights.blackcoffer.com/impacts-of-covid-19-on-vegetable-vendors-and-food-stalls/ with URL_ID: 30601.8\n",
            "Saved article from URL: https://insights.blackcoffer.com/impacts-of-covid-19-on-vegetable-vendors/ with URL_ID: 31063.6\n",
            "Saved article from URL: https://insights.blackcoffer.com/impact-of-covid-19-pandemic-on-tourism-aviation-industries/ with URL_ID: 31525.4\n",
            "Saved article from URL: https://insights.blackcoffer.com/impact-of-covid-19-pandemic-on-sports-events-around-the-world/ with URL_ID: 31987.2\n",
            "Saved article from URL: https://insights.blackcoffer.com/changing-landscape-and-emerging-trends-in-the-indian-it-ites-industry/ with URL_ID: 32449.0\n",
            "Saved article from URL: https://insights.blackcoffer.com/online-gaming-adolescent-online-gaming-effects-demotivated-depression-musculoskeletal-and-psychosomatic-symptoms/ with URL_ID: 32910.8\n",
            "Saved article from URL: https://insights.blackcoffer.com/human-rights-outlook/ with URL_ID: 33372.6\n",
            "Saved article from URL: https://insights.blackcoffer.com/how-voice-search-makes-your-business-a-successful-business/ with URL_ID: 33834.4\n",
            "Saved article from URL: https://insights.blackcoffer.com/how-the-covid-19-crisis-is-redefining-jobs-and-services/ with URL_ID: 34296.2\n",
            "Saved article from URL: https://insights.blackcoffer.com/how-to-increase-social-media-engagement-for-marketers/ with URL_ID: 34758.0\n",
            "Saved article from URL: https://insights.blackcoffer.com/impacts-of-covid-19-on-streets-sides-food-stalls/ with URL_ID: 35219.8\n",
            "Saved article from URL: https://insights.blackcoffer.com/coronavirus-impact-on-energy-markets-2/ with URL_ID: 35681.6\n",
            "Saved article from URL: https://insights.blackcoffer.com/coronavirus-impact-on-the-hospitality-industry-5/ with URL_ID: 36143.4\n",
            "Saved article from URL: https://insights.blackcoffer.com/lessons-from-the-past-some-key-learnings-relevant-to-the-coronavirus-crisis-4/ with URL_ID: 36605.2\n",
            "Saved article from URL: https://insights.blackcoffer.com/estimating-the-impact-of-covid-19-on-the-world-of-work-2/ with URL_ID: 37067.0\n",
            "Saved article from URL: https://insights.blackcoffer.com/estimating-the-impact-of-covid-19-on-the-world-of-work-3/ with URL_ID: 37528.8\n",
            "Saved article from URL: https://insights.blackcoffer.com/travel-and-tourism-outlook/ with URL_ID: 37990.6\n",
            "Saved article from URL: https://insights.blackcoffer.com/gaming-disorder-and-effects-of-gaming-on-health/ with URL_ID: 38452.4\n",
            "Saved article from URL: https://insights.blackcoffer.com/what-is-the-repercussion-of-the-environment-due-to-the-covid-19-pandemic-situation/ with URL_ID: 38914.2\n",
            "Saved article from URL: https://insights.blackcoffer.com/what-is-the-repercussion-of-the-environment-due-to-the-covid-19-pandemic-situation-2/ with URL_ID: 39376.0\n",
            "Saved article from URL: https://insights.blackcoffer.com/impact-of-covid-19-pandemic-on-office-space-and-co-working-industries/ with URL_ID: 39837.8\n",
            "Saved article from URL: https://insights.blackcoffer.com/contribution-of-handicrafts-visual-arts-literature-in-the-indian-economy/ with URL_ID: 40299.6\n",
            "Saved article from URL: https://insights.blackcoffer.com/how-covid-19-is-impacting-payment-preferences/ with URL_ID: 40761.4\n",
            "Saved article from URL: https://insights.blackcoffer.com/how-will-covid-19-affect-the-world-of-work-2/ with URL_ID: 41223.2\n",
            "Saved article from URL: https://insights.blackcoffer.com/lessons-from-the-past-some-key-learnings-relevant-to-the-coronavirus-crisis/ with URL_ID: 41685.0\n",
            "Saved article from URL: https://insights.blackcoffer.com/covid-19-how-have-countries-been-responding/ with URL_ID: 42146.8\n",
            "Saved article from URL: https://insights.blackcoffer.com/coronavirus-impact-on-the-hospitality-industry-2/ with URL_ID: 42608.6\n",
            "Saved article from URL: https://insights.blackcoffer.com/how-will-covid-19-affect-the-world-of-work-3/ with URL_ID: 43070.4\n",
            "Saved article from URL: https://insights.blackcoffer.com/coronavirus-impact-on-the-hospitality-industry-3/ with URL_ID: 43532.2\n",
            "Saved article from URL: https://insights.blackcoffer.com/estimating-the-impact-of-covid-19-on-the-world-of-work/ with URL_ID: 43994.0\n",
            "Saved article from URL: https://insights.blackcoffer.com/covid-19-how-have-countries-been-responding-2/ with URL_ID: 44455.8\n",
            "Saved article from URL: https://insights.blackcoffer.com/how-will-covid-19-affect-the-world-of-work-4/ with URL_ID: 44917.6\n",
            "Saved article from URL: https://insights.blackcoffer.com/lessons-from-the-past-some-key-learnings-relevant-to-the-coronavirus-crisis-2/ with URL_ID: 45379.4\n",
            "Saved article from URL: https://insights.blackcoffer.com/lessons-from-the-past-some-key-learnings-relevant-to-the-coronavirus-crisis-3/ with URL_ID: 45841.2\n",
            "Saved article from URL: https://insights.blackcoffer.com/coronavirus-impact-on-the-hospitality-industry-4/ with URL_ID: 46303.0\n",
            "Saved article from URL: https://insights.blackcoffer.com/why-scams-like-nirav-modi-happen-with-indian-banks/ with URL_ID: 46764.8\n",
            "Saved article from URL: https://insights.blackcoffer.com/impact-of-covid-19-on-the-global-economy/ with URL_ID: 47226.6\n",
            "Saved article from URL: https://insights.blackcoffer.com/impact-of-covid-19coronavirus-on-the-indian-economy-2/ with URL_ID: 47688.4\n",
            "Saved article from URL: https://insights.blackcoffer.com/impact-of-covid-19-on-the-global-economy-2/ with URL_ID: 48150.2\n",
            "Saved article from URL: https://insights.blackcoffer.com/impact-of-covid-19-coronavirus-on-the-indian-economy-3/ with URL_ID: 48612.0\n",
            "Saved article from URL: https://insights.blackcoffer.com/should-celebrities-be-allowed-to-join-politics/ with URL_ID: 49073.8\n",
            "Saved article from URL: https://insights.blackcoffer.com/how-prepared-is-india-to-tackle-a-possible-covid-19-outbreak/ with URL_ID: 49535.6\n",
            "Saved article from URL: https://insights.blackcoffer.com/how-will-covid-19-affect-the-world-of-work/ with URL_ID: 49997.4\n",
            "Saved article from URL: https://insights.blackcoffer.com/controversy-as-a-marketing-strategy/ with URL_ID: 50459.2\n",
            "Saved article from URL: https://insights.blackcoffer.com/coronavirus-impact-on-the-hospitality-industry/ with URL_ID: 50921.0\n",
            "Saved article from URL: https://insights.blackcoffer.com/coronavirus-impact-on-energy-markets/ with URL_ID: 51382.8\n",
            "Saved article from URL: https://insights.blackcoffer.com/what-are-the-key-policies-that-will-mitigate-the-impacts-of-covid-19-on-the-world-of-work/ with URL_ID: 51844.6\n",
            "Saved article from URL: https://insights.blackcoffer.com/marketing-drives-results-with-a-focus-on-problems/ with URL_ID: 52306.4\n",
            "Saved article from URL: https://insights.blackcoffer.com/continued-demand-for-sustainability/ with URL_ID: 52768.2\n",
            "Extraction and saving completed.\n"
          ]
        }
      ]
    },
    {
      "cell_type": "code",
      "source": [
        "output_structure = pd.read_excel('Output Data Structure.xlsx')"
      ],
      "metadata": {
        "id": "7ZUoBDmvEwSE"
      },
      "execution_count": 20,
      "outputs": []
    },
    {
      "cell_type": "code",
      "source": [
        "result_df = pd.DataFrame(columns=['POSITIVE SCORE','NEGATIVE SCORE','POLARITY SCORE','SUBJECTIVITY SCORE','AVG SENTENCE LENGTH','PERCENTAGE OF COMPLEX WORDS','FOG INDEX','AVG NUMBER OF WORDS PER SENTENCE','COMPLEX WORD COUNT','WORD COUNT','SYLLABLE PER WORD','PERSONAL PRONOUNS','AVG WORD LENGTH'])"
      ],
      "metadata": {
        "id": "gRlaxyZyFSDK"
      },
      "execution_count": 21,
      "outputs": []
    },
    {
      "cell_type": "code",
      "source": [
        "!pip install textstat"
      ],
      "metadata": {
        "colab": {
          "base_uri": "https://localhost:8080/"
        },
        "id": "dyL8d8yYIZBW",
        "outputId": "04eeb0f1-d4da-4ed7-b413-923a4fdc4ab2"
      },
      "execution_count": 17,
      "outputs": [
        {
          "output_type": "stream",
          "name": "stdout",
          "text": [
            "Collecting textstat\n",
            "  Downloading textstat-0.7.3-py3-none-any.whl (105 kB)\n",
            "\u001b[2K     \u001b[90m━━━━━━━━━━━━━━━━━━━━━━━━━━━━━━━━━━━━━━━\u001b[0m \u001b[32m105.1/105.1 kB\u001b[0m \u001b[31m2.6 MB/s\u001b[0m eta \u001b[36m0:00:00\u001b[0m\n",
            "\u001b[?25hCollecting pyphen (from textstat)\n",
            "  Downloading pyphen-0.14.0-py3-none-any.whl (2.0 MB)\n",
            "\u001b[2K     \u001b[90m━━━━━━━━━━━━━━━━━━━━━━━━━━━━━━━━━━━━━━━━\u001b[0m \u001b[32m2.0/2.0 MB\u001b[0m \u001b[31m9.7 MB/s\u001b[0m eta \u001b[36m0:00:00\u001b[0m\n",
            "\u001b[?25hInstalling collected packages: pyphen, textstat\n",
            "Successfully installed pyphen-0.14.0 textstat-0.7.3\n"
          ]
        }
      ]
    },
    {
      "cell_type": "code",
      "source": [
        "import re\n",
        "\n",
        "# Remove punctuation and split text into words\n",
        "words = re.findall(r'\\b\\w+\\b', article_text)\n",
        "\n",
        "# Calculate word count\n",
        "word_count = len(words)"
      ],
      "metadata": {
        "id": "f3DxRBCqKQlG"
      },
      "execution_count": 23,
      "outputs": []
    },
    {
      "cell_type": "code",
      "source": [
        "import textstat\n",
        "\n",
        "# Calculate FOG Index\n",
        "fog_index = textstat.gunning_fog(article_text)"
      ],
      "metadata": {
        "id": "vH17c1RzKUlk"
      },
      "execution_count": 25,
      "outputs": []
    },
    {
      "cell_type": "code",
      "source": [
        "import nltk\n",
        "\n",
        "# Download the \"punkt\" resource\n",
        "nltk.download('punkt')"
      ],
      "metadata": {
        "colab": {
          "base_uri": "https://localhost:8080/"
        },
        "id": "rlP2tL4_KiPm",
        "outputId": "c2737b14-8a2e-4842-89b7-ff0f2887c862"
      },
      "execution_count": 28,
      "outputs": [
        {
          "output_type": "stream",
          "name": "stderr",
          "text": [
            "[nltk_data] Downloading package punkt to /root/nltk_data...\n",
            "[nltk_data]   Unzipping tokenizers/punkt.zip.\n"
          ]
        },
        {
          "output_type": "execute_result",
          "data": {
            "text/plain": [
              "True"
            ]
          },
          "metadata": {},
          "execution_count": 28
        }
      ]
    },
    {
      "cell_type": "code",
      "source": [
        "import nltk\n",
        "\n",
        "# Tokenize sentences using NLTK\n",
        "sentences = nltk.sent_tokenize(article_text)\n",
        "\n",
        "# Calculate average sentence length\n",
        "avg_sentence_length = sum(len(sentence.split()) for sentence in sentences) / len(sentences)"
      ],
      "metadata": {
        "id": "zihzClefKVbq"
      },
      "execution_count": 29,
      "outputs": []
    },
    {
      "cell_type": "code",
      "source": [
        "from nltk.sentiment.vader import SentimentIntensityAnalyzer\n",
        "nltk.download('vader_lexicon')"
      ],
      "metadata": {
        "colab": {
          "base_uri": "https://localhost:8080/"
        },
        "id": "89UfHudbKxpt",
        "outputId": "09029db3-a924-45dc-f8b8-da507867c6f3"
      },
      "execution_count": 33,
      "outputs": [
        {
          "output_type": "stream",
          "name": "stderr",
          "text": [
            "[nltk_data] Downloading package vader_lexicon to /root/nltk_data...\n"
          ]
        },
        {
          "output_type": "execute_result",
          "data": {
            "text/plain": [
              "True"
            ]
          },
          "metadata": {},
          "execution_count": 33
        }
      ]
    },
    {
      "cell_type": "code",
      "source": [
        "from nltk.sentiment.vader import SentimentIntensityAnalyzer\n",
        "\n",
        "# Initialize sentiment analyzer\n",
        "analyzer = SentimentIntensityAnalyzer()\n",
        "\n",
        "# Calculate sentiment scores\n",
        "sentiment_scores = analyzer.polarity_scores(article_text)\n",
        "positive_score = sentiment_scores['pos']\n",
        "negative_score = sentiment_scores['neg']"
      ],
      "metadata": {
        "id": "XeOnxRpsKVXf"
      },
      "execution_count": 34,
      "outputs": []
    },
    {
      "cell_type": "code",
      "source": [
        "sentiment_scores = analyzer.polarity_scores(article_text)\n",
        "\n",
        "# Extract the polarity score\n",
        "polarity_score = sentiment_scores['compound']\n",
        "\n",
        "# Determine sentiment based on the polarity score\n",
        "if polarity_score > 0.05:\n",
        "    sentiment = 'Positive'\n",
        "elif polarity_score < -0.05:\n",
        "    sentiment = 'Negative'\n",
        "else:\n",
        "    sentiment = 'Neutral'\n",
        "\n",
        "# Print the results\n",
        "print(f\"Polarity Score: {polarity_score}\")\n",
        "print(f\"Sentiment: {sentiment}\")"
      ],
      "metadata": {
        "colab": {
          "base_uri": "https://localhost:8080/"
        },
        "id": "mouQQMl-LFXb",
        "outputId": "3aa84703-644d-4c3a-d799-f6bfe626febd"
      },
      "execution_count": 36,
      "outputs": [
        {
          "output_type": "stream",
          "name": "stdout",
          "text": [
            "Polarity Score: 0.9994\n",
            "Sentiment: Positive\n"
          ]
        }
      ]
    },
    {
      "cell_type": "code",
      "source": [
        "from textblob import TextBlob\n",
        "\n",
        "# Create a TextBlob object for sentiment analysis\n",
        "blob = TextBlob(article_text)\n",
        "\n",
        "# Calculate the subjectivity score (ranges from 0 to 1)\n",
        "subjectivity_score = blob.sentiment.subjectivity\n",
        "\n",
        "# Print the result\n",
        "print(f\"Subjectivity Score: {subjectivity_score}\")"
      ],
      "metadata": {
        "colab": {
          "base_uri": "https://localhost:8080/"
        },
        "id": "_Z2mONwpLXBa",
        "outputId": "4579d6cd-401b-48bb-e9a8-55c6362f9cd1"
      },
      "execution_count": 43,
      "outputs": [
        {
          "output_type": "stream",
          "name": "stdout",
          "text": [
            "Subjectivity Score: 0.4334609379691348\n"
          ]
        }
      ]
    },
    {
      "cell_type": "code",
      "source": [
        "words = article_text.split()\n",
        "\n",
        "# Initialize a counter for complex words\n",
        "complex_word_count = 0\n",
        "\n",
        "# Iterate through the words and count complex words\n",
        "for word in words:\n",
        "    # Calculate the number of syllables in the word\n",
        "    syllable_count = textstat.syllable_count(word)\n",
        "\n",
        "    # Define a threshold for syllables (e.g., words with 3 or more syllables are considered complex)\n",
        "    complexity_threshold = 3\n",
        "\n",
        "    # Check if the word is complex based on the threshold\n",
        "    if syllable_count >= complexity_threshold:\n",
        "        complex_word_count += 1\n",
        "\n",
        "# Calculate the percentage of complex words\n",
        "total_words = len(words)\n",
        "percentage_of_complex_words = (complex_word_count / total_words) * 100\n",
        "\n",
        "# Print the result\n",
        "print(f\"Percentage of Complex Words: {percentage_of_complex_words:.2f}%\")"
      ],
      "metadata": {
        "colab": {
          "base_uri": "https://localhost:8080/"
        },
        "id": "U6WhvfskLqqd",
        "outputId": "abd445d3-447a-49ad-9fa0-3f5cf8fca078"
      },
      "execution_count": 42,
      "outputs": [
        {
          "output_type": "stream",
          "name": "stdout",
          "text": [
            "Percentage of Complex Words: 16.18%\n"
          ]
        }
      ]
    },
    {
      "cell_type": "code",
      "source": [
        "sentences = article_text.split('.')\n",
        "avg_sentence_length = sum(len(sentence.split()) for sentence in sentences) / len(sentences)"
      ],
      "metadata": {
        "id": "dVEZswjFL6ks"
      },
      "execution_count": 46,
      "outputs": []
    },
    {
      "cell_type": "code",
      "source": [
        "words_per_sentence = [len(nltk.word_tokenize(sentence)) for sentence in sentences]\n",
        "\n",
        "# Calculate the average words per sentence\n",
        "avg_words_per_sentence = sum(words_per_sentence) / len(sentences)\n",
        "\n",
        "# Print the result\n",
        "print(f\"Average Words Per Sentence: {avg_words_per_sentence:.2f}\")"
      ],
      "metadata": {
        "colab": {
          "base_uri": "https://localhost:8080/"
        },
        "id": "e_2azuITMJNt",
        "outputId": "8b1cc3e0-0388-4ad3-aa0a-2bebc8f4195c"
      },
      "execution_count": 50,
      "outputs": [
        {
          "output_type": "stream",
          "name": "stdout",
          "text": [
            "Average Words Per Sentence: 22.47\n"
          ]
        }
      ]
    },
    {
      "cell_type": "code",
      "source": [
        "total_syllables = sum(textstat.syllable_count(word) for word in article_text.split())\n",
        "syllable_per_word = total_syllables / word_count"
      ],
      "metadata": {
        "id": "JpQ2rQCXM9Ns"
      },
      "execution_count": 54,
      "outputs": []
    },
    {
      "cell_type": "code",
      "source": [
        "personal_pronouns = sum(1 for word in article_text.split() if word.lower() in ['i', 'me', 'my', 'mine', 'myself'])"
      ],
      "metadata": {
        "id": "RJ4Lo0QhNpqM"
      },
      "execution_count": 56,
      "outputs": []
    },
    {
      "cell_type": "code",
      "source": [
        "avg_word_length = sum(len(word) for word in article_text.split()) / word_count"
      ],
      "metadata": {
        "id": "VwoHPtMCNvP-"
      },
      "execution_count": 57,
      "outputs": []
    },
    {
      "cell_type": "code",
      "source": [
        "import textstat  # You'll need the 'textstat' library for some of the calculations\n",
        "\n",
        "# Define the DataFrame with the specified columns\n",
        "result_df = pd.DataFrame(columns=['POSITIVE SCORE', 'NEGATIVE SCORE', 'POLARITY SCORE', 'SUBJECTIVITY SCORE',\n",
        "                                  'AVG SENTENCE LENGTH', 'PERCENTAGE OF COMPLEX WORDS', 'FOG INDEX',\n",
        "                                  'AVG NUMBER OF WORDS PER SENTENCE', 'COMPLEX WORD COUNT', 'WORD COUNT',\n",
        "                                  'SYLLABLE PER WORD', 'PERSONAL PRONOUNS', 'AVG WORD LENGTH'])\n",
        "\n",
        "# Assuming you have the article texts in a list called article_texts\n",
        "for index, article_text in enumerate(article_texts):\n",
        "    # Perform textual analysis and calculate the variables here\n",
        "    # You will need to use appropriate libraries and functions for each calculation\n",
        "\n",
        "    # Example: Calculate word count\n",
        "    word_count = len(article_text.split())\n",
        "\n",
        "    # Example: Calculate Flesch-Kincaid Grade Level (FOG) Index\n",
        "    fog_index = textstat.gunning_fog(article_text)\n",
        "\n",
        "    # Example: Calculate average sentence length\n",
        "    # You may need to use NLTK or other libraries for more advanced analysis\n",
        "    # Sentence tokenization can be done with NLTK's sent_tokenize function\n",
        "    sentences = article_text.split('.')\n",
        "    avg_sentence_length = sum(len(sentence.split()) for sentence in sentences) / len(sentences)\n",
        "\n",
        "    # Add the results to the DataFrame\n",
        "    result_df.loc[index] = [positive_score, negative_score, polarity_score, subjectivity_score,\n",
        "                            avg_sentence_length, percentage_of_complex_words, fog_index,\n",
        "                            avg_words_per_sentence, complex_word_count, word_count,\n",
        "                            syllable_per_word, personal_pronouns, avg_word_length]\n",
        "\n",
        "# Save the results to an Excel file\n",
        "result_df.to_excel('output_results.xlsx', index=False)\n"
      ],
      "metadata": {
        "id": "wnSmh7l0GHGU"
      },
      "execution_count": 58,
      "outputs": []
    },
    {
      "cell_type": "code",
      "source": [],
      "metadata": {
        "id": "FPQlAfRRIHZJ"
      },
      "execution_count": null,
      "outputs": []
    }
  ]
}