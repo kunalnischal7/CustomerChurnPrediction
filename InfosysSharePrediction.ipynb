{
  "cells": [
    {
      "cell_type": "markdown",
      "metadata": {
        "id": "view-in-github",
        "colab_type": "text"
      },
      "source": [
        "<a href=\"https://colab.research.google.com/github/kunalnischal7/CustomerChurnPrediction/blob/main/InfosysSharePrediction.ipynb\" target=\"_parent\"><img src=\"https://colab.research.google.com/assets/colab-badge.svg\" alt=\"Open In Colab\"/></a>"
      ]
    },
    {
      "cell_type": "markdown",
      "metadata": {
        "id": "WCONTQWM8VtP"
      },
      "source": [
        "# Data Preprocessing"
      ]
    },
    {
      "cell_type": "markdown",
      "metadata": {
        "id": "siliyuE18gaa"
      },
      "source": [
        "## Import Libraries"
      ]
    },
    {
      "cell_type": "code",
      "execution_count": 84,
      "metadata": {
        "id": "dF5tldb178Oe"
      },
      "outputs": [],
      "source": [
        "import pandas as pd\n",
        "import numpy as np\n",
        "from sklearn.metrics import mean_squared_error\n",
        "from sklearn.preprocessing import MinMaxScaler\n",
        "from sklearn.model_selection import train_test_split\n",
        "from sklearn.ensemble import RandomForestRegressor\n",
        "from sklearn.metrics import mean_squared_error, mean_absolute_error"
      ]
    },
    {
      "cell_type": "markdown",
      "metadata": {
        "id": "rWJ5NPl28mLY"
      },
      "source": [
        "## Import Dataset from Google Drive"
      ]
    },
    {
      "cell_type": "code",
      "execution_count": 85,
      "metadata": {
        "colab": {
          "base_uri": "https://localhost:8080/"
        },
        "id": "HA3JJ6JU78lg",
        "outputId": "6c046c39-97cb-4335-f1f1-feb227e6af39"
      },
      "outputs": [
        {
          "output_type": "stream",
          "name": "stdout",
          "text": [
            "Drive already mounted at /content/drive; to attempt to forcibly remount, call drive.mount(\"/content/drive\", force_remount=True).\n"
          ]
        }
      ],
      "source": [
        "from google.colab import drive\n",
        "drive.mount('/content/drive')"
      ]
    },
    {
      "cell_type": "code",
      "execution_count": 86,
      "metadata": {
        "colab": {
          "base_uri": "https://localhost:8080/"
        },
        "id": "LtGTXBdQ7-Fd",
        "outputId": "43a44621-18be-4ced-a13d-dafadab0e0ab"
      },
      "outputs": [
        {
          "output_type": "stream",
          "name": "stdout",
          "text": [
            "/content/drive/My Drive\n"
          ]
        }
      ],
      "source": [
        "%cd \"/content/drive/My Drive/\""
      ]
    },
    {
      "cell_type": "markdown",
      "metadata": {
        "id": "bR9iKQFG8xJM"
      },
      "source": [
        "# Load Data"
      ]
    },
    {
      "cell_type": "code",
      "execution_count": 87,
      "metadata": {
        "id": "gFH6IoSj8CEs"
      },
      "outputs": [],
      "source": [
        "file_path = 'INFY.NS_stock_data.csv'"
      ]
    },
    {
      "cell_type": "code",
      "execution_count": 88,
      "metadata": {
        "id": "k1FKrD5t8Nzb"
      },
      "outputs": [],
      "source": [
        "df = pd.read_csv(file_path)"
      ]
    },
    {
      "cell_type": "code",
      "execution_count": 89,
      "metadata": {
        "colab": {
          "base_uri": "https://localhost:8080/",
          "height": 419
        },
        "id": "sfN_3oCV8Ql2",
        "outputId": "989e5204-9e44-4c76-d200-3e6d2c100f37"
      },
      "outputs": [
        {
          "output_type": "execute_result",
          "data": {
            "text/plain": [
              "      Unnamed: 0         open         high          low        close  \\\n",
              "0     1996-01-01     0.794921     0.796679     0.791015     0.796679   \n",
              "1     1996-01-02     0.794921     0.798828     0.793457     0.793457   \n",
              "2     1996-01-03     0.798828     0.798828     0.798828     0.798828   \n",
              "3     1996-01-04     0.791015     0.794921     0.791015     0.793554   \n",
              "4     1996-01-05     0.784179     0.784179     0.784179     0.784179   \n",
              "...          ...          ...          ...          ...          ...   \n",
              "7119  2024-04-23  1443.000000  1446.849976  1433.000000  1442.400024   \n",
              "7120  2024-04-24  1444.300049  1444.300049  1427.050049  1430.750000   \n",
              "7121  2024-04-25  1420.000000  1444.900024  1420.000000  1438.449951   \n",
              "7122  2024-04-26  1439.699951  1445.400024  1427.000000  1430.250000   \n",
              "7123  2024-04-29  1429.949951  1439.800049  1428.250000  1434.750000   \n",
              "\n",
              "         adjclose     volume   ticker  \n",
              "0        0.524797   204800.0  INFY.NS  \n",
              "1        0.522674   204800.0  INFY.NS  \n",
              "2        0.526212   102400.0  INFY.NS  \n",
              "3        0.522738   307200.0  INFY.NS  \n",
              "4        0.516563    51200.0  INFY.NS  \n",
              "...           ...        ...      ...  \n",
              "7119  1442.400024  4856174.0  INFY.NS  \n",
              "7120  1430.750000  4268213.0  INFY.NS  \n",
              "7121  1438.449951  9089398.0  INFY.NS  \n",
              "7122  1430.250000  8062444.0  INFY.NS  \n",
              "7123  1434.750000  5054777.0  INFY.NS  \n",
              "\n",
              "[7124 rows x 8 columns]"
            ],
            "text/html": [
              "\n",
              "  <div id=\"df-cbf2b3d2-8d43-4f86-aba3-c138dafc4b27\" class=\"colab-df-container\">\n",
              "    <div>\n",
              "<style scoped>\n",
              "    .dataframe tbody tr th:only-of-type {\n",
              "        vertical-align: middle;\n",
              "    }\n",
              "\n",
              "    .dataframe tbody tr th {\n",
              "        vertical-align: top;\n",
              "    }\n",
              "\n",
              "    .dataframe thead th {\n",
              "        text-align: right;\n",
              "    }\n",
              "</style>\n",
              "<table border=\"1\" class=\"dataframe\">\n",
              "  <thead>\n",
              "    <tr style=\"text-align: right;\">\n",
              "      <th></th>\n",
              "      <th>Unnamed: 0</th>\n",
              "      <th>open</th>\n",
              "      <th>high</th>\n",
              "      <th>low</th>\n",
              "      <th>close</th>\n",
              "      <th>adjclose</th>\n",
              "      <th>volume</th>\n",
              "      <th>ticker</th>\n",
              "    </tr>\n",
              "  </thead>\n",
              "  <tbody>\n",
              "    <tr>\n",
              "      <th>0</th>\n",
              "      <td>1996-01-01</td>\n",
              "      <td>0.794921</td>\n",
              "      <td>0.796679</td>\n",
              "      <td>0.791015</td>\n",
              "      <td>0.796679</td>\n",
              "      <td>0.524797</td>\n",
              "      <td>204800.0</td>\n",
              "      <td>INFY.NS</td>\n",
              "    </tr>\n",
              "    <tr>\n",
              "      <th>1</th>\n",
              "      <td>1996-01-02</td>\n",
              "      <td>0.794921</td>\n",
              "      <td>0.798828</td>\n",
              "      <td>0.793457</td>\n",
              "      <td>0.793457</td>\n",
              "      <td>0.522674</td>\n",
              "      <td>204800.0</td>\n",
              "      <td>INFY.NS</td>\n",
              "    </tr>\n",
              "    <tr>\n",
              "      <th>2</th>\n",
              "      <td>1996-01-03</td>\n",
              "      <td>0.798828</td>\n",
              "      <td>0.798828</td>\n",
              "      <td>0.798828</td>\n",
              "      <td>0.798828</td>\n",
              "      <td>0.526212</td>\n",
              "      <td>102400.0</td>\n",
              "      <td>INFY.NS</td>\n",
              "    </tr>\n",
              "    <tr>\n",
              "      <th>3</th>\n",
              "      <td>1996-01-04</td>\n",
              "      <td>0.791015</td>\n",
              "      <td>0.794921</td>\n",
              "      <td>0.791015</td>\n",
              "      <td>0.793554</td>\n",
              "      <td>0.522738</td>\n",
              "      <td>307200.0</td>\n",
              "      <td>INFY.NS</td>\n",
              "    </tr>\n",
              "    <tr>\n",
              "      <th>4</th>\n",
              "      <td>1996-01-05</td>\n",
              "      <td>0.784179</td>\n",
              "      <td>0.784179</td>\n",
              "      <td>0.784179</td>\n",
              "      <td>0.784179</td>\n",
              "      <td>0.516563</td>\n",
              "      <td>51200.0</td>\n",
              "      <td>INFY.NS</td>\n",
              "    </tr>\n",
              "    <tr>\n",
              "      <th>...</th>\n",
              "      <td>...</td>\n",
              "      <td>...</td>\n",
              "      <td>...</td>\n",
              "      <td>...</td>\n",
              "      <td>...</td>\n",
              "      <td>...</td>\n",
              "      <td>...</td>\n",
              "      <td>...</td>\n",
              "    </tr>\n",
              "    <tr>\n",
              "      <th>7119</th>\n",
              "      <td>2024-04-23</td>\n",
              "      <td>1443.000000</td>\n",
              "      <td>1446.849976</td>\n",
              "      <td>1433.000000</td>\n",
              "      <td>1442.400024</td>\n",
              "      <td>1442.400024</td>\n",
              "      <td>4856174.0</td>\n",
              "      <td>INFY.NS</td>\n",
              "    </tr>\n",
              "    <tr>\n",
              "      <th>7120</th>\n",
              "      <td>2024-04-24</td>\n",
              "      <td>1444.300049</td>\n",
              "      <td>1444.300049</td>\n",
              "      <td>1427.050049</td>\n",
              "      <td>1430.750000</td>\n",
              "      <td>1430.750000</td>\n",
              "      <td>4268213.0</td>\n",
              "      <td>INFY.NS</td>\n",
              "    </tr>\n",
              "    <tr>\n",
              "      <th>7121</th>\n",
              "      <td>2024-04-25</td>\n",
              "      <td>1420.000000</td>\n",
              "      <td>1444.900024</td>\n",
              "      <td>1420.000000</td>\n",
              "      <td>1438.449951</td>\n",
              "      <td>1438.449951</td>\n",
              "      <td>9089398.0</td>\n",
              "      <td>INFY.NS</td>\n",
              "    </tr>\n",
              "    <tr>\n",
              "      <th>7122</th>\n",
              "      <td>2024-04-26</td>\n",
              "      <td>1439.699951</td>\n",
              "      <td>1445.400024</td>\n",
              "      <td>1427.000000</td>\n",
              "      <td>1430.250000</td>\n",
              "      <td>1430.250000</td>\n",
              "      <td>8062444.0</td>\n",
              "      <td>INFY.NS</td>\n",
              "    </tr>\n",
              "    <tr>\n",
              "      <th>7123</th>\n",
              "      <td>2024-04-29</td>\n",
              "      <td>1429.949951</td>\n",
              "      <td>1439.800049</td>\n",
              "      <td>1428.250000</td>\n",
              "      <td>1434.750000</td>\n",
              "      <td>1434.750000</td>\n",
              "      <td>5054777.0</td>\n",
              "      <td>INFY.NS</td>\n",
              "    </tr>\n",
              "  </tbody>\n",
              "</table>\n",
              "<p>7124 rows × 8 columns</p>\n",
              "</div>\n",
              "    <div class=\"colab-df-buttons\">\n",
              "\n",
              "  <div class=\"colab-df-container\">\n",
              "    <button class=\"colab-df-convert\" onclick=\"convertToInteractive('df-cbf2b3d2-8d43-4f86-aba3-c138dafc4b27')\"\n",
              "            title=\"Convert this dataframe to an interactive table.\"\n",
              "            style=\"display:none;\">\n",
              "\n",
              "  <svg xmlns=\"http://www.w3.org/2000/svg\" height=\"24px\" viewBox=\"0 -960 960 960\">\n",
              "    <path d=\"M120-120v-720h720v720H120Zm60-500h600v-160H180v160Zm220 220h160v-160H400v160Zm0 220h160v-160H400v160ZM180-400h160v-160H180v160Zm440 0h160v-160H620v160ZM180-180h160v-160H180v160Zm440 0h160v-160H620v160Z\"/>\n",
              "  </svg>\n",
              "    </button>\n",
              "\n",
              "  <style>\n",
              "    .colab-df-container {\n",
              "      display:flex;\n",
              "      gap: 12px;\n",
              "    }\n",
              "\n",
              "    .colab-df-convert {\n",
              "      background-color: #E8F0FE;\n",
              "      border: none;\n",
              "      border-radius: 50%;\n",
              "      cursor: pointer;\n",
              "      display: none;\n",
              "      fill: #1967D2;\n",
              "      height: 32px;\n",
              "      padding: 0 0 0 0;\n",
              "      width: 32px;\n",
              "    }\n",
              "\n",
              "    .colab-df-convert:hover {\n",
              "      background-color: #E2EBFA;\n",
              "      box-shadow: 0px 1px 2px rgba(60, 64, 67, 0.3), 0px 1px 3px 1px rgba(60, 64, 67, 0.15);\n",
              "      fill: #174EA6;\n",
              "    }\n",
              "\n",
              "    .colab-df-buttons div {\n",
              "      margin-bottom: 4px;\n",
              "    }\n",
              "\n",
              "    [theme=dark] .colab-df-convert {\n",
              "      background-color: #3B4455;\n",
              "      fill: #D2E3FC;\n",
              "    }\n",
              "\n",
              "    [theme=dark] .colab-df-convert:hover {\n",
              "      background-color: #434B5C;\n",
              "      box-shadow: 0px 1px 3px 1px rgba(0, 0, 0, 0.15);\n",
              "      filter: drop-shadow(0px 1px 2px rgba(0, 0, 0, 0.3));\n",
              "      fill: #FFFFFF;\n",
              "    }\n",
              "  </style>\n",
              "\n",
              "    <script>\n",
              "      const buttonEl =\n",
              "        document.querySelector('#df-cbf2b3d2-8d43-4f86-aba3-c138dafc4b27 button.colab-df-convert');\n",
              "      buttonEl.style.display =\n",
              "        google.colab.kernel.accessAllowed ? 'block' : 'none';\n",
              "\n",
              "      async function convertToInteractive(key) {\n",
              "        const element = document.querySelector('#df-cbf2b3d2-8d43-4f86-aba3-c138dafc4b27');\n",
              "        const dataTable =\n",
              "          await google.colab.kernel.invokeFunction('convertToInteractive',\n",
              "                                                    [key], {});\n",
              "        if (!dataTable) return;\n",
              "\n",
              "        const docLinkHtml = 'Like what you see? Visit the ' +\n",
              "          '<a target=\"_blank\" href=https://colab.research.google.com/notebooks/data_table.ipynb>data table notebook</a>'\n",
              "          + ' to learn more about interactive tables.';\n",
              "        element.innerHTML = '';\n",
              "        dataTable['output_type'] = 'display_data';\n",
              "        await google.colab.output.renderOutput(dataTable, element);\n",
              "        const docLink = document.createElement('div');\n",
              "        docLink.innerHTML = docLinkHtml;\n",
              "        element.appendChild(docLink);\n",
              "      }\n",
              "    </script>\n",
              "  </div>\n",
              "\n",
              "\n",
              "<div id=\"df-07f86b24-b4a5-48a4-aef5-3f1f075d3dfe\">\n",
              "  <button class=\"colab-df-quickchart\" onclick=\"quickchart('df-07f86b24-b4a5-48a4-aef5-3f1f075d3dfe')\"\n",
              "            title=\"Suggest charts\"\n",
              "            style=\"display:none;\">\n",
              "\n",
              "<svg xmlns=\"http://www.w3.org/2000/svg\" height=\"24px\"viewBox=\"0 0 24 24\"\n",
              "     width=\"24px\">\n",
              "    <g>\n",
              "        <path d=\"M19 3H5c-1.1 0-2 .9-2 2v14c0 1.1.9 2 2 2h14c1.1 0 2-.9 2-2V5c0-1.1-.9-2-2-2zM9 17H7v-7h2v7zm4 0h-2V7h2v10zm4 0h-2v-4h2v4z\"/>\n",
              "    </g>\n",
              "</svg>\n",
              "  </button>\n",
              "\n",
              "<style>\n",
              "  .colab-df-quickchart {\n",
              "      --bg-color: #E8F0FE;\n",
              "      --fill-color: #1967D2;\n",
              "      --hover-bg-color: #E2EBFA;\n",
              "      --hover-fill-color: #174EA6;\n",
              "      --disabled-fill-color: #AAA;\n",
              "      --disabled-bg-color: #DDD;\n",
              "  }\n",
              "\n",
              "  [theme=dark] .colab-df-quickchart {\n",
              "      --bg-color: #3B4455;\n",
              "      --fill-color: #D2E3FC;\n",
              "      --hover-bg-color: #434B5C;\n",
              "      --hover-fill-color: #FFFFFF;\n",
              "      --disabled-bg-color: #3B4455;\n",
              "      --disabled-fill-color: #666;\n",
              "  }\n",
              "\n",
              "  .colab-df-quickchart {\n",
              "    background-color: var(--bg-color);\n",
              "    border: none;\n",
              "    border-radius: 50%;\n",
              "    cursor: pointer;\n",
              "    display: none;\n",
              "    fill: var(--fill-color);\n",
              "    height: 32px;\n",
              "    padding: 0;\n",
              "    width: 32px;\n",
              "  }\n",
              "\n",
              "  .colab-df-quickchart:hover {\n",
              "    background-color: var(--hover-bg-color);\n",
              "    box-shadow: 0 1px 2px rgba(60, 64, 67, 0.3), 0 1px 3px 1px rgba(60, 64, 67, 0.15);\n",
              "    fill: var(--button-hover-fill-color);\n",
              "  }\n",
              "\n",
              "  .colab-df-quickchart-complete:disabled,\n",
              "  .colab-df-quickchart-complete:disabled:hover {\n",
              "    background-color: var(--disabled-bg-color);\n",
              "    fill: var(--disabled-fill-color);\n",
              "    box-shadow: none;\n",
              "  }\n",
              "\n",
              "  .colab-df-spinner {\n",
              "    border: 2px solid var(--fill-color);\n",
              "    border-color: transparent;\n",
              "    border-bottom-color: var(--fill-color);\n",
              "    animation:\n",
              "      spin 1s steps(1) infinite;\n",
              "  }\n",
              "\n",
              "  @keyframes spin {\n",
              "    0% {\n",
              "      border-color: transparent;\n",
              "      border-bottom-color: var(--fill-color);\n",
              "      border-left-color: var(--fill-color);\n",
              "    }\n",
              "    20% {\n",
              "      border-color: transparent;\n",
              "      border-left-color: var(--fill-color);\n",
              "      border-top-color: var(--fill-color);\n",
              "    }\n",
              "    30% {\n",
              "      border-color: transparent;\n",
              "      border-left-color: var(--fill-color);\n",
              "      border-top-color: var(--fill-color);\n",
              "      border-right-color: var(--fill-color);\n",
              "    }\n",
              "    40% {\n",
              "      border-color: transparent;\n",
              "      border-right-color: var(--fill-color);\n",
              "      border-top-color: var(--fill-color);\n",
              "    }\n",
              "    60% {\n",
              "      border-color: transparent;\n",
              "      border-right-color: var(--fill-color);\n",
              "    }\n",
              "    80% {\n",
              "      border-color: transparent;\n",
              "      border-right-color: var(--fill-color);\n",
              "      border-bottom-color: var(--fill-color);\n",
              "    }\n",
              "    90% {\n",
              "      border-color: transparent;\n",
              "      border-bottom-color: var(--fill-color);\n",
              "    }\n",
              "  }\n",
              "</style>\n",
              "\n",
              "  <script>\n",
              "    async function quickchart(key) {\n",
              "      const quickchartButtonEl =\n",
              "        document.querySelector('#' + key + ' button');\n",
              "      quickchartButtonEl.disabled = true;  // To prevent multiple clicks.\n",
              "      quickchartButtonEl.classList.add('colab-df-spinner');\n",
              "      try {\n",
              "        const charts = await google.colab.kernel.invokeFunction(\n",
              "            'suggestCharts', [key], {});\n",
              "      } catch (error) {\n",
              "        console.error('Error during call to suggestCharts:', error);\n",
              "      }\n",
              "      quickchartButtonEl.classList.remove('colab-df-spinner');\n",
              "      quickchartButtonEl.classList.add('colab-df-quickchart-complete');\n",
              "    }\n",
              "    (() => {\n",
              "      let quickchartButtonEl =\n",
              "        document.querySelector('#df-07f86b24-b4a5-48a4-aef5-3f1f075d3dfe button');\n",
              "      quickchartButtonEl.style.display =\n",
              "        google.colab.kernel.accessAllowed ? 'block' : 'none';\n",
              "    })();\n",
              "  </script>\n",
              "</div>\n",
              "\n",
              "  <div id=\"id_cf39a961-3cd6-4f36-8463-6792025667cb\">\n",
              "    <style>\n",
              "      .colab-df-generate {\n",
              "        background-color: #E8F0FE;\n",
              "        border: none;\n",
              "        border-radius: 50%;\n",
              "        cursor: pointer;\n",
              "        display: none;\n",
              "        fill: #1967D2;\n",
              "        height: 32px;\n",
              "        padding: 0 0 0 0;\n",
              "        width: 32px;\n",
              "      }\n",
              "\n",
              "      .colab-df-generate:hover {\n",
              "        background-color: #E2EBFA;\n",
              "        box-shadow: 0px 1px 2px rgba(60, 64, 67, 0.3), 0px 1px 3px 1px rgba(60, 64, 67, 0.15);\n",
              "        fill: #174EA6;\n",
              "      }\n",
              "\n",
              "      [theme=dark] .colab-df-generate {\n",
              "        background-color: #3B4455;\n",
              "        fill: #D2E3FC;\n",
              "      }\n",
              "\n",
              "      [theme=dark] .colab-df-generate:hover {\n",
              "        background-color: #434B5C;\n",
              "        box-shadow: 0px 1px 3px 1px rgba(0, 0, 0, 0.15);\n",
              "        filter: drop-shadow(0px 1px 2px rgba(0, 0, 0, 0.3));\n",
              "        fill: #FFFFFF;\n",
              "      }\n",
              "    </style>\n",
              "    <button class=\"colab-df-generate\" onclick=\"generateWithVariable('df')\"\n",
              "            title=\"Generate code using this dataframe.\"\n",
              "            style=\"display:none;\">\n",
              "\n",
              "  <svg xmlns=\"http://www.w3.org/2000/svg\" height=\"24px\"viewBox=\"0 0 24 24\"\n",
              "       width=\"24px\">\n",
              "    <path d=\"M7,19H8.4L18.45,9,17,7.55,7,17.6ZM5,21V16.75L18.45,3.32a2,2,0,0,1,2.83,0l1.4,1.43a1.91,1.91,0,0,1,.58,1.4,1.91,1.91,0,0,1-.58,1.4L9.25,21ZM18.45,9,17,7.55Zm-12,3A5.31,5.31,0,0,0,4.9,8.1,5.31,5.31,0,0,0,1,6.5,5.31,5.31,0,0,0,4.9,4.9,5.31,5.31,0,0,0,6.5,1,5.31,5.31,0,0,0,8.1,4.9,5.31,5.31,0,0,0,12,6.5,5.46,5.46,0,0,0,6.5,12Z\"/>\n",
              "  </svg>\n",
              "    </button>\n",
              "    <script>\n",
              "      (() => {\n",
              "      const buttonEl =\n",
              "        document.querySelector('#id_cf39a961-3cd6-4f36-8463-6792025667cb button.colab-df-generate');\n",
              "      buttonEl.style.display =\n",
              "        google.colab.kernel.accessAllowed ? 'block' : 'none';\n",
              "\n",
              "      buttonEl.onclick = () => {\n",
              "        google.colab.notebook.generateWithVariable('df');\n",
              "      }\n",
              "      })();\n",
              "    </script>\n",
              "  </div>\n",
              "\n",
              "    </div>\n",
              "  </div>\n"
            ],
            "application/vnd.google.colaboratory.intrinsic+json": {
              "type": "dataframe",
              "variable_name": "df",
              "summary": "{\n  \"name\": \"df\",\n  \"rows\": 7124,\n  \"fields\": [\n    {\n      \"column\": \"Unnamed: 0\",\n      \"properties\": {\n        \"dtype\": \"object\",\n        \"num_unique_values\": 7124,\n        \"samples\": [\n          \"2010-02-17\",\n          \"2003-10-17\",\n          \"2001-12-26\"\n        ],\n        \"semantic_type\": \"\",\n        \"description\": \"\"\n      }\n    },\n    {\n      \"column\": \"open\",\n      \"properties\": {\n        \"dtype\": \"number\",\n        \"std\": 461.6864829742223,\n        \"min\": 0.7631829977035522,\n        \"max\": 1938.550048828125,\n        \"num_unique_values\": 5681,\n        \"samples\": [\n          106.0484390258789,\n          157.96875,\n          83.1148452758789\n        ],\n        \"semantic_type\": \"\",\n        \"description\": \"\"\n      }\n    },\n    {\n      \"column\": \"high\",\n      \"properties\": {\n        \"dtype\": \"number\",\n        \"std\": 465.73510901561104,\n        \"min\": 0.765625,\n        \"max\": 1953.9000244140625,\n        \"num_unique_values\": 6136,\n        \"samples\": [\n          525.4000244140625,\n          385.625,\n          1598.199951171875\n        ],\n        \"semantic_type\": \"\",\n        \"description\": \"\"\n      }\n    },\n    {\n      \"column\": \"low\",\n      \"properties\": {\n        \"dtype\": \"number\",\n        \"std\": 457.37282964092634,\n        \"min\": 0.7128900289535522,\n        \"max\": 1930.5,\n        \"num_unique_values\": 6340,\n        \"samples\": [\n          19.6171875,\n          1438.050048828125,\n          265.0\n        ],\n        \"semantic_type\": \"\",\n        \"description\": \"\"\n      }\n    },\n    {\n      \"column\": \"close\",\n      \"properties\": {\n        \"dtype\": \"number\",\n        \"std\": 461.55075049851433,\n        \"min\": 0.7631829977035522,\n        \"max\": 1939.5,\n        \"num_unique_values\": 6784,\n        \"samples\": [\n          199.8062438964844,\n          57.32500076293945,\n          732.0\n        ],\n        \"semantic_type\": \"\",\n        \"description\": \"\"\n      }\n    },\n    {\n      \"column\": \"adjclose\",\n      \"properties\": {\n        \"dtype\": \"number\",\n        \"std\": 450.4486855497283,\n        \"min\": 0.5027320981025696,\n        \"max\": 1849.313232421875,\n        \"num_unique_values\": 6912,\n        \"samples\": [\n          83.27157592773438,\n          122.12918090820312,\n          1774.55859375\n        ],\n        \"semantic_type\": \"\",\n        \"description\": \"\"\n      }\n    },\n    {\n      \"column\": \"volume\",\n      \"properties\": {\n        \"dtype\": \"number\",\n        \"std\": 15676481.847091904,\n        \"min\": 0.0,\n        \"max\": 276615040.0,\n        \"num_unique_values\": 6645,\n        \"samples\": [\n          7097544.0,\n          36261888.0,\n          41770816.0\n        ],\n        \"semantic_type\": \"\",\n        \"description\": \"\"\n      }\n    },\n    {\n      \"column\": \"ticker\",\n      \"properties\": {\n        \"dtype\": \"category\",\n        \"num_unique_values\": 1,\n        \"samples\": [\n          \"INFY.NS\"\n        ],\n        \"semantic_type\": \"\",\n        \"description\": \"\"\n      }\n    }\n  ]\n}"
            }
          },
          "metadata": {},
          "execution_count": 89
        }
      ],
      "source": [
        "df"
      ]
    },
    {
      "cell_type": "markdown",
      "metadata": {
        "id": "or0zhgKO84ca"
      },
      "source": [
        "## Data Preparation"
      ]
    },
    {
      "cell_type": "code",
      "execution_count": 90,
      "metadata": {
        "colab": {
          "base_uri": "https://localhost:8080/",
          "height": 331
        },
        "id": "zVn0a3Fz8ShG",
        "outputId": "e52c6344-b304-4908-b5a7-a72272186016"
      },
      "outputs": [
        {
          "output_type": "execute_result",
          "data": {
            "text/plain": [
              "Unnamed: 0    0\n",
              "open          7\n",
              "high          7\n",
              "low           7\n",
              "close         7\n",
              "adjclose      7\n",
              "volume        7\n",
              "ticker        0\n",
              "dtype: int64"
            ],
            "text/html": [
              "<div>\n",
              "<style scoped>\n",
              "    .dataframe tbody tr th:only-of-type {\n",
              "        vertical-align: middle;\n",
              "    }\n",
              "\n",
              "    .dataframe tbody tr th {\n",
              "        vertical-align: top;\n",
              "    }\n",
              "\n",
              "    .dataframe thead th {\n",
              "        text-align: right;\n",
              "    }\n",
              "</style>\n",
              "<table border=\"1\" class=\"dataframe\">\n",
              "  <thead>\n",
              "    <tr style=\"text-align: right;\">\n",
              "      <th></th>\n",
              "      <th>0</th>\n",
              "    </tr>\n",
              "  </thead>\n",
              "  <tbody>\n",
              "    <tr>\n",
              "      <th>Unnamed: 0</th>\n",
              "      <td>0</td>\n",
              "    </tr>\n",
              "    <tr>\n",
              "      <th>open</th>\n",
              "      <td>7</td>\n",
              "    </tr>\n",
              "    <tr>\n",
              "      <th>high</th>\n",
              "      <td>7</td>\n",
              "    </tr>\n",
              "    <tr>\n",
              "      <th>low</th>\n",
              "      <td>7</td>\n",
              "    </tr>\n",
              "    <tr>\n",
              "      <th>close</th>\n",
              "      <td>7</td>\n",
              "    </tr>\n",
              "    <tr>\n",
              "      <th>adjclose</th>\n",
              "      <td>7</td>\n",
              "    </tr>\n",
              "    <tr>\n",
              "      <th>volume</th>\n",
              "      <td>7</td>\n",
              "    </tr>\n",
              "    <tr>\n",
              "      <th>ticker</th>\n",
              "      <td>0</td>\n",
              "    </tr>\n",
              "  </tbody>\n",
              "</table>\n",
              "</div><br><label><b>dtype:</b> int64</label>"
            ]
          },
          "metadata": {},
          "execution_count": 90
        }
      ],
      "source": [
        "df.isnull().sum()"
      ]
    },
    {
      "cell_type": "code",
      "execution_count": 91,
      "metadata": {
        "colab": {
          "base_uri": "https://localhost:8080/"
        },
        "id": "yI3mqrl08_Rr",
        "outputId": "44cc86c6-7989-4fac-8826-ada265e4dc41"
      },
      "outputs": [
        {
          "output_type": "stream",
          "name": "stdout",
          "text": [
            "Outlier Rows:\n",
            "Empty DataFrame\n",
            "Columns: [Unnamed: 0, open, high, low, close, adjclose, volume, ticker]\n",
            "Index: []\n"
          ]
        }
      ],
      "source": [
        "#Checking for outliers in the data\n",
        "from scipy import stats\n",
        "\n",
        "z_scores = stats.zscore(df['open'])\n",
        "outliers = (z_scores > 3) | (z_scores < -3)\n",
        "outlier_rows = df[outliers]\n",
        "print(\"Outlier Rows:\")\n",
        "print(outlier_rows)"
      ]
    },
    {
      "cell_type": "code",
      "execution_count": 92,
      "metadata": {
        "id": "FqoCuotr9YVv"
      },
      "outputs": [],
      "source": [
        "df.rename(columns={\"Unnamed: 0\": \"Date\"}, inplace=True) #unnamed column -> date"
      ]
    },
    {
      "cell_type": "code",
      "execution_count": 93,
      "metadata": {
        "id": "Aq5DdEEOE1FM"
      },
      "outputs": [],
      "source": [
        "df['Date'] = pd.to_datetime(df['Date']) #convert date to date time"
      ]
    },
    {
      "cell_type": "code",
      "execution_count": 94,
      "metadata": {
        "id": "6uOnfqZJFH65"
      },
      "outputs": [],
      "source": [
        "df.set_index('Date', inplace=True) #date as index"
      ]
    },
    {
      "cell_type": "code",
      "execution_count": 95,
      "metadata": {
        "colab": {
          "base_uri": "https://localhost:8080/",
          "height": 450
        },
        "id": "qkZOxGA8FT2f",
        "outputId": "c2dc052c-f297-4c2d-dd31-5024a9ef4a89"
      },
      "outputs": [
        {
          "output_type": "execute_result",
          "data": {
            "text/plain": [
              "                   open         high          low        close     adjclose  \\\n",
              "Date                                                                          \n",
              "1996-01-01     0.794921     0.796679     0.791015     0.796679     0.524797   \n",
              "1996-01-02     0.794921     0.798828     0.793457     0.793457     0.522674   \n",
              "1996-01-03     0.798828     0.798828     0.798828     0.798828     0.526212   \n",
              "1996-01-04     0.791015     0.794921     0.791015     0.793554     0.522738   \n",
              "1996-01-05     0.784179     0.784179     0.784179     0.784179     0.516563   \n",
              "...                 ...          ...          ...          ...          ...   \n",
              "2024-04-23  1443.000000  1446.849976  1433.000000  1442.400024  1442.400024   \n",
              "2024-04-24  1444.300049  1444.300049  1427.050049  1430.750000  1430.750000   \n",
              "2024-04-25  1420.000000  1444.900024  1420.000000  1438.449951  1438.449951   \n",
              "2024-04-26  1439.699951  1445.400024  1427.000000  1430.250000  1430.250000   \n",
              "2024-04-29  1429.949951  1439.800049  1428.250000  1434.750000  1434.750000   \n",
              "\n",
              "               volume   ticker  \n",
              "Date                            \n",
              "1996-01-01   204800.0  INFY.NS  \n",
              "1996-01-02   204800.0  INFY.NS  \n",
              "1996-01-03   102400.0  INFY.NS  \n",
              "1996-01-04   307200.0  INFY.NS  \n",
              "1996-01-05    51200.0  INFY.NS  \n",
              "...               ...      ...  \n",
              "2024-04-23  4856174.0  INFY.NS  \n",
              "2024-04-24  4268213.0  INFY.NS  \n",
              "2024-04-25  9089398.0  INFY.NS  \n",
              "2024-04-26  8062444.0  INFY.NS  \n",
              "2024-04-29  5054777.0  INFY.NS  \n",
              "\n",
              "[7124 rows x 7 columns]"
            ],
            "text/html": [
              "\n",
              "  <div id=\"df-568b08ce-6146-4193-ae23-0d1fee01f2ba\" class=\"colab-df-container\">\n",
              "    <div>\n",
              "<style scoped>\n",
              "    .dataframe tbody tr th:only-of-type {\n",
              "        vertical-align: middle;\n",
              "    }\n",
              "\n",
              "    .dataframe tbody tr th {\n",
              "        vertical-align: top;\n",
              "    }\n",
              "\n",
              "    .dataframe thead th {\n",
              "        text-align: right;\n",
              "    }\n",
              "</style>\n",
              "<table border=\"1\" class=\"dataframe\">\n",
              "  <thead>\n",
              "    <tr style=\"text-align: right;\">\n",
              "      <th></th>\n",
              "      <th>open</th>\n",
              "      <th>high</th>\n",
              "      <th>low</th>\n",
              "      <th>close</th>\n",
              "      <th>adjclose</th>\n",
              "      <th>volume</th>\n",
              "      <th>ticker</th>\n",
              "    </tr>\n",
              "    <tr>\n",
              "      <th>Date</th>\n",
              "      <th></th>\n",
              "      <th></th>\n",
              "      <th></th>\n",
              "      <th></th>\n",
              "      <th></th>\n",
              "      <th></th>\n",
              "      <th></th>\n",
              "    </tr>\n",
              "  </thead>\n",
              "  <tbody>\n",
              "    <tr>\n",
              "      <th>1996-01-01</th>\n",
              "      <td>0.794921</td>\n",
              "      <td>0.796679</td>\n",
              "      <td>0.791015</td>\n",
              "      <td>0.796679</td>\n",
              "      <td>0.524797</td>\n",
              "      <td>204800.0</td>\n",
              "      <td>INFY.NS</td>\n",
              "    </tr>\n",
              "    <tr>\n",
              "      <th>1996-01-02</th>\n",
              "      <td>0.794921</td>\n",
              "      <td>0.798828</td>\n",
              "      <td>0.793457</td>\n",
              "      <td>0.793457</td>\n",
              "      <td>0.522674</td>\n",
              "      <td>204800.0</td>\n",
              "      <td>INFY.NS</td>\n",
              "    </tr>\n",
              "    <tr>\n",
              "      <th>1996-01-03</th>\n",
              "      <td>0.798828</td>\n",
              "      <td>0.798828</td>\n",
              "      <td>0.798828</td>\n",
              "      <td>0.798828</td>\n",
              "      <td>0.526212</td>\n",
              "      <td>102400.0</td>\n",
              "      <td>INFY.NS</td>\n",
              "    </tr>\n",
              "    <tr>\n",
              "      <th>1996-01-04</th>\n",
              "      <td>0.791015</td>\n",
              "      <td>0.794921</td>\n",
              "      <td>0.791015</td>\n",
              "      <td>0.793554</td>\n",
              "      <td>0.522738</td>\n",
              "      <td>307200.0</td>\n",
              "      <td>INFY.NS</td>\n",
              "    </tr>\n",
              "    <tr>\n",
              "      <th>1996-01-05</th>\n",
              "      <td>0.784179</td>\n",
              "      <td>0.784179</td>\n",
              "      <td>0.784179</td>\n",
              "      <td>0.784179</td>\n",
              "      <td>0.516563</td>\n",
              "      <td>51200.0</td>\n",
              "      <td>INFY.NS</td>\n",
              "    </tr>\n",
              "    <tr>\n",
              "      <th>...</th>\n",
              "      <td>...</td>\n",
              "      <td>...</td>\n",
              "      <td>...</td>\n",
              "      <td>...</td>\n",
              "      <td>...</td>\n",
              "      <td>...</td>\n",
              "      <td>...</td>\n",
              "    </tr>\n",
              "    <tr>\n",
              "      <th>2024-04-23</th>\n",
              "      <td>1443.000000</td>\n",
              "      <td>1446.849976</td>\n",
              "      <td>1433.000000</td>\n",
              "      <td>1442.400024</td>\n",
              "      <td>1442.400024</td>\n",
              "      <td>4856174.0</td>\n",
              "      <td>INFY.NS</td>\n",
              "    </tr>\n",
              "    <tr>\n",
              "      <th>2024-04-24</th>\n",
              "      <td>1444.300049</td>\n",
              "      <td>1444.300049</td>\n",
              "      <td>1427.050049</td>\n",
              "      <td>1430.750000</td>\n",
              "      <td>1430.750000</td>\n",
              "      <td>4268213.0</td>\n",
              "      <td>INFY.NS</td>\n",
              "    </tr>\n",
              "    <tr>\n",
              "      <th>2024-04-25</th>\n",
              "      <td>1420.000000</td>\n",
              "      <td>1444.900024</td>\n",
              "      <td>1420.000000</td>\n",
              "      <td>1438.449951</td>\n",
              "      <td>1438.449951</td>\n",
              "      <td>9089398.0</td>\n",
              "      <td>INFY.NS</td>\n",
              "    </tr>\n",
              "    <tr>\n",
              "      <th>2024-04-26</th>\n",
              "      <td>1439.699951</td>\n",
              "      <td>1445.400024</td>\n",
              "      <td>1427.000000</td>\n",
              "      <td>1430.250000</td>\n",
              "      <td>1430.250000</td>\n",
              "      <td>8062444.0</td>\n",
              "      <td>INFY.NS</td>\n",
              "    </tr>\n",
              "    <tr>\n",
              "      <th>2024-04-29</th>\n",
              "      <td>1429.949951</td>\n",
              "      <td>1439.800049</td>\n",
              "      <td>1428.250000</td>\n",
              "      <td>1434.750000</td>\n",
              "      <td>1434.750000</td>\n",
              "      <td>5054777.0</td>\n",
              "      <td>INFY.NS</td>\n",
              "    </tr>\n",
              "  </tbody>\n",
              "</table>\n",
              "<p>7124 rows × 7 columns</p>\n",
              "</div>\n",
              "    <div class=\"colab-df-buttons\">\n",
              "\n",
              "  <div class=\"colab-df-container\">\n",
              "    <button class=\"colab-df-convert\" onclick=\"convertToInteractive('df-568b08ce-6146-4193-ae23-0d1fee01f2ba')\"\n",
              "            title=\"Convert this dataframe to an interactive table.\"\n",
              "            style=\"display:none;\">\n",
              "\n",
              "  <svg xmlns=\"http://www.w3.org/2000/svg\" height=\"24px\" viewBox=\"0 -960 960 960\">\n",
              "    <path d=\"M120-120v-720h720v720H120Zm60-500h600v-160H180v160Zm220 220h160v-160H400v160Zm0 220h160v-160H400v160ZM180-400h160v-160H180v160Zm440 0h160v-160H620v160ZM180-180h160v-160H180v160Zm440 0h160v-160H620v160Z\"/>\n",
              "  </svg>\n",
              "    </button>\n",
              "\n",
              "  <style>\n",
              "    .colab-df-container {\n",
              "      display:flex;\n",
              "      gap: 12px;\n",
              "    }\n",
              "\n",
              "    .colab-df-convert {\n",
              "      background-color: #E8F0FE;\n",
              "      border: none;\n",
              "      border-radius: 50%;\n",
              "      cursor: pointer;\n",
              "      display: none;\n",
              "      fill: #1967D2;\n",
              "      height: 32px;\n",
              "      padding: 0 0 0 0;\n",
              "      width: 32px;\n",
              "    }\n",
              "\n",
              "    .colab-df-convert:hover {\n",
              "      background-color: #E2EBFA;\n",
              "      box-shadow: 0px 1px 2px rgba(60, 64, 67, 0.3), 0px 1px 3px 1px rgba(60, 64, 67, 0.15);\n",
              "      fill: #174EA6;\n",
              "    }\n",
              "\n",
              "    .colab-df-buttons div {\n",
              "      margin-bottom: 4px;\n",
              "    }\n",
              "\n",
              "    [theme=dark] .colab-df-convert {\n",
              "      background-color: #3B4455;\n",
              "      fill: #D2E3FC;\n",
              "    }\n",
              "\n",
              "    [theme=dark] .colab-df-convert:hover {\n",
              "      background-color: #434B5C;\n",
              "      box-shadow: 0px 1px 3px 1px rgba(0, 0, 0, 0.15);\n",
              "      filter: drop-shadow(0px 1px 2px rgba(0, 0, 0, 0.3));\n",
              "      fill: #FFFFFF;\n",
              "    }\n",
              "  </style>\n",
              "\n",
              "    <script>\n",
              "      const buttonEl =\n",
              "        document.querySelector('#df-568b08ce-6146-4193-ae23-0d1fee01f2ba button.colab-df-convert');\n",
              "      buttonEl.style.display =\n",
              "        google.colab.kernel.accessAllowed ? 'block' : 'none';\n",
              "\n",
              "      async function convertToInteractive(key) {\n",
              "        const element = document.querySelector('#df-568b08ce-6146-4193-ae23-0d1fee01f2ba');\n",
              "        const dataTable =\n",
              "          await google.colab.kernel.invokeFunction('convertToInteractive',\n",
              "                                                    [key], {});\n",
              "        if (!dataTable) return;\n",
              "\n",
              "        const docLinkHtml = 'Like what you see? Visit the ' +\n",
              "          '<a target=\"_blank\" href=https://colab.research.google.com/notebooks/data_table.ipynb>data table notebook</a>'\n",
              "          + ' to learn more about interactive tables.';\n",
              "        element.innerHTML = '';\n",
              "        dataTable['output_type'] = 'display_data';\n",
              "        await google.colab.output.renderOutput(dataTable, element);\n",
              "        const docLink = document.createElement('div');\n",
              "        docLink.innerHTML = docLinkHtml;\n",
              "        element.appendChild(docLink);\n",
              "      }\n",
              "    </script>\n",
              "  </div>\n",
              "\n",
              "\n",
              "<div id=\"df-3e5aa1b9-a915-4a2c-ac7b-2ff2ab04aa07\">\n",
              "  <button class=\"colab-df-quickchart\" onclick=\"quickchart('df-3e5aa1b9-a915-4a2c-ac7b-2ff2ab04aa07')\"\n",
              "            title=\"Suggest charts\"\n",
              "            style=\"display:none;\">\n",
              "\n",
              "<svg xmlns=\"http://www.w3.org/2000/svg\" height=\"24px\"viewBox=\"0 0 24 24\"\n",
              "     width=\"24px\">\n",
              "    <g>\n",
              "        <path d=\"M19 3H5c-1.1 0-2 .9-2 2v14c0 1.1.9 2 2 2h14c1.1 0 2-.9 2-2V5c0-1.1-.9-2-2-2zM9 17H7v-7h2v7zm4 0h-2V7h2v10zm4 0h-2v-4h2v4z\"/>\n",
              "    </g>\n",
              "</svg>\n",
              "  </button>\n",
              "\n",
              "<style>\n",
              "  .colab-df-quickchart {\n",
              "      --bg-color: #E8F0FE;\n",
              "      --fill-color: #1967D2;\n",
              "      --hover-bg-color: #E2EBFA;\n",
              "      --hover-fill-color: #174EA6;\n",
              "      --disabled-fill-color: #AAA;\n",
              "      --disabled-bg-color: #DDD;\n",
              "  }\n",
              "\n",
              "  [theme=dark] .colab-df-quickchart {\n",
              "      --bg-color: #3B4455;\n",
              "      --fill-color: #D2E3FC;\n",
              "      --hover-bg-color: #434B5C;\n",
              "      --hover-fill-color: #FFFFFF;\n",
              "      --disabled-bg-color: #3B4455;\n",
              "      --disabled-fill-color: #666;\n",
              "  }\n",
              "\n",
              "  .colab-df-quickchart {\n",
              "    background-color: var(--bg-color);\n",
              "    border: none;\n",
              "    border-radius: 50%;\n",
              "    cursor: pointer;\n",
              "    display: none;\n",
              "    fill: var(--fill-color);\n",
              "    height: 32px;\n",
              "    padding: 0;\n",
              "    width: 32px;\n",
              "  }\n",
              "\n",
              "  .colab-df-quickchart:hover {\n",
              "    background-color: var(--hover-bg-color);\n",
              "    box-shadow: 0 1px 2px rgba(60, 64, 67, 0.3), 0 1px 3px 1px rgba(60, 64, 67, 0.15);\n",
              "    fill: var(--button-hover-fill-color);\n",
              "  }\n",
              "\n",
              "  .colab-df-quickchart-complete:disabled,\n",
              "  .colab-df-quickchart-complete:disabled:hover {\n",
              "    background-color: var(--disabled-bg-color);\n",
              "    fill: var(--disabled-fill-color);\n",
              "    box-shadow: none;\n",
              "  }\n",
              "\n",
              "  .colab-df-spinner {\n",
              "    border: 2px solid var(--fill-color);\n",
              "    border-color: transparent;\n",
              "    border-bottom-color: var(--fill-color);\n",
              "    animation:\n",
              "      spin 1s steps(1) infinite;\n",
              "  }\n",
              "\n",
              "  @keyframes spin {\n",
              "    0% {\n",
              "      border-color: transparent;\n",
              "      border-bottom-color: var(--fill-color);\n",
              "      border-left-color: var(--fill-color);\n",
              "    }\n",
              "    20% {\n",
              "      border-color: transparent;\n",
              "      border-left-color: var(--fill-color);\n",
              "      border-top-color: var(--fill-color);\n",
              "    }\n",
              "    30% {\n",
              "      border-color: transparent;\n",
              "      border-left-color: var(--fill-color);\n",
              "      border-top-color: var(--fill-color);\n",
              "      border-right-color: var(--fill-color);\n",
              "    }\n",
              "    40% {\n",
              "      border-color: transparent;\n",
              "      border-right-color: var(--fill-color);\n",
              "      border-top-color: var(--fill-color);\n",
              "    }\n",
              "    60% {\n",
              "      border-color: transparent;\n",
              "      border-right-color: var(--fill-color);\n",
              "    }\n",
              "    80% {\n",
              "      border-color: transparent;\n",
              "      border-right-color: var(--fill-color);\n",
              "      border-bottom-color: var(--fill-color);\n",
              "    }\n",
              "    90% {\n",
              "      border-color: transparent;\n",
              "      border-bottom-color: var(--fill-color);\n",
              "    }\n",
              "  }\n",
              "</style>\n",
              "\n",
              "  <script>\n",
              "    async function quickchart(key) {\n",
              "      const quickchartButtonEl =\n",
              "        document.querySelector('#' + key + ' button');\n",
              "      quickchartButtonEl.disabled = true;  // To prevent multiple clicks.\n",
              "      quickchartButtonEl.classList.add('colab-df-spinner');\n",
              "      try {\n",
              "        const charts = await google.colab.kernel.invokeFunction(\n",
              "            'suggestCharts', [key], {});\n",
              "      } catch (error) {\n",
              "        console.error('Error during call to suggestCharts:', error);\n",
              "      }\n",
              "      quickchartButtonEl.classList.remove('colab-df-spinner');\n",
              "      quickchartButtonEl.classList.add('colab-df-quickchart-complete');\n",
              "    }\n",
              "    (() => {\n",
              "      let quickchartButtonEl =\n",
              "        document.querySelector('#df-3e5aa1b9-a915-4a2c-ac7b-2ff2ab04aa07 button');\n",
              "      quickchartButtonEl.style.display =\n",
              "        google.colab.kernel.accessAllowed ? 'block' : 'none';\n",
              "    })();\n",
              "  </script>\n",
              "</div>\n",
              "\n",
              "  <div id=\"id_f3b2d0e5-3c42-4388-ac67-3c669cf13213\">\n",
              "    <style>\n",
              "      .colab-df-generate {\n",
              "        background-color: #E8F0FE;\n",
              "        border: none;\n",
              "        border-radius: 50%;\n",
              "        cursor: pointer;\n",
              "        display: none;\n",
              "        fill: #1967D2;\n",
              "        height: 32px;\n",
              "        padding: 0 0 0 0;\n",
              "        width: 32px;\n",
              "      }\n",
              "\n",
              "      .colab-df-generate:hover {\n",
              "        background-color: #E2EBFA;\n",
              "        box-shadow: 0px 1px 2px rgba(60, 64, 67, 0.3), 0px 1px 3px 1px rgba(60, 64, 67, 0.15);\n",
              "        fill: #174EA6;\n",
              "      }\n",
              "\n",
              "      [theme=dark] .colab-df-generate {\n",
              "        background-color: #3B4455;\n",
              "        fill: #D2E3FC;\n",
              "      }\n",
              "\n",
              "      [theme=dark] .colab-df-generate:hover {\n",
              "        background-color: #434B5C;\n",
              "        box-shadow: 0px 1px 3px 1px rgba(0, 0, 0, 0.15);\n",
              "        filter: drop-shadow(0px 1px 2px rgba(0, 0, 0, 0.3));\n",
              "        fill: #FFFFFF;\n",
              "      }\n",
              "    </style>\n",
              "    <button class=\"colab-df-generate\" onclick=\"generateWithVariable('df')\"\n",
              "            title=\"Generate code using this dataframe.\"\n",
              "            style=\"display:none;\">\n",
              "\n",
              "  <svg xmlns=\"http://www.w3.org/2000/svg\" height=\"24px\"viewBox=\"0 0 24 24\"\n",
              "       width=\"24px\">\n",
              "    <path d=\"M7,19H8.4L18.45,9,17,7.55,7,17.6ZM5,21V16.75L18.45,3.32a2,2,0,0,1,2.83,0l1.4,1.43a1.91,1.91,0,0,1,.58,1.4,1.91,1.91,0,0,1-.58,1.4L9.25,21ZM18.45,9,17,7.55Zm-12,3A5.31,5.31,0,0,0,4.9,8.1,5.31,5.31,0,0,0,1,6.5,5.31,5.31,0,0,0,4.9,4.9,5.31,5.31,0,0,0,6.5,1,5.31,5.31,0,0,0,8.1,4.9,5.31,5.31,0,0,0,12,6.5,5.46,5.46,0,0,0,6.5,12Z\"/>\n",
              "  </svg>\n",
              "    </button>\n",
              "    <script>\n",
              "      (() => {\n",
              "      const buttonEl =\n",
              "        document.querySelector('#id_f3b2d0e5-3c42-4388-ac67-3c669cf13213 button.colab-df-generate');\n",
              "      buttonEl.style.display =\n",
              "        google.colab.kernel.accessAllowed ? 'block' : 'none';\n",
              "\n",
              "      buttonEl.onclick = () => {\n",
              "        google.colab.notebook.generateWithVariable('df');\n",
              "      }\n",
              "      })();\n",
              "    </script>\n",
              "  </div>\n",
              "\n",
              "    </div>\n",
              "  </div>\n"
            ],
            "application/vnd.google.colaboratory.intrinsic+json": {
              "type": "dataframe",
              "variable_name": "df",
              "summary": "{\n  \"name\": \"df\",\n  \"rows\": 7124,\n  \"fields\": [\n    {\n      \"column\": \"Date\",\n      \"properties\": {\n        \"dtype\": \"date\",\n        \"min\": \"1996-01-01 00:00:00\",\n        \"max\": \"2024-04-29 00:00:00\",\n        \"num_unique_values\": 7124,\n        \"samples\": [\n          \"2010-02-17 00:00:00\",\n          \"2003-10-17 00:00:00\",\n          \"2001-12-26 00:00:00\"\n        ],\n        \"semantic_type\": \"\",\n        \"description\": \"\"\n      }\n    },\n    {\n      \"column\": \"open\",\n      \"properties\": {\n        \"dtype\": \"number\",\n        \"std\": 461.6864829742223,\n        \"min\": 0.7631829977035522,\n        \"max\": 1938.550048828125,\n        \"num_unique_values\": 5681,\n        \"samples\": [\n          106.0484390258789,\n          157.96875,\n          83.1148452758789\n        ],\n        \"semantic_type\": \"\",\n        \"description\": \"\"\n      }\n    },\n    {\n      \"column\": \"high\",\n      \"properties\": {\n        \"dtype\": \"number\",\n        \"std\": 465.73510901561104,\n        \"min\": 0.765625,\n        \"max\": 1953.9000244140625,\n        \"num_unique_values\": 6136,\n        \"samples\": [\n          525.4000244140625,\n          385.625,\n          1598.199951171875\n        ],\n        \"semantic_type\": \"\",\n        \"description\": \"\"\n      }\n    },\n    {\n      \"column\": \"low\",\n      \"properties\": {\n        \"dtype\": \"number\",\n        \"std\": 457.37282964092634,\n        \"min\": 0.7128900289535522,\n        \"max\": 1930.5,\n        \"num_unique_values\": 6340,\n        \"samples\": [\n          19.6171875,\n          1438.050048828125,\n          265.0\n        ],\n        \"semantic_type\": \"\",\n        \"description\": \"\"\n      }\n    },\n    {\n      \"column\": \"close\",\n      \"properties\": {\n        \"dtype\": \"number\",\n        \"std\": 461.55075049851433,\n        \"min\": 0.7631829977035522,\n        \"max\": 1939.5,\n        \"num_unique_values\": 6784,\n        \"samples\": [\n          199.8062438964844,\n          57.32500076293945,\n          732.0\n        ],\n        \"semantic_type\": \"\",\n        \"description\": \"\"\n      }\n    },\n    {\n      \"column\": \"adjclose\",\n      \"properties\": {\n        \"dtype\": \"number\",\n        \"std\": 450.4486855497283,\n        \"min\": 0.5027320981025696,\n        \"max\": 1849.313232421875,\n        \"num_unique_values\": 6912,\n        \"samples\": [\n          83.27157592773438,\n          122.12918090820312,\n          1774.55859375\n        ],\n        \"semantic_type\": \"\",\n        \"description\": \"\"\n      }\n    },\n    {\n      \"column\": \"volume\",\n      \"properties\": {\n        \"dtype\": \"number\",\n        \"std\": 15676481.847091904,\n        \"min\": 0.0,\n        \"max\": 276615040.0,\n        \"num_unique_values\": 6645,\n        \"samples\": [\n          7097544.0,\n          36261888.0,\n          41770816.0\n        ],\n        \"semantic_type\": \"\",\n        \"description\": \"\"\n      }\n    },\n    {\n      \"column\": \"ticker\",\n      \"properties\": {\n        \"dtype\": \"category\",\n        \"num_unique_values\": 1,\n        \"samples\": [\n          \"INFY.NS\"\n        ],\n        \"semantic_type\": \"\",\n        \"description\": \"\"\n      }\n    }\n  ]\n}"
            }
          },
          "metadata": {},
          "execution_count": 95
        }
      ],
      "source": [
        "df"
      ]
    },
    {
      "cell_type": "markdown",
      "metadata": {
        "id": "ZlKCSZRfHbn_"
      },
      "source": [
        "## Statistics"
      ]
    },
    {
      "cell_type": "code",
      "execution_count": 96,
      "metadata": {
        "colab": {
          "base_uri": "https://localhost:8080/"
        },
        "id": "gYCsXcZ7FUcP",
        "outputId": "1b6ad671-c098-4aa3-d5a3-3066529d5e44"
      },
      "outputs": [
        {
          "output_type": "stream",
          "name": "stdout",
          "text": [
            "              open         high          low        close     adjclose  \\\n",
            "count  7117.000000  7117.000000  7117.000000  7117.000000  7117.000000   \n",
            "mean    422.990009   427.578314   418.196353   422.880087   370.289713   \n",
            "std     461.686483   465.735109   457.372830   461.550750   450.448686   \n",
            "min       0.763183     0.765625     0.712890     0.763183     0.502732   \n",
            "25%      79.218750    80.765625    77.814842    79.100784    54.102211   \n",
            "50%     284.125000   287.424988   279.924988   284.237488   213.223022   \n",
            "75%     545.724976   552.200012   538.500000   544.812500   448.366272   \n",
            "max    1938.550049  1953.900024  1930.500000  1939.500000  1849.313232   \n",
            "\n",
            "             volume  \n",
            "count  7.117000e+03  \n",
            "mean   1.451894e+07  \n",
            "std    1.567648e+07  \n",
            "min    0.000000e+00  \n",
            "25%    5.688997e+06  \n",
            "50%    8.926058e+06  \n",
            "75%    1.701867e+07  \n",
            "max    2.766150e+08  \n"
          ]
        }
      ],
      "source": [
        "print(df.describe())"
      ]
    },
    {
      "cell_type": "code",
      "execution_count": 97,
      "metadata": {
        "colab": {
          "base_uri": "https://localhost:8080/"
        },
        "id": "G_-X84rJHaNI",
        "outputId": "89aa2e91-e033-4a10-9798-0e54708ee9e0"
      },
      "outputs": [
        {
          "output_type": "stream",
          "name": "stdout",
          "text": [
            "<class 'pandas.core.frame.DataFrame'>\n",
            "DatetimeIndex: 7124 entries, 1996-01-01 to 2024-04-29\n",
            "Data columns (total 7 columns):\n",
            " #   Column    Non-Null Count  Dtype  \n",
            "---  ------    --------------  -----  \n",
            " 0   open      7117 non-null   float64\n",
            " 1   high      7117 non-null   float64\n",
            " 2   low       7117 non-null   float64\n",
            " 3   close     7117 non-null   float64\n",
            " 4   adjclose  7117 non-null   float64\n",
            " 5   volume    7117 non-null   float64\n",
            " 6   ticker    7124 non-null   object \n",
            "dtypes: float64(6), object(1)\n",
            "memory usage: 445.2+ KB\n",
            "None\n"
          ]
        }
      ],
      "source": [
        "print(df.info())"
      ]
    },
    {
      "cell_type": "markdown",
      "metadata": {
        "id": "rVwZC5BnIGrI"
      },
      "source": [
        "# Visualising Data"
      ]
    },
    {
      "cell_type": "code",
      "execution_count": 98,
      "metadata": {
        "id": "xuySfGuEH05O"
      },
      "outputs": [],
      "source": [
        "import matplotlib.pyplot as plt"
      ]
    },
    {
      "cell_type": "code",
      "source": [
        "df['MA7'] = df['close'].rolling(window=7).mean()"
      ],
      "metadata": {
        "id": "j2SWFsIQ6tLS"
      },
      "execution_count": 99,
      "outputs": []
    },
    {
      "cell_type": "code",
      "source": [
        "df['MA30'] = df['close'].rolling(window=30).mean()"
      ],
      "metadata": {
        "id": "t4lldxLt62Zv"
      },
      "execution_count": 100,
      "outputs": []
    },
    {
      "cell_type": "code",
      "execution_count": 101,
      "metadata": {
        "colab": {
          "base_uri": "https://localhost:8080/",
          "height": 487
        },
        "id": "EYWsfCxnIsCH",
        "outputId": "4ac90ed7-fce2-49cd-fb4b-6351d634cb64"
      },
      "outputs": [
        {
          "output_type": "display_data",
          "data": {
            "text/plain": [
              "<Figure size 1000x500 with 1 Axes>"
            ],
            "image/png": "[encoded data removed]"
          },
          "metadata": {}
        }
      ],
      "source": [
        "plt.figure(figsize=(10, 5))  # Create a figure of size 10x5 inches\n",
        "plt.plot(df['close'], label='Closing Price')  # Plot the 'close' column\n",
        "plt.plot(df['MA7'], label='7-Day Moving Average')  # Plot the 7-day moving average\n",
        "plt.plot(df['MA30'], label='30-Day Moving Average')  # Plot the 30-day moving average\n",
        "plt.title('Closing Prices with Moving Averages')  # Add a title\n",
        "plt.xlabel('Date')  # Label the x-axis\n",
        "plt.ylabel('Price')  # Label the y-axis\n",
        "plt.legend()  # Add a legend to differentiate lines\n",
        "plt.show()  # Display the plot"
      ]
    },
    {
      "cell_type": "code",
      "execution_count": 102,
      "metadata": {
        "colab": {
          "base_uri": "https://localhost:8080/",
          "height": 487
        },
        "id": "3rD_cxCXIwTV",
        "outputId": "c3ae9468-75e2-4f54-964c-1b4ca24edbbb"
      },
      "outputs": [
        {
          "output_type": "display_data",
          "data": {
            "text/plain": [
              "<Figure size 1000x500 with 1 Axes>"
            ],
            "image/png": "[encoded data removed]"
          },
          "metadata": {}
        }
      ],
      "source": [
        "plt.figure(figsize=(10, 5))  # Create a new figure\n",
        "plt.bar(df.index, df['volume'], color='blue', alpha=0.6, label='Volume')  # Create a bar chart for volume\n",
        "plt.title('Infosys Stock Trading Volume Over Time')  # Add a title\n",
        "plt.xlabel('Date')  # Label the x-axis\n",
        "plt.ylabel('Volume')  # Label the y-axis\n",
        "plt.legend()  # Add a legend\n",
        "plt.show()  # Display the plot"
      ]
    },
    {
      "cell_type": "code",
      "source": [
        "from sklearn.model_selection import train_test_split\n",
        "from sklearn.linear_model import LinearRegression"
      ],
      "metadata": {
        "id": "4Fsb-0Ro7igJ"
      },
      "execution_count": 103,
      "outputs": []
    },
    {
      "cell_type": "code",
      "source": [
        "X = df[['MA7', 'MA30']]  # Features (Moving Averages)\n",
        "y = df['close']  # Target variable"
      ],
      "metadata": {
        "id": "_qS0XFEP7m9b"
      },
      "execution_count": 104,
      "outputs": []
    },
    {
      "cell_type": "code",
      "source": [
        "X_train, X_test, y_train, y_test = train_test_split(X, y, test_size=0.2, random_state=42)"
      ],
      "metadata": {
        "id": "05aN_dyl7e_j"
      },
      "execution_count": 105,
      "outputs": []
    },
    {
      "cell_type": "code",
      "source": [
        "print(X_train.isnull().sum())  # Count missing values in each column"
      ],
      "metadata": {
        "colab": {
          "base_uri": "https://localhost:8080/"
        },
        "id": "LJiWscyE7zlh",
        "outputId": "1ef301b7-75a4-423c-c816-9d15b6de7c18"
      },
      "execution_count": 106,
      "outputs": [
        {
          "output_type": "stream",
          "name": "stdout",
          "text": [
            "MA7      46\n",
            "MA30    200\n",
            "dtype: int64\n"
          ]
        }
      ]
    },
    {
      "cell_type": "code",
      "source": [
        "X_train = X_train.dropna()\n",
        "y_train = y_train[X_train.index]  # Ensure corresponding labels are not dropped"
      ],
      "metadata": {
        "id": "VYAzEL-T73kN"
      },
      "execution_count": 107,
      "outputs": []
    },
    {
      "cell_type": "code",
      "source": [
        "from sklearn.impute import SimpleImputer\n",
        "\n",
        "# Create an imputer instance\n",
        "imputer = SimpleImputer(strategy='mean')  # Replace 'mean' with 'median' or other strategies if preferred\n",
        "X_train = imputer.fit_transform(X_train)\n",
        "X_test = imputer.transform(X_test)"
      ],
      "metadata": {
        "id": "AFFnunh_76Eo"
      },
      "execution_count": 108,
      "outputs": []
    },
    {
      "cell_type": "code",
      "source": [
        "print(pd.DataFrame(X_train).isnull().sum())  # Should return zero for all columns"
      ],
      "metadata": {
        "colab": {
          "base_uri": "https://localhost:8080/"
        },
        "id": "9e6zLkhY79JV",
        "outputId": "10a34f2c-df0f-4113-e9db-04e6c49875f2"
      },
      "execution_count": 109,
      "outputs": [
        {
          "output_type": "stream",
          "name": "stdout",
          "text": [
            "0    0\n",
            "1    0\n",
            "dtype: int64\n"
          ]
        }
      ]
    },
    {
      "cell_type": "code",
      "source": [
        "model = LinearRegression()\n",
        "model.fit(X_train, y_train)"
      ],
      "metadata": {
        "colab": {
          "base_uri": "https://localhost:8080/",
          "height": 80
        },
        "id": "hmJAfKi17qYe",
        "outputId": "afc0ed79-06f9-43a0-b756-a12e2bc1573b"
      },
      "execution_count": 110,
      "outputs": [
        {
          "output_type": "execute_result",
          "data": {
            "text/plain": [
              "LinearRegression()"
            ],
            "text/html": [
              "<style>#sk-container-id-2 {\n",
              "  /* Definition of color scheme common for light and dark mode */\n",
              "  --sklearn-color-text: #000;\n",
              "  --sklearn-color-text-muted: #666;\n",
              "  --sklearn-color-line: gray;\n",
              "  /* Definition of color scheme for unfitted estimators */\n",
              "  --sklearn-color-unfitted-level-0: #fff5e6;\n",
              "  --sklearn-color-unfitted-level-1: #f6e4d2;\n",
              "  --sklearn-color-unfitted-level-2: #ffe0b3;\n",
              "  --sklearn-color-unfitted-level-3: chocolate;\n",
              "  /* Definition of color scheme for fitted estimators */\n",
              "  --sklearn-color-fitted-level-0: #f0f8ff;\n",
              "  --sklearn-color-fitted-level-1: #d4ebff;\n",
              "  --sklearn-color-fitted-level-2: #b3dbfd;\n",
              "  --sklearn-color-fitted-level-3: cornflowerblue;\n",
              "\n",
              "  /* Specific color for light theme */\n",
              "  --sklearn-color-text-on-default-background: var(--sg-text-color, var(--theme-code-foreground, var(--jp-content-font-color1, black)));\n",
              "  --sklearn-color-background: var(--sg-background-color, var(--theme-background, var(--jp-layout-color0, white)));\n",
              "  --sklearn-color-border-box: var(--sg-text-color, var(--theme-code-foreground, var(--jp-content-font-color1, black)));\n",
              "  --sklearn-color-icon: #696969;\n",
              "\n",
              "  @media (prefers-color-scheme: dark) {\n",
              "    /* Redefinition of color scheme for dark theme */\n",
              "    --sklearn-color-text-on-default-background: var(--sg-text-color, var(--theme-code-foreground, var(--jp-content-font-color1, white)));\n",
              "    --sklearn-color-background: var(--sg-background-color, var(--theme-background, var(--jp-layout-color0, #111)));\n",
              "    --sklearn-color-border-box: var(--sg-text-color, var(--theme-code-foreground, var(--jp-content-font-color1, white)));\n",
              "    --sklearn-color-icon: #878787;\n",
              "  }\n",
              "}\n",
              "\n",
              "#sk-container-id-2 {\n",
              "  color: var(--sklearn-color-text);\n",
              "}\n",
              "\n",
              "#sk-container-id-2 pre {\n",
              "  padding: 0;\n",
              "}\n",
              "\n",
              "#sk-container-id-2 input.sk-hidden--visually {\n",
              "  border: 0;\n",
              "  clip: rect(1px 1px 1px 1px);\n",
              "  clip: rect(1px, 1px, 1px, 1px);\n",
              "  height: 1px;\n",
              "  margin: -1px;\n",
              "  overflow: hidden;\n",
              "  padding: 0;\n",
              "  position: absolute;\n",
              "  width: 1px;\n",
              "}\n",
              "\n",
              "#sk-container-id-2 div.sk-dashed-wrapped {\n",
              "  border: 1px dashed var(--sklearn-color-line);\n",
              "  margin: 0 0.4em 0.5em 0.4em;\n",
              "  box-sizing: border-box;\n",
              "  padding-bottom: 0.4em;\n",
              "  background-color: var(--sklearn-color-background);\n",
              "}\n",
              "\n",
              "#sk-container-id-2 div.sk-container {\n",
              "  /* jupyter's `normalize.less` sets `[hidden] { display: none; }`\n",
              "     but bootstrap.min.css set `[hidden] { display: none !important; }`\n",
              "     so we also need the `!important` here to be able to override the\n",
              "     default hidden behavior on the sphinx rendered scikit-learn.org.\n",
              "     See: https://github.com/scikit-learn/scikit-learn/issues/21755 */\n",
              "  display: inline-block !important;\n",
              "  position: relative;\n",
              "}\n",
              "\n",
              "#sk-container-id-2 div.sk-text-repr-fallback {\n",
              "  display: none;\n",
              "}\n",
              "\n",
              "div.sk-parallel-item,\n",
              "div.sk-serial,\n",
              "div.sk-item {\n",
              "  /* draw centered vertical line to link estimators */\n",
              "  background-image: linear-gradient(var(--sklearn-color-text-on-default-background), var(--sklearn-color-text-on-default-background));\n",
              "  background-size: 2px 100%;\n",
              "  background-repeat: no-repeat;\n",
              "  background-position: center center;\n",
              "}\n",
              "\n",
              "/* Parallel-specific style estimator block */\n",
              "\n",
              "#sk-container-id-2 div.sk-parallel-item::after {\n",
              "  content: \"\";\n",
              "  width: 100%;\n",
              "  border-bottom: 2px solid var(--sklearn-color-text-on-default-background);\n",
              "  flex-grow: 1;\n",
              "}\n",
              "\n",
              "#sk-container-id-2 div.sk-parallel {\n",
              "  display: flex;\n",
              "  align-items: stretch;\n",
              "  justify-content: center;\n",
              "  background-color: var(--sklearn-color-background);\n",
              "  position: relative;\n",
              "}\n",
              "\n",
              "#sk-container-id-2 div.sk-parallel-item {\n",
              "  display: flex;\n",
              "  flex-direction: column;\n",
              "}\n",
              "\n",
              "#sk-container-id-2 div.sk-parallel-item:first-child::after {\n",
              "  align-self: flex-end;\n",
              "  width: 50%;\n",
              "}\n",
              "\n",
              "#sk-container-id-2 div.sk-parallel-item:last-child::after {\n",
              "  align-self: flex-start;\n",
              "  width: 50%;\n",
              "}\n",
              "\n",
              "#sk-container-id-2 div.sk-parallel-item:only-child::after {\n",
              "  width: 0;\n",
              "}\n",
              "\n",
              "/* Serial-specific style estimator block */\n",
              "\n",
              "#sk-container-id-2 div.sk-serial {\n",
              "  display: flex;\n",
              "  flex-direction: column;\n",
              "  align-items: center;\n",
              "  background-color: var(--sklearn-color-background);\n",
              "  padding-right: 1em;\n",
              "  padding-left: 1em;\n",
              "}\n",
              "\n",
              "\n",
              "/* Toggleable style: style used for estimator/Pipeline/ColumnTransformer box that is\n",
              "clickable and can be expanded/collapsed.\n",
              "- Pipeline and ColumnTransformer use this feature and define the default style\n",
              "- Estimators will overwrite some part of the style using the `sk-estimator` class\n",
              "*/\n",
              "\n",
              "/* Pipeline and ColumnTransformer style (default) */\n",
              "\n",
              "#sk-container-id-2 div.sk-toggleable {\n",
              "  /* Default theme specific background. It is overwritten whether we have a\n",
              "  specific estimator or a Pipeline/ColumnTransformer */\n",
              "  background-color: var(--sklearn-color-background);\n",
              "}\n",
              "\n",
              "/* Toggleable label */\n",
              "#sk-container-id-2 label.sk-toggleable__label {\n",
              "  cursor: pointer;\n",
              "  display: flex;\n",
              "  width: 100%;\n",
              "  margin-bottom: 0;\n",
              "  padding: 0.5em;\n",
              "  box-sizing: border-box;\n",
              "  text-align: center;\n",
              "  align-items: start;\n",
              "  justify-content: space-between;\n",
              "  gap: 0.5em;\n",
              "}\n",
              "\n",
              "#sk-container-id-2 label.sk-toggleable__label .caption {\n",
              "  font-size: 0.6rem;\n",
              "  font-weight: lighter;\n",
              "  color: var(--sklearn-color-text-muted);\n",
              "}\n",
              "\n",
              "#sk-container-id-2 label.sk-toggleable__label-arrow:before {\n",
              "  /* Arrow on the left of the label */\n",
              "  content: \"▸\";\n",
              "  float: left;\n",
              "  margin-right: 0.25em;\n",
              "  color: var(--sklearn-color-icon);\n",
              "}\n",
              "\n",
              "#sk-container-id-2 label.sk-toggleable__label-arrow:hover:before {\n",
              "  color: var(--sklearn-color-text);\n",
              "}\n",
              "\n",
              "/* Toggleable content - dropdown */\n",
              "\n",
              "#sk-container-id-2 div.sk-toggleable__content {\n",
              "  max-height: 0;\n",
              "  max-width: 0;\n",
              "  overflow: hidden;\n",
              "  text-align: left;\n",
              "  /* unfitted */\n",
              "  background-color: var(--sklearn-color-unfitted-level-0);\n",
              "}\n",
              "\n",
              "#sk-container-id-2 div.sk-toggleable__content.fitted {\n",
              "  /* fitted */\n",
              "  background-color: var(--sklearn-color-fitted-level-0);\n",
              "}\n",
              "\n",
              "#sk-container-id-2 div.sk-toggleable__content pre {\n",
              "  margin: 0.2em;\n",
              "  border-radius: 0.25em;\n",
              "  color: var(--sklearn-color-text);\n",
              "  /* unfitted */\n",
              "  background-color: var(--sklearn-color-unfitted-level-0);\n",
              "}\n",
              "\n",
              "#sk-container-id-2 div.sk-toggleable__content.fitted pre {\n",
              "  /* unfitted */\n",
              "  background-color: var(--sklearn-color-fitted-level-0);\n",
              "}\n",
              "\n",
              "#sk-container-id-2 input.sk-toggleable__control:checked~div.sk-toggleable__content {\n",
              "  /* Expand drop-down */\n",
              "  max-height: 200px;\n",
              "  max-width: 100%;\n",
              "  overflow: auto;\n",
              "}\n",
              "\n",
              "#sk-container-id-2 input.sk-toggleable__control:checked~label.sk-toggleable__label-arrow:before {\n",
              "  content: \"▾\";\n",
              "}\n",
              "\n",
              "/* Pipeline/ColumnTransformer-specific style */\n",
              "\n",
              "#sk-container-id-2 div.sk-label input.sk-toggleable__control:checked~label.sk-toggleable__label {\n",
              "  color: var(--sklearn-color-text);\n",
              "  background-color: var(--sklearn-color-unfitted-level-2);\n",
              "}\n",
              "\n",
              "#sk-container-id-2 div.sk-label.fitted input.sk-toggleable__control:checked~label.sk-toggleable__label {\n",
              "  background-color: var(--sklearn-color-fitted-level-2);\n",
              "}\n",
              "\n",
              "/* Estimator-specific style */\n",
              "\n",
              "/* Colorize estimator box */\n",
              "#sk-container-id-2 div.sk-estimator input.sk-toggleable__control:checked~label.sk-toggleable__label {\n",
              "  /* unfitted */\n",
              "  background-color: var(--sklearn-color-unfitted-level-2);\n",
              "}\n",
              "\n",
              "#sk-container-id-2 div.sk-estimator.fitted input.sk-toggleable__control:checked~label.sk-toggleable__label {\n",
              "  /* fitted */\n",
              "  background-color: var(--sklearn-color-fitted-level-2);\n",
              "}\n",
              "\n",
              "#sk-container-id-2 div.sk-label label.sk-toggleable__label,\n",
              "#sk-container-id-2 div.sk-label label {\n",
              "  /* The background is the default theme color */\n",
              "  color: var(--sklearn-color-text-on-default-background);\n",
              "}\n",
              "\n",
              "/* On hover, darken the color of the background */\n",
              "#sk-container-id-2 div.sk-label:hover label.sk-toggleable__label {\n",
              "  color: var(--sklearn-color-text);\n",
              "  background-color: var(--sklearn-color-unfitted-level-2);\n",
              "}\n",
              "\n",
              "/* Label box, darken color on hover, fitted */\n",
              "#sk-container-id-2 div.sk-label.fitted:hover label.sk-toggleable__label.fitted {\n",
              "  color: var(--sklearn-color-text);\n",
              "  background-color: var(--sklearn-color-fitted-level-2);\n",
              "}\n",
              "\n",
              "/* Estimator label */\n",
              "\n",
              "#sk-container-id-2 div.sk-label label {\n",
              "  font-family: monospace;\n",
              "  font-weight: bold;\n",
              "  display: inline-block;\n",
              "  line-height: 1.2em;\n",
              "}\n",
              "\n",
              "#sk-container-id-2 div.sk-label-container {\n",
              "  text-align: center;\n",
              "}\n",
              "\n",
              "/* Estimator-specific */\n",
              "#sk-container-id-2 div.sk-estimator {\n",
              "  font-family: monospace;\n",
              "  border: 1px dotted var(--sklearn-color-border-box);\n",
              "  border-radius: 0.25em;\n",
              "  box-sizing: border-box;\n",
              "  margin-bottom: 0.5em;\n",
              "  /* unfitted */\n",
              "  background-color: var(--sklearn-color-unfitted-level-0);\n",
              "}\n",
              "\n",
              "#sk-container-id-2 div.sk-estimator.fitted {\n",
              "  /* fitted */\n",
              "  background-color: var(--sklearn-color-fitted-level-0);\n",
              "}\n",
              "\n",
              "/* on hover */\n",
              "#sk-container-id-2 div.sk-estimator:hover {\n",
              "  /* unfitted */\n",
              "  background-color: var(--sklearn-color-unfitted-level-2);\n",
              "}\n",
              "\n",
              "#sk-container-id-2 div.sk-estimator.fitted:hover {\n",
              "  /* fitted */\n",
              "  background-color: var(--sklearn-color-fitted-level-2);\n",
              "}\n",
              "\n",
              "/* Specification for estimator info (e.g. \"i\" and \"?\") */\n",
              "\n",
              "/* Common style for \"i\" and \"?\" */\n",
              "\n",
              ".sk-estimator-doc-link,\n",
              "a:link.sk-estimator-doc-link,\n",
              "a:visited.sk-estimator-doc-link {\n",
              "  float: right;\n",
              "  font-size: smaller;\n",
              "  line-height: 1em;\n",
              "  font-family: monospace;\n",
              "  background-color: var(--sklearn-color-background);\n",
              "  border-radius: 1em;\n",
              "  height: 1em;\n",
              "  width: 1em;\n",
              "  text-decoration: none !important;\n",
              "  margin-left: 0.5em;\n",
              "  text-align: center;\n",
              "  /* unfitted */\n",
              "  border: var(--sklearn-color-unfitted-level-1) 1pt solid;\n",
              "  color: var(--sklearn-color-unfitted-level-1);\n",
              "}\n",
              "\n",
              ".sk-estimator-doc-link.fitted,\n",
              "a:link.sk-estimator-doc-link.fitted,\n",
              "a:visited.sk-estimator-doc-link.fitted {\n",
              "  /* fitted */\n",
              "  border: var(--sklearn-color-fitted-level-1) 1pt solid;\n",
              "  color: var(--sklearn-color-fitted-level-1);\n",
              "}\n",
              "\n",
              "/* On hover */\n",
              "div.sk-estimator:hover .sk-estimator-doc-link:hover,\n",
              ".sk-estimator-doc-link:hover,\n",
              "div.sk-label-container:hover .sk-estimator-doc-link:hover,\n",
              ".sk-estimator-doc-link:hover {\n",
              "  /* unfitted */\n",
              "  background-color: var(--sklearn-color-unfitted-level-3);\n",
              "  color: var(--sklearn-color-background);\n",
              "  text-decoration: none;\n",
              "}\n",
              "\n",
              "div.sk-estimator.fitted:hover .sk-estimator-doc-link.fitted:hover,\n",
              ".sk-estimator-doc-link.fitted:hover,\n",
              "div.sk-label-container:hover .sk-estimator-doc-link.fitted:hover,\n",
              ".sk-estimator-doc-link.fitted:hover {\n",
              "  /* fitted */\n",
              "  background-color: var(--sklearn-color-fitted-level-3);\n",
              "  color: var(--sklearn-color-background);\n",
              "  text-decoration: none;\n",
              "}\n",
              "\n",
              "/* Span, style for the box shown on hovering the info icon */\n",
              ".sk-estimator-doc-link span {\n",
              "  display: none;\n",
              "  z-index: 9999;\n",
              "  position: relative;\n",
              "  font-weight: normal;\n",
              "  right: .2ex;\n",
              "  padding: .5ex;\n",
              "  margin: .5ex;\n",
              "  width: min-content;\n",
              "  min-width: 20ex;\n",
              "  max-width: 50ex;\n",
              "  color: var(--sklearn-color-text);\n",
              "  box-shadow: 2pt 2pt 4pt #999;\n",
              "  /* unfitted */\n",
              "  background: var(--sklearn-color-unfitted-level-0);\n",
              "  border: .5pt solid var(--sklearn-color-unfitted-level-3);\n",
              "}\n",
              "\n",
              ".sk-estimator-doc-link.fitted span {\n",
              "  /* fitted */\n",
              "  background: var(--sklearn-color-fitted-level-0);\n",
              "  border: var(--sklearn-color-fitted-level-3);\n",
              "}\n",
              "\n",
              ".sk-estimator-doc-link:hover span {\n",
              "  display: block;\n",
              "}\n",
              "\n",
              "/* \"?\"-specific style due to the `<a>` HTML tag */\n",
              "\n",
              "#sk-container-id-2 a.estimator_doc_link {\n",
              "  float: right;\n",
              "  font-size: 1rem;\n",
              "  line-height: 1em;\n",
              "  font-family: monospace;\n",
              "  background-color: var(--sklearn-color-background);\n",
              "  border-radius: 1rem;\n",
              "  height: 1rem;\n",
              "  width: 1rem;\n",
              "  text-decoration: none;\n",
              "  /* unfitted */\n",
              "  color: var(--sklearn-color-unfitted-level-1);\n",
              "  border: var(--sklearn-color-unfitted-level-1) 1pt solid;\n",
              "}\n",
              "\n",
              "#sk-container-id-2 a.estimator_doc_link.fitted {\n",
              "  /* fitted */\n",
              "  border: var(--sklearn-color-fitted-level-1) 1pt solid;\n",
              "  color: var(--sklearn-color-fitted-level-1);\n",
              "}\n",
              "\n",
              "/* On hover */\n",
              "#sk-container-id-2 a.estimator_doc_link:hover {\n",
              "  /* unfitted */\n",
              "  background-color: var(--sklearn-color-unfitted-level-3);\n",
              "  color: var(--sklearn-color-background);\n",
              "  text-decoration: none;\n",
              "}\n",
              "\n",
              "#sk-container-id-2 a.estimator_doc_link.fitted:hover {\n",
              "  /* fitted */\n",
              "  background-color: var(--sklearn-color-fitted-level-3);\n",
              "}\n",
              "</style><div id=\"sk-container-id-2\" class=\"sk-top-container\"><div class=\"sk-text-repr-fallback\"><pre>LinearRegression()</pre><b>In a Jupyter environment, please rerun this cell to show the HTML representation or trust the notebook. <br />On GitHub, the HTML representation is unable to render, please try loading this page with nbviewer.org.</b></div><div class=\"sk-container\" hidden><div class=\"sk-item\"><div class=\"sk-estimator fitted sk-toggleable\"><input class=\"sk-toggleable__control sk-hidden--visually\" id=\"sk-estimator-id-2\" type=\"checkbox\" checked><label for=\"sk-estimator-id-2\" class=\"sk-toggleable__label fitted sk-toggleable__label-arrow\"><div><div>LinearRegression</div></div><div><a class=\"sk-estimator-doc-link fitted\" rel=\"noreferrer\" target=\"_blank\" href=\"https://scikit-learn.org/1.6/modules/generated/sklearn.linear_model.LinearRegression.html\">?<span>Documentation for LinearRegression</span></a><span class=\"sk-estimator-doc-link fitted\">i<span>Fitted</span></span></div></label><div class=\"sk-toggleable__content fitted\"><pre>LinearRegression()</pre></div> </div></div></div></div>"
            ]
          },
          "metadata": {},
          "execution_count": 110
        }
      ]
    },
    {
      "cell_type": "code",
      "source": [
        "y_pred = model.predict(X_test)"
      ],
      "metadata": {
        "id": "WR2EwYuE8HlP"
      },
      "execution_count": 111,
      "outputs": []
    },
    {
      "cell_type": "code",
      "source": [
        "plt.figure(figsize=(10, 5))  # Create a new figure\n",
        "plt.plot(y_test.values, label='Actual Prices')  # Plot the actual prices\n",
        "plt.plot(y_pred, label='Predicted Prices')  # Plot the predicted prices\n",
        "plt.title('Actual vs Predicted Prices')  # Add a title\n",
        "plt.xlabel('Time')  # Label the x-axis\n",
        "plt.ylabel('Price')  # Label the y-axis\n",
        "plt.legend()  # Add a legend to differentiate lines\n",
        "plt.show()  # Display the plot"
      ],
      "metadata": {
        "colab": {
          "base_uri": "https://localhost:8080/",
          "height": 487
        },
        "id": "uGPKZv_p6_Oy",
        "outputId": "5da51853-b995-488f-aeb8-c7a02913356e"
      },
      "execution_count": 112,
      "outputs": [
        {
          "output_type": "display_data",
          "data": {
            "text/plain": [
              "<Figure size 1000x500 with 1 Axes>"
            ],
            "image/png": "[encoded data removed]"
          },
          "metadata": {}
        }
      ]
    },
    {
      "cell_type": "code",
      "source": [
        "plt.figure(figsize=(10, 5))  # Create a figure of size 10x5 inches\n",
        "plt.plot(df['close'], label='Closing Price')  # Plot the 'close' column with a label\n",
        "plt.title('Infosys Stock Closing Prices Over Time')  # Add a title to the chart\n",
        "plt.xlabel('Date')  # Label the x-axis as 'Date'\n",
        "plt.ylabel('Price')  # Label the y-axis as 'Price'\n",
        "plt.legend()  # Add a legend to the plot (e.g., \"Closing Price\")\n",
        "plt.show()  # Display the plot"
      ],
      "metadata": {
        "colab": {
          "base_uri": "https://localhost:8080/",
          "height": 487
        },
        "id": "1JJCrLGq7Rkm",
        "outputId": "bd9b9c8a-81df-4a66-827c-253c6e1d1367"
      },
      "execution_count": 113,
      "outputs": [
        {
          "output_type": "display_data",
          "data": {
            "text/plain": [
              "<Figure size 1000x500 with 1 Axes>"
            ],
            "image/png": "[encoded data removed]"
          },
          "metadata": {}
        }
      ]
    },
    {
      "cell_type": "markdown",
      "source": [
        "# News"
      ],
      "metadata": {
        "id": "0mLQZ2Y287QG"
      }
    },
    {
      "cell_type": "code",
      "source": [
        "import requests\n",
        "\n",
        "API_KEY = \"af2d4ccd7c214d28b519209ec6869ffa\"  # Replace with your valid API key\n",
        "query = \"Infosys\"\n",
        "url = f\"https://newsapi.org/v2/everything?q={query}&apiKey={API_KEY}\"\n",
        "\n",
        "try:\n",
        "    response = requests.get(url)\n",
        "    response.raise_for_status()  # Raise HTTPError for bad responses\n",
        "    news_data = response.json()\n",
        "\n",
        "    if 'articles' in news_data:\n",
        "        for article in news_data['articles'][:10]:  # Display up to 10 articles\n",
        "            print(f\"Title: {article.get('title', 'No Title')}\")\n",
        "            print(f\"Description: {article.get('description', 'No Description')}\")\n",
        "            print(f\"URL: {article.get('url', 'No URL')}\\n\")\n",
        "    else:\n",
        "        print(\"No articles found in the response.\")\n",
        "\n",
        "except requests.exceptions.HTTPError as http_err:\n",
        "    print(f\"HTTP error occurred: {http_err}\")  # HTTP-specific error\n",
        "except requests.exceptions.RequestException as req_err:\n",
        "    print(f\"Request error occurred: {req_err}\")  # General request error"
      ],
      "metadata": {
        "colab": {
          "base_uri": "https://localhost:8080/"
        },
        "id": "CD_epPDa81QJ",
        "outputId": "f4cedcaf-3514-4eb2-a1f4-d73de44be8d6"
      },
      "execution_count": 114,
      "outputs": [
        {
          "output_type": "stream",
          "name": "stdout",
          "text": [
            "Title: Business leaders share 5 ways they're taking AI from pilot to use case\n",
            "Description: Leaders from Mastercard, Infosys, IBM, and more share how they created AI use cases at their companies.\n",
            "URL: https://www.businessinsider.com/business-leaders-share-how-they-integrated-ai-company-pilot-use-2024-12\n",
            "\n",
            "Title: Infosys Founder Calls For 70-Hour Work Week, Again\n",
            "Description: Infosys co-founder Narayana Murthy has once again argued for Indian workers to spend 70 hours a week in paid employment. From a report: Murthy called for the long working hours in October 2023 and then again in January 2024, and recently shared his opinion th…\n",
            "URL: https://slashdot.org/story/24/12/16/2253203/infosys-founder-calls-for-70-hour-work-week-again\n",
            "\n",
            "Title: I was born in the 'Silicon Valley' of India and watched it change from a quiet, green city to an international tech hub\n",
            "Description: Vikram Chandrashekar was born in Bengaluru, the city dubbed India's \"Silicon Valley.\" The veteran Oracle employee shared how the city's changed.\n",
            "URL: https://www.businessinsider.com/bengaluru-city-tech-hub-water-crisis-traffic-2024-12\n",
            "\n",
            "Title: Infosys co-founder once again claims 70-hour work weeks are \"necessary\" and will create jobs\n",
            "Description: Indian billionaire Narayana Murthy still believes 70-hour work weeks are important for India’s economic growth.\n",
            "URL: https://www.techradar.com/pro/infosys-ceo-says-70-hour-work-weeks-are-necessary-and-will-create-jobs\n",
            "\n",
            "Title: Inside India's 'Silicon Valley': a city straining under pressure\n",
            "Description: Bengaluru is often referred to as the \"Silicon Valley\" of India. But rapid urbanization is putting stress on the city and its residents.\n",
            "URL: https://www.businessinsider.com/india-silicon-valley-bengaluru-under-pressure-2024-12\n",
            "\n",
            "Title: Torrent Power raises Rs 3,500 crore in maiden QIP\n",
            "Description: \"The strong response to the QIP is a testament to the market's conviction in the Torrent's growth strategy, execution capabilities, operational excellence and best-in-class capital allocation. This capital raise will strengthen our balance sheet and accelerat…\n",
            "URL: https://economictimes.indiatimes.com/markets/stocks/news/torrent-power-raises-rs-3500-crore-in-maiden-qip/articleshow/116153645.cms\n",
            "\n",
            "Title: Brookfield India REIT's Rs 3,500 crore institutional placement opens at floor price of Rs 287.55/unit\n",
            "Description: Brookfield India REIT has approved a fundraise of up to Rs 3,500 crore through an institutional placement. The floor price for the issue is set at Rs 287.55 per unit. The company aims to utilize the funds for growth and expansion.\n",
            "URL: https://economictimes.indiatimes.com/markets/stocks/news/brookfield-india-reits-rs-3500-crore-institutional-placement-opens-at-floor-price-of-rs-287-55/unit/articleshow/116146126.cms\n",
            "\n",
            "Title: RBI on tricky terrain of high inflation and slowing growth\n",
            "Description: RBI Governor Shaktikanta Das faces uncertainty about his future as his six-year term ends amid economic challenges.  A slowing economy, persistent inflation, and controversies surrounding inflation calculations have fueled speculation about potential successo…\n",
            "URL: https://economictimes.indiatimes.com/news/economy/policy/rbi-on-tricky-terrain-of-high-inflation-and-slowing-growth/articleshow/115987745.cms\n",
            "\n",
            "Title: Nasdaq hits 20,000 for first time as AI rally rages on\n",
            "Description: It has jumped more than 33% this year, outperforming the benchmark S&P 500 and blue-chip Dow, as technology megacaps including Nvidia, Microsoft and Apple add more heft to the index with their relentless surge.\n",
            "URL: https://economictimes.indiatimes.com/markets/stocks/news/nasdaq-hits-20000-for-first-time-as-ai-rally-rages-on/articleshow/116231142.cms\n",
            "\n",
            "Title: Weaker rupee boosts trade balance in the long run\n",
            "Description: Depreciation of the Rupee benefits India's exports more than appreciation benefits importers, according to an RBI study. The Real Effective Exchange Rate indicates improved trade balance with Rupee depreciation and deterioration with appreciation. The study a…\n",
            "URL: https://economictimes.indiatimes.com/news/economy/foreign-trade/depreciation-of-rupees-helps-exports-more-than-an-appreciating-currency-helping-in-imports-rbi-study/articleshow/116666083.cms\n",
            "\n"
          ]
        }
      ]
    },
    {
      "cell_type": "code",
      "source": [
        "symbol = \"INFY\""
      ],
      "metadata": {
        "id": "tZQxJ577_cMJ"
      },
      "execution_count": 115,
      "outputs": []
    },
    {
      "cell_type": "code",
      "source": [
        "url = f\"https://www.alphavantage.co/query?function=TIME_SERIES_DAILY_ADJUSTED&symbol={symbol}.NS&apikey={API_KEY}\"\n",
        "response = requests.get(url)\n",
        "data = response.json()"
      ],
      "metadata": {
        "id": "uACheDkd89Tv"
      },
      "execution_count": 116,
      "outputs": []
    },
    {
      "cell_type": "code",
      "source": [
        "import requests"
      ],
      "metadata": {
        "id": "deqhnOOS_Xyt"
      },
      "execution_count": 117,
      "outputs": []
    },
    {
      "cell_type": "code",
      "source": [
        "if 'Time Series (Daily)' in data:\n",
        "    time_series = data['Time Series (Daily)']\n",
        "    df = pd.DataFrame.from_dict(time_series, orient='index').T\n",
        "    df = df.astype(float)  # Convert columns to numeric type\n",
        "    print(df.head())\n",
        "else:\n",
        "    print(\"Error: Could not retrieve data. Here is the response:\")\n",
        "    print(data)"
      ],
      "metadata": {
        "colab": {
          "base_uri": "https://localhost:8080/"
        },
        "id": "Jy_aX09N_hbx",
        "outputId": "32edc7fe-2601-432e-be35-cff7f5210b39"
      },
      "execution_count": 118,
      "outputs": [
        {
          "output_type": "stream",
          "name": "stdout",
          "text": [
            "Error: Could not retrieve data. Here is the response:\n",
            "{}\n"
          ]
        }
      ]
    },
    {
      "cell_type": "code",
      "source": [
        "import yfinance as yf"
      ],
      "metadata": {
        "id": "Cil96qUGAZ4J"
      },
      "execution_count": 119,
      "outputs": []
    },
    {
      "cell_type": "code",
      "source": [
        "symbol = \"INFY.NS\""
      ],
      "metadata": {
        "id": "2BdFFhgTAcNn"
      },
      "execution_count": 120,
      "outputs": []
    },
    {
      "cell_type": "code",
      "source": [
        "data = yf.download(symbol, start=\"2010-01-01\", end=\"2024-01-01\")"
      ],
      "metadata": {
        "colab": {
          "base_uri": "https://localhost:8080/"
        },
        "id": "5afa8ckMAlQh",
        "outputId": "af1d0616-5453-45b6-fff8-d68327b2a6e2"
      },
      "execution_count": 121,
      "outputs": [
        {
          "output_type": "stream",
          "name": "stderr",
          "text": [
            "\r[*********************100%***********************]  1 of 1 completed\n"
          ]
        }
      ]
    },
    {
      "cell_type": "code",
      "source": [
        "print(data.head())"
      ],
      "metadata": {
        "colab": {
          "base_uri": "https://localhost:8080/"
        },
        "id": "sCeTiNBxASDs",
        "outputId": "58359fd3-f69a-488c-f65c-4b206b11c1a3"
      },
      "execution_count": 122,
      "outputs": [
        {
          "output_type": "stream",
          "name": "stdout",
          "text": [
            "Price        Adj Close       Close        High         Low        Open  \\\n",
            "Ticker         INFY.NS     INFY.NS     INFY.NS     INFY.NS     INFY.NS   \n",
            "Date                                                                     \n",
            "2010-01-04  236.756866  326.575012  328.750000  324.412506  326.250000   \n",
            "2010-01-05  237.549805  327.668762  328.837494  325.012512  327.500000   \n",
            "2010-01-06  234.083466  322.887512  335.375000  321.887512  335.375000   \n",
            "2010-01-07  228.822876  315.631256  323.325012  314.774994  323.325012   \n",
            "2010-01-08  223.308624  308.024994  315.412506  307.250000  314.875000   \n",
            "\n",
            "Price         Volume  \n",
            "Ticker       INFY.NS  \n",
            "Date                  \n",
            "2010-01-04   4069264  \n",
            "2010-01-05   6895528  \n",
            "2010-01-06   6817288  \n",
            "2010-01-07  10892600  \n",
            "2010-01-08  12649312  \n"
          ]
        }
      ]
    },
    {
      "cell_type": "code",
      "source": [
        "import matplotlib.pyplot as plt\n",
        "data['Close'].plot(figsize=(10, 5), title=f\"{symbol} Stock Price\")\n",
        "plt.xlabel('Date')\n",
        "plt.ylabel('Price')\n",
        "plt.show()"
      ],
      "metadata": {
        "colab": {
          "base_uri": "https://localhost:8080/",
          "height": 458
        },
        "id": "QF6k-ElyAono",
        "outputId": "dae4482b-30e6-46b6-ba59-74cb8b9d006b"
      },
      "execution_count": 123,
      "outputs": [
        {
          "output_type": "display_data",
          "data": {
            "text/plain": [
              "<Figure size 1000x500 with 1 Axes>"
            ],
            "image/png": "[encoded data removed]"
          },
          "metadata": {}
        }
      ]
    },
    {
      "cell_type": "code",
      "source": [
        "!pip install quandl"
      ],
      "metadata": {
        "colab": {
          "base_uri": "https://localhost:8080/"
        },
        "id": "7Q1EWpYpBkZM",
        "outputId": "17323852-da95-4355-8f99-2bbcfe9e2ee1"
      },
      "execution_count": 124,
      "outputs": [
        {
          "output_type": "stream",
          "name": "stdout",
          "text": [
            "Requirement already satisfied: quandl in /usr/local/lib/python3.10/dist-packages (3.7.0)\n",
            "Requirement already satisfied: pandas>=0.14 in /usr/local/lib/python3.10/dist-packages (from quandl) (2.2.2)\n",
            "Requirement already satisfied: numpy>=1.8 in /usr/local/lib/python3.10/dist-packages (from quandl) (1.26.4)\n",
            "Requirement already satisfied: requests>=2.7.0 in /usr/local/lib/python3.10/dist-packages (from quandl) (2.32.3)\n",
            "Requirement already satisfied: inflection>=0.3.1 in /usr/local/lib/python3.10/dist-packages (from quandl) (0.5.1)\n",
            "Requirement already satisfied: python-dateutil in /usr/local/lib/python3.10/dist-packages (from quandl) (2.8.2)\n",
            "Requirement already satisfied: six in /usr/local/lib/python3.10/dist-packages (from quandl) (1.17.0)\n",
            "Requirement already satisfied: more-itertools in /usr/local/lib/python3.10/dist-packages (from quandl) (10.5.0)\n",
            "Requirement already satisfied: pytz>=2020.1 in /usr/local/lib/python3.10/dist-packages (from pandas>=0.14->quandl) (2024.2)\n",
            "Requirement already satisfied: tzdata>=2022.7 in /usr/local/lib/python3.10/dist-packages (from pandas>=0.14->quandl) (2024.2)\n",
            "Requirement already satisfied: charset-normalizer<4,>=2 in /usr/local/lib/python3.10/dist-packages (from requests>=2.7.0->quandl) (3.4.0)\n",
            "Requirement already satisfied: idna<4,>=2.5 in /usr/local/lib/python3.10/dist-packages (from requests>=2.7.0->quandl) (3.10)\n",
            "Requirement already satisfied: urllib3<3,>=1.21.1 in /usr/local/lib/python3.10/dist-packages (from requests>=2.7.0->quandl) (2.2.3)\n",
            "Requirement already satisfied: certifi>=2017.4.17 in /usr/local/lib/python3.10/dist-packages (from requests>=2.7.0->quandl) (2024.12.14)\n"
          ]
        }
      ]
    },
    {
      "cell_type": "code",
      "source": [
        "import quandl"
      ],
      "metadata": {
        "id": "rcZFrLIIArr_"
      },
      "execution_count": 125,
      "outputs": []
    },
    {
      "cell_type": "code",
      "source": [
        "stock = yf.Ticker('INFY.NS')\n",
        "data = stock.history(period='1mo')  # Adjust the period as needed\n",
        "print(data)"
      ],
      "metadata": {
        "colab": {
          "base_uri": "https://localhost:8080/"
        },
        "id": "2ZAMES3UEKRV",
        "outputId": "0a284100-ebc0-4daa-e6da-e6bc8c96115c"
      },
      "execution_count": 126,
      "outputs": [
        {
          "output_type": "stream",
          "name": "stdout",
          "text": [
            "                                  Open         High          Low        Close  \\\n",
            "Date                                                                            \n",
            "2024-11-27 00:00:00+05:30  1930.099976  1941.400024  1911.750000  1924.500000   \n",
            "2024-11-28 00:00:00+05:30  1914.900024  1914.900024  1851.650024  1856.650024   \n",
            "2024-11-29 00:00:00+05:30  1851.099976  1877.000000  1845.000000  1857.849976   \n",
            "2024-12-02 00:00:00+05:30  1859.000000  1882.800049  1835.199951  1879.800049   \n",
            "2024-12-03 00:00:00+05:30  1887.000000  1899.750000  1871.150024  1892.099976   \n",
            "2024-12-04 00:00:00+05:30  1884.000000  1913.949951  1875.000000  1889.250000   \n",
            "2024-12-05 00:00:00+05:30  1900.000000  1949.900024  1888.949951  1934.849976   \n",
            "2024-12-06 00:00:00+05:30  1932.800049  1937.949951  1912.400024  1922.400024   \n",
            "2024-12-09 00:00:00+05:30  1924.199951  1930.199951  1897.199951  1923.650024   \n",
            "2024-12-10 00:00:00+05:30  1939.000000  1965.599976  1932.000000  1948.550049   \n",
            "2024-12-11 00:00:00+05:30  1955.000000  1978.000000  1952.000000  1974.150024   \n",
            "2024-12-12 00:00:00+05:30  1975.199951  1998.800049  1970.550049  1987.000000   \n",
            "2024-12-13 00:00:00+05:30  1969.750000  2006.449951  1953.800049  1999.699951   \n",
            "2024-12-16 00:00:00+05:30  1995.449951  1999.599976  1977.599976  1980.050049   \n",
            "2024-12-17 00:00:00+05:30  1968.000000  1982.000000  1958.000000  1976.599976   \n",
            "2024-12-18 00:00:00+05:30  1966.800049  1984.949951  1961.599976  1979.150024   \n",
            "2024-12-19 00:00:00+05:30  1934.000000  1959.750000  1920.000000  1946.199951   \n",
            "2024-12-20 00:00:00+05:30  1975.150024  1979.949951  1911.250000  1922.150024   \n",
            "2024-12-23 00:00:00+05:30  1930.050049  1940.000000  1909.000000  1924.300049   \n",
            "2024-12-24 00:00:00+05:30  1927.050049  1942.000000  1840.000000  1909.050049   \n",
            "2024-12-26 00:00:00+05:30  1909.050049  1919.750000  1902.300049  1907.400024   \n",
            "2024-12-27 00:00:00+05:30  1909.400024  1924.150024  1903.900024  1916.750000   \n",
            "\n",
            "                             Volume  Dividends  Stock Splits  \n",
            "Date                                                          \n",
            "2024-11-27 00:00:00+05:30   4447143        0.0           0.0  \n",
            "2024-11-28 00:00:00+05:30   8468790        0.0           0.0  \n",
            "2024-11-29 00:00:00+05:30   5244346        0.0           0.0  \n",
            "2024-12-02 00:00:00+05:30   2868263        0.0           0.0  \n",
            "2024-12-03 00:00:00+05:30   4715792        0.0           0.0  \n",
            "2024-12-04 00:00:00+05:30   4705573        0.0           0.0  \n",
            "2024-12-05 00:00:00+05:30   9050038        0.0           0.0  \n",
            "2024-12-06 00:00:00+05:30   3573331        0.0           0.0  \n",
            "2024-12-09 00:00:00+05:30   4274645        0.0           0.0  \n",
            "2024-12-10 00:00:00+05:30   6174921        0.0           0.0  \n",
            "2024-12-11 00:00:00+05:30   5025612        0.0           0.0  \n",
            "2024-12-12 00:00:00+05:30   6462130        0.0           0.0  \n",
            "2024-12-13 00:00:00+05:30   5362693        0.0           0.0  \n",
            "2024-12-16 00:00:00+05:30   3119221        0.0           0.0  \n",
            "2024-12-17 00:00:00+05:30   5811050        0.0           0.0  \n",
            "2024-12-18 00:00:00+05:30   3064095        0.0           0.0  \n",
            "2024-12-19 00:00:00+05:30   5323592        0.0           0.0  \n",
            "2024-12-20 00:00:00+05:30  11056720        0.0           0.0  \n",
            "2024-12-23 00:00:00+05:30   2781793        0.0           0.0  \n",
            "2024-12-24 00:00:00+05:30   2360544        0.0           0.0  \n",
            "2024-12-26 00:00:00+05:30   3623321        0.0           0.0  \n",
            "2024-12-27 00:00:00+05:30   3937500        0.0           0.0  \n"
          ]
        }
      ]
    },
    {
      "cell_type": "code",
      "source": [
        "print(f\"NaN values in y_test: {y_test.isna().sum()}\")\n",
        "print(f\"NaN values in y_pred: {pd.isna(y_pred).sum()}\")"
      ],
      "metadata": {
        "colab": {
          "base_uri": "https://localhost:8080/"
        },
        "id": "yirjS8kYIIlZ",
        "outputId": "6ecadf49-b646-4683-8154-a1fcc80aa765"
      },
      "execution_count": 127,
      "outputs": [
        {
          "output_type": "stream",
          "name": "stdout",
          "text": [
            "NaN values in y_test: 2\n",
            "NaN values in y_pred: 0\n"
          ]
        }
      ]
    },
    {
      "cell_type": "code",
      "source": [
        "y_test_clean = y_test.dropna()  # Removes NaN values from y_test\n",
        "y_pred_clean = y_pred[~pd.isna(y_pred)]  # Removes NaN values from y_pred"
      ],
      "metadata": {
        "id": "Fi0iJvQYImau"
      },
      "execution_count": 128,
      "outputs": []
    },
    {
      "cell_type": "code",
      "source": [
        "print(f\"NaN values in y_test: {y_test.isna().sum()}\")\n",
        "print(f\"NaN values in y_pred: {pd.isna(y_pred).sum()}\")"
      ],
      "metadata": {
        "colab": {
          "base_uri": "https://localhost:8080/"
        },
        "id": "8X5Ggp0-IStB",
        "outputId": "755006b0-eb56-4239-9d3e-58b2e362c9ba"
      },
      "execution_count": 129,
      "outputs": [
        {
          "output_type": "stream",
          "name": "stdout",
          "text": [
            "NaN values in y_test: 2\n",
            "NaN values in y_pred: 0\n"
          ]
        }
      ]
    },
    {
      "cell_type": "code",
      "source": [
        "# Explicitly reassign the cleaned y_test back after dropping NaNs\n",
        "y_test_clean = y_test.dropna()\n",
        "\n",
        "# Verify again\n",
        "print(f\"NaN values in y_test_clean: {y_test_clean.isna().sum()}\")"
      ],
      "metadata": {
        "colab": {
          "base_uri": "https://localhost:8080/"
        },
        "id": "cCxP5Mmc7n6_",
        "outputId": "a1216481-6b16-432f-90bf-5128565eb953"
      },
      "execution_count": 130,
      "outputs": [
        {
          "output_type": "stream",
          "name": "stdout",
          "text": [
            "NaN values in y_test_clean: 0\n"
          ]
        }
      ]
    },
    {
      "cell_type": "code",
      "source": [
        "print(y_test.head())  # Inspect the structure"
      ],
      "metadata": {
        "colab": {
          "base_uri": "https://localhost:8080/"
        },
        "id": "spWJSrtA7xxP",
        "outputId": "74369b27-29b6-48bc-9506-9994ae37b508"
      },
      "execution_count": 131,
      "outputs": [
        {
          "output_type": "stream",
          "name": "stdout",
          "text": [
            "Date\n",
            "2010-02-17     314.831238\n",
            "2003-10-17      73.986717\n",
            "2001-12-26      61.781250\n",
            "2012-10-08     311.024994\n",
            "2021-03-09    1345.550049\n",
            "Name: close, dtype: float64\n"
          ]
        }
      ]
    },
    {
      "cell_type": "code",
      "source": [
        "# Truncate y_pred to match the length of y_test_clean\n",
        "y_pred_truncated = y_pred[:len(y_test_clean)]\n",
        "\n",
        "# Convert y_pred_truncated to a Pandas Series with the same index as y_test_clean\n",
        "y_pred_series = pd.Series(y_pred_truncated, index=y_test_clean.index)\n",
        "\n",
        "# Calculate the mean squared error\n",
        "mse = mean_squared_error(y_test_clean, y_pred_series)\n",
        "print(f\"Mean Squared Error: {mse}\")"
      ],
      "metadata": {
        "id": "YZ1XC3EzHzJP",
        "colab": {
          "base_uri": "https://localhost:8080/"
        },
        "outputId": "66883511-91a6-4d0f-a502-bfb3e5818d9a"
      },
      "execution_count": 132,
      "outputs": [
        {
          "output_type": "stream",
          "name": "stdout",
          "text": [
            "Mean Squared Error: 346248.3542559882\n"
          ]
        }
      ]
    },
    {
      "cell_type": "code",
      "source": [
        "df"
      ],
      "metadata": {
        "colab": {
          "base_uri": "https://localhost:8080/",
          "height": 640
        },
        "id": "Pu6jDJIXBm_Y",
        "outputId": "a1486f89-c18d-421e-f476-46e58c7f786f"
      },
      "execution_count": 133,
      "outputs": [
        {
          "output_type": "execute_result",
          "data": {
            "text/plain": [
              "                   open         high          low        close     adjclose  \\\n",
              "Date                                                                          \n",
              "1996-01-01     0.794921     0.796679     0.791015     0.796679     0.524797   \n",
              "1996-01-02     0.794921     0.798828     0.793457     0.793457     0.522674   \n",
              "1996-01-03     0.798828     0.798828     0.798828     0.798828     0.526212   \n",
              "1996-01-04     0.791015     0.794921     0.791015     0.793554     0.522738   \n",
              "1996-01-05     0.784179     0.784179     0.784179     0.784179     0.516563   \n",
              "...                 ...          ...          ...          ...          ...   \n",
              "2024-04-23  1443.000000  1446.849976  1433.000000  1442.400024  1442.400024   \n",
              "2024-04-24  1444.300049  1444.300049  1427.050049  1430.750000  1430.750000   \n",
              "2024-04-25  1420.000000  1444.900024  1420.000000  1438.449951  1438.449951   \n",
              "2024-04-26  1439.699951  1445.400024  1427.000000  1430.250000  1430.250000   \n",
              "2024-04-29  1429.949951  1439.800049  1428.250000  1434.750000  1434.750000   \n",
              "\n",
              "               volume   ticker          MA7         MA30  \n",
              "Date                                                      \n",
              "1996-01-01   204800.0  INFY.NS          NaN          NaN  \n",
              "1996-01-02   204800.0  INFY.NS          NaN          NaN  \n",
              "1996-01-03   102400.0  INFY.NS          NaN          NaN  \n",
              "1996-01-04   307200.0  INFY.NS          NaN          NaN  \n",
              "1996-01-05    51200.0  INFY.NS          NaN          NaN  \n",
              "...               ...      ...          ...          ...  \n",
              "2024-04-23  4856174.0  INFY.NS  1439.000000  1519.316659  \n",
              "2024-04-24  4268213.0  INFY.NS  1431.285714  1513.089990  \n",
              "2024-04-25  9089398.0  INFY.NS  1427.042847  1507.156657  \n",
              "2024-04-26  8062444.0  INFY.NS  1429.299997  1501.478324  \n",
              "2024-04-29  5054777.0  INFY.NS  1431.514282  1495.538326  \n",
              "\n",
              "[7124 rows x 9 columns]"
            ],
            "text/html": [
              "\n",
              "  <div id=\"df-04c7e48e-7717-4a69-81a0-8f5814e7bdd4\" class=\"colab-df-container\">\n",
              "    <div>\n",
              "<style scoped>\n",
              "    .dataframe tbody tr th:only-of-type {\n",
              "        vertical-align: middle;\n",
              "    }\n",
              "\n",
              "    .dataframe tbody tr th {\n",
              "        vertical-align: top;\n",
              "    }\n",
              "\n",
              "    .dataframe thead th {\n",
              "        text-align: right;\n",
              "    }\n",
              "</style>\n",
              "<table border=\"1\" class=\"dataframe\">\n",
              "  <thead>\n",
              "    <tr style=\"text-align: right;\">\n",
              "      <th></th>\n",
              "      <th>open</th>\n",
              "      <th>high</th>\n",
              "      <th>low</th>\n",
              "      <th>close</th>\n",
              "      <th>adjclose</th>\n",
              "      <th>volume</th>\n",
              "      <th>ticker</th>\n",
              "      <th>MA7</th>\n",
              "      <th>MA30</th>\n",
              "    </tr>\n",
              "    <tr>\n",
              "      <th>Date</th>\n",
              "      <th></th>\n",
              "      <th></th>\n",
              "      <th></th>\n",
              "      <th></th>\n",
              "      <th></th>\n",
              "      <th></th>\n",
              "      <th></th>\n",
              "      <th></th>\n",
              "      <th></th>\n",
              "    </tr>\n",
              "  </thead>\n",
              "  <tbody>\n",
              "    <tr>\n",
              "      <th>1996-01-01</th>\n",
              "      <td>0.794921</td>\n",
              "      <td>0.796679</td>\n",
              "      <td>0.791015</td>\n",
              "      <td>0.796679</td>\n",
              "      <td>0.524797</td>\n",
              "      <td>204800.0</td>\n",
              "      <td>INFY.NS</td>\n",
              "      <td>NaN</td>\n",
              "      <td>NaN</td>\n",
              "    </tr>\n",
              "    <tr>\n",
              "      <th>1996-01-02</th>\n",
              "      <td>0.794921</td>\n",
              "      <td>0.798828</td>\n",
              "      <td>0.793457</td>\n",
              "      <td>0.793457</td>\n",
              "      <td>0.522674</td>\n",
              "      <td>204800.0</td>\n",
              "      <td>INFY.NS</td>\n",
              "      <td>NaN</td>\n",
              "      <td>NaN</td>\n",
              "    </tr>\n",
              "    <tr>\n",
              "      <th>1996-01-03</th>\n",
              "      <td>0.798828</td>\n",
              "      <td>0.798828</td>\n",
              "      <td>0.798828</td>\n",
              "      <td>0.798828</td>\n",
              "      <td>0.526212</td>\n",
              "      <td>102400.0</td>\n",
              "      <td>INFY.NS</td>\n",
              "      <td>NaN</td>\n",
              "      <td>NaN</td>\n",
              "    </tr>\n",
              "    <tr>\n",
              "      <th>1996-01-04</th>\n",
              "      <td>0.791015</td>\n",
              "      <td>0.794921</td>\n",
              "      <td>0.791015</td>\n",
              "      <td>0.793554</td>\n",
              "      <td>0.522738</td>\n",
              "      <td>307200.0</td>\n",
              "      <td>INFY.NS</td>\n",
              "      <td>NaN</td>\n",
              "      <td>NaN</td>\n",
              "    </tr>\n",
              "    <tr>\n",
              "      <th>1996-01-05</th>\n",
              "      <td>0.784179</td>\n",
              "      <td>0.784179</td>\n",
              "      <td>0.784179</td>\n",
              "      <td>0.784179</td>\n",
              "      <td>0.516563</td>\n",
              "      <td>51200.0</td>\n",
              "      <td>INFY.NS</td>\n",
              "      <td>NaN</td>\n",
              "      <td>NaN</td>\n",
              "    </tr>\n",
              "    <tr>\n",
              "      <th>...</th>\n",
              "      <td>...</td>\n",
              "      <td>...</td>\n",
              "      <td>...</td>\n",
              "      <td>...</td>\n",
              "      <td>...</td>\n",
              "      <td>...</td>\n",
              "      <td>...</td>\n",
              "      <td>...</td>\n",
              "      <td>...</td>\n",
              "    </tr>\n",
              "    <tr>\n",
              "      <th>2024-04-23</th>\n",
              "      <td>1443.000000</td>\n",
              "      <td>1446.849976</td>\n",
              "      <td>1433.000000</td>\n",
              "      <td>1442.400024</td>\n",
              "      <td>1442.400024</td>\n",
              "      <td>4856174.0</td>\n",
              "      <td>INFY.NS</td>\n",
              "      <td>1439.000000</td>\n",
              "      <td>1519.316659</td>\n",
              "    </tr>\n",
              "    <tr>\n",
              "      <th>2024-04-24</th>\n",
              "      <td>1444.300049</td>\n",
              "      <td>1444.300049</td>\n",
              "      <td>1427.050049</td>\n",
              "      <td>1430.750000</td>\n",
              "      <td>1430.750000</td>\n",
              "      <td>4268213.0</td>\n",
              "      <td>INFY.NS</td>\n",
              "      <td>1431.285714</td>\n",
              "      <td>1513.089990</td>\n",
              "    </tr>\n",
              "    <tr>\n",
              "      <th>2024-04-25</th>\n",
              "      <td>1420.000000</td>\n",
              "      <td>1444.900024</td>\n",
              "      <td>1420.000000</td>\n",
              "      <td>1438.449951</td>\n",
              "      <td>1438.449951</td>\n",
              "      <td>9089398.0</td>\n",
              "      <td>INFY.NS</td>\n",
              "      <td>1427.042847</td>\n",
              "      <td>1507.156657</td>\n",
              "    </tr>\n",
              "    <tr>\n",
              "      <th>2024-04-26</th>\n",
              "      <td>1439.699951</td>\n",
              "      <td>1445.400024</td>\n",
              "      <td>1427.000000</td>\n",
              "      <td>1430.250000</td>\n",
              "      <td>1430.250000</td>\n",
              "      <td>8062444.0</td>\n",
              "      <td>INFY.NS</td>\n",
              "      <td>1429.299997</td>\n",
              "      <td>1501.478324</td>\n",
              "    </tr>\n",
              "    <tr>\n",
              "      <th>2024-04-29</th>\n",
              "      <td>1429.949951</td>\n",
              "      <td>1439.800049</td>\n",
              "      <td>1428.250000</td>\n",
              "      <td>1434.750000</td>\n",
              "      <td>1434.750000</td>\n",
              "      <td>5054777.0</td>\n",
              "      <td>INFY.NS</td>\n",
              "      <td>1431.514282</td>\n",
              "      <td>1495.538326</td>\n",
              "    </tr>\n",
              "  </tbody>\n",
              "</table>\n",
              "<p>7124 rows × 9 columns</p>\n",
              "</div>\n",
              "    <div class=\"colab-df-buttons\">\n",
              "\n",
              "  <div class=\"colab-df-container\">\n",
              "    <button class=\"colab-df-convert\" onclick=\"convertToInteractive('df-04c7e48e-7717-4a69-81a0-8f5814e7bdd4')\"\n",
              "            title=\"Convert this dataframe to an interactive table.\"\n",
              "            style=\"display:none;\">\n",
              "\n",
              "  <svg xmlns=\"http://www.w3.org/2000/svg\" height=\"24px\" viewBox=\"0 -960 960 960\">\n",
              "    <path d=\"M120-120v-720h720v720H120Zm60-500h600v-160H180v160Zm220 220h160v-160H400v160Zm0 220h160v-160H400v160ZM180-400h160v-160H180v160Zm440 0h160v-160H620v160ZM180-180h160v-160H180v160Zm440 0h160v-160H620v160Z\"/>\n",
              "  </svg>\n",
              "    </button>\n",
              "\n",
              "  <style>\n",
              "    .colab-df-container {\n",
              "      display:flex;\n",
              "      gap: 12px;\n",
              "    }\n",
              "\n",
              "    .colab-df-convert {\n",
              "      background-color: #E8F0FE;\n",
              "      border: none;\n",
              "      border-radius: 50%;\n",
              "      cursor: pointer;\n",
              "      display: none;\n",
              "      fill: #1967D2;\n",
              "      height: 32px;\n",
              "      padding: 0 0 0 0;\n",
              "      width: 32px;\n",
              "    }\n",
              "\n",
              "    .colab-df-convert:hover {\n",
              "      background-color: #E2EBFA;\n",
              "      box-shadow: 0px 1px 2px rgba(60, 64, 67, 0.3), 0px 1px 3px 1px rgba(60, 64, 67, 0.15);\n",
              "      fill: #174EA6;\n",
              "    }\n",
              "\n",
              "    .colab-df-buttons div {\n",
              "      margin-bottom: 4px;\n",
              "    }\n",
              "\n",
              "    [theme=dark] .colab-df-convert {\n",
              "      background-color: #3B4455;\n",
              "      fill: #D2E3FC;\n",
              "    }\n",
              "\n",
              "    [theme=dark] .colab-df-convert:hover {\n",
              "      background-color: #434B5C;\n",
              "      box-shadow: 0px 1px 3px 1px rgba(0, 0, 0, 0.15);\n",
              "      filter: drop-shadow(0px 1px 2px rgba(0, 0, 0, 0.3));\n",
              "      fill: #FFFFFF;\n",
              "    }\n",
              "  </style>\n",
              "\n",
              "    <script>\n",
              "      const buttonEl =\n",
              "        document.querySelector('#df-04c7e48e-7717-4a69-81a0-8f5814e7bdd4 button.colab-df-convert');\n",
              "      buttonEl.style.display =\n",
              "        google.colab.kernel.accessAllowed ? 'block' : 'none';\n",
              "\n",
              "      async function convertToInteractive(key) {\n",
              "        const element = document.querySelector('#df-04c7e48e-7717-4a69-81a0-8f5814e7bdd4');\n",
              "        const dataTable =\n",
              "          await google.colab.kernel.invokeFunction('convertToInteractive',\n",
              "                                                    [key], {});\n",
              "        if (!dataTable) return;\n",
              "\n",
              "        const docLinkHtml = 'Like what you see? Visit the ' +\n",
              "          '<a target=\"_blank\" href=https://colab.research.google.com/notebooks/data_table.ipynb>data table notebook</a>'\n",
              "          + ' to learn more about interactive tables.';\n",
              "        element.innerHTML = '';\n",
              "        dataTable['output_type'] = 'display_data';\n",
              "        await google.colab.output.renderOutput(dataTable, element);\n",
              "        const docLink = document.createElement('div');\n",
              "        docLink.innerHTML = docLinkHtml;\n",
              "        element.appendChild(docLink);\n",
              "      }\n",
              "    </script>\n",
              "  </div>\n",
              "\n",
              "\n",
              "<div id=\"df-a14dfeae-ab1e-4878-b05e-dfb7b2efae53\">\n",
              "  <button class=\"colab-df-quickchart\" onclick=\"quickchart('df-a14dfeae-ab1e-4878-b05e-dfb7b2efae53')\"\n",
              "            title=\"Suggest charts\"\n",
              "            style=\"display:none;\">\n",
              "\n",
              "<svg xmlns=\"http://www.w3.org/2000/svg\" height=\"24px\"viewBox=\"0 0 24 24\"\n",
              "     width=\"24px\">\n",
              "    <g>\n",
              "        <path d=\"M19 3H5c-1.1 0-2 .9-2 2v14c0 1.1.9 2 2 2h14c1.1 0 2-.9 2-2V5c0-1.1-.9-2-2-2zM9 17H7v-7h2v7zm4 0h-2V7h2v10zm4 0h-2v-4h2v4z\"/>\n",
              "    </g>\n",
              "</svg>\n",
              "  </button>\n",
              "\n",
              "<style>\n",
              "  .colab-df-quickchart {\n",
              "      --bg-color: #E8F0FE;\n",
              "      --fill-color: #1967D2;\n",
              "      --hover-bg-color: #E2EBFA;\n",
              "      --hover-fill-color: #174EA6;\n",
              "      --disabled-fill-color: #AAA;\n",
              "      --disabled-bg-color: #DDD;\n",
              "  }\n",
              "\n",
              "  [theme=dark] .colab-df-quickchart {\n",
              "      --bg-color: #3B4455;\n",
              "      --fill-color: #D2E3FC;\n",
              "      --hover-bg-color: #434B5C;\n",
              "      --hover-fill-color: #FFFFFF;\n",
              "      --disabled-bg-color: #3B4455;\n",
              "      --disabled-fill-color: #666;\n",
              "  }\n",
              "\n",
              "  .colab-df-quickchart {\n",
              "    background-color: var(--bg-color);\n",
              "    border: none;\n",
              "    border-radius: 50%;\n",
              "    cursor: pointer;\n",
              "    display: none;\n",
              "    fill: var(--fill-color);\n",
              "    height: 32px;\n",
              "    padding: 0;\n",
              "    width: 32px;\n",
              "  }\n",
              "\n",
              "  .colab-df-quickchart:hover {\n",
              "    background-color: var(--hover-bg-color);\n",
              "    box-shadow: 0 1px 2px rgba(60, 64, 67, 0.3), 0 1px 3px 1px rgba(60, 64, 67, 0.15);\n",
              "    fill: var(--button-hover-fill-color);\n",
              "  }\n",
              "\n",
              "  .colab-df-quickchart-complete:disabled,\n",
              "  .colab-df-quickchart-complete:disabled:hover {\n",
              "    background-color: var(--disabled-bg-color);\n",
              "    fill: var(--disabled-fill-color);\n",
              "    box-shadow: none;\n",
              "  }\n",
              "\n",
              "  .colab-df-spinner {\n",
              "    border: 2px solid var(--fill-color);\n",
              "    border-color: transparent;\n",
              "    border-bottom-color: var(--fill-color);\n",
              "    animation:\n",
              "      spin 1s steps(1) infinite;\n",
              "  }\n",
              "\n",
              "  @keyframes spin {\n",
              "    0% {\n",
              "      border-color: transparent;\n",
              "      border-bottom-color: var(--fill-color);\n",
              "      border-left-color: var(--fill-color);\n",
              "    }\n",
              "    20% {\n",
              "      border-color: transparent;\n",
              "      border-left-color: var(--fill-color);\n",
              "      border-top-color: var(--fill-color);\n",
              "    }\n",
              "    30% {\n",
              "      border-color: transparent;\n",
              "      border-left-color: var(--fill-color);\n",
              "      border-top-color: var(--fill-color);\n",
              "      border-right-color: var(--fill-color);\n",
              "    }\n",
              "    40% {\n",
              "      border-color: transparent;\n",
              "      border-right-color: var(--fill-color);\n",
              "      border-top-color: var(--fill-color);\n",
              "    }\n",
              "    60% {\n",
              "      border-color: transparent;\n",
              "      border-right-color: var(--fill-color);\n",
              "    }\n",
              "    80% {\n",
              "      border-color: transparent;\n",
              "      border-right-color: var(--fill-color);\n",
              "      border-bottom-color: var(--fill-color);\n",
              "    }\n",
              "    90% {\n",
              "      border-color: transparent;\n",
              "      border-bottom-color: var(--fill-color);\n",
              "    }\n",
              "  }\n",
              "</style>\n",
              "\n",
              "  <script>\n",
              "    async function quickchart(key) {\n",
              "      const quickchartButtonEl =\n",
              "        document.querySelector('#' + key + ' button');\n",
              "      quickchartButtonEl.disabled = true;  // To prevent multiple clicks.\n",
              "      quickchartButtonEl.classList.add('colab-df-spinner');\n",
              "      try {\n",
              "        const charts = await google.colab.kernel.invokeFunction(\n",
              "            'suggestCharts', [key], {});\n",
              "      } catch (error) {\n",
              "        console.error('Error during call to suggestCharts:', error);\n",
              "      }\n",
              "      quickchartButtonEl.classList.remove('colab-df-spinner');\n",
              "      quickchartButtonEl.classList.add('colab-df-quickchart-complete');\n",
              "    }\n",
              "    (() => {\n",
              "      let quickchartButtonEl =\n",
              "        document.querySelector('#df-a14dfeae-ab1e-4878-b05e-dfb7b2efae53 button');\n",
              "      quickchartButtonEl.style.display =\n",
              "        google.colab.kernel.accessAllowed ? 'block' : 'none';\n",
              "    })();\n",
              "  </script>\n",
              "</div>\n",
              "\n",
              "  <div id=\"id_bc3be8b0-c382-4eb4-89d8-0967de82b10a\">\n",
              "    <style>\n",
              "      .colab-df-generate {\n",
              "        background-color: #E8F0FE;\n",
              "        border: none;\n",
              "        border-radius: 50%;\n",
              "        cursor: pointer;\n",
              "        display: none;\n",
              "        fill: #1967D2;\n",
              "        height: 32px;\n",
              "        padding: 0 0 0 0;\n",
              "        width: 32px;\n",
              "      }\n",
              "\n",
              "      .colab-df-generate:hover {\n",
              "        background-color: #E2EBFA;\n",
              "        box-shadow: 0px 1px 2px rgba(60, 64, 67, 0.3), 0px 1px 3px 1px rgba(60, 64, 67, 0.15);\n",
              "        fill: #174EA6;\n",
              "      }\n",
              "\n",
              "      [theme=dark] .colab-df-generate {\n",
              "        background-color: #3B4455;\n",
              "        fill: #D2E3FC;\n",
              "      }\n",
              "\n",
              "      [theme=dark] .colab-df-generate:hover {\n",
              "        background-color: #434B5C;\n",
              "        box-shadow: 0px 1px 3px 1px rgba(0, 0, 0, 0.15);\n",
              "        filter: drop-shadow(0px 1px 2px rgba(0, 0, 0, 0.3));\n",
              "        fill: #FFFFFF;\n",
              "      }\n",
              "    </style>\n",
              "    <button class=\"colab-df-generate\" onclick=\"generateWithVariable('df')\"\n",
              "            title=\"Generate code using this dataframe.\"\n",
              "            style=\"display:none;\">\n",
              "\n",
              "  <svg xmlns=\"http://www.w3.org/2000/svg\" height=\"24px\"viewBox=\"0 0 24 24\"\n",
              "       width=\"24px\">\n",
              "    <path d=\"M7,19H8.4L18.45,9,17,7.55,7,17.6ZM5,21V16.75L18.45,3.32a2,2,0,0,1,2.83,0l1.4,1.43a1.91,1.91,0,0,1,.58,1.4,1.91,1.91,0,0,1-.58,1.4L9.25,21ZM18.45,9,17,7.55Zm-12,3A5.31,5.31,0,0,0,4.9,8.1,5.31,5.31,0,0,0,1,6.5,5.31,5.31,0,0,0,4.9,4.9,5.31,5.31,0,0,0,6.5,1,5.31,5.31,0,0,0,8.1,4.9,5.31,5.31,0,0,0,12,6.5,5.46,5.46,0,0,0,6.5,12Z\"/>\n",
              "  </svg>\n",
              "    </button>\n",
              "    <script>\n",
              "      (() => {\n",
              "      const buttonEl =\n",
              "        document.querySelector('#id_bc3be8b0-c382-4eb4-89d8-0967de82b10a button.colab-df-generate');\n",
              "      buttonEl.style.display =\n",
              "        google.colab.kernel.accessAllowed ? 'block' : 'none';\n",
              "\n",
              "      buttonEl.onclick = () => {\n",
              "        google.colab.notebook.generateWithVariable('df');\n",
              "      }\n",
              "      })();\n",
              "    </script>\n",
              "  </div>\n",
              "\n",
              "    </div>\n",
              "  </div>\n"
            ],
            "application/vnd.google.colaboratory.intrinsic+json": {
              "type": "dataframe",
              "variable_name": "df",
              "summary": "{\n  \"name\": \"df\",\n  \"rows\": 7124,\n  \"fields\": [\n    {\n      \"column\": \"Date\",\n      \"properties\": {\n        \"dtype\": \"date\",\n        \"min\": \"1996-01-01 00:00:00\",\n        \"max\": \"2024-04-29 00:00:00\",\n        \"num_unique_values\": 7124,\n        \"samples\": [\n          \"2010-02-17 00:00:00\",\n          \"2003-10-17 00:00:00\",\n          \"2001-12-26 00:00:00\"\n        ],\n        \"semantic_type\": \"\",\n        \"description\": \"\"\n      }\n    },\n    {\n      \"column\": \"open\",\n      \"properties\": {\n        \"dtype\": \"number\",\n        \"std\": 461.6864829742223,\n        \"min\": 0.7631829977035522,\n        \"max\": 1938.550048828125,\n        \"num_unique_values\": 5681,\n        \"samples\": [\n          106.0484390258789,\n          157.96875,\n          83.1148452758789\n        ],\n        \"semantic_type\": \"\",\n        \"description\": \"\"\n      }\n    },\n    {\n      \"column\": \"high\",\n      \"properties\": {\n        \"dtype\": \"number\",\n        \"std\": 465.73510901561104,\n        \"min\": 0.765625,\n        \"max\": 1953.9000244140625,\n        \"num_unique_values\": 6136,\n        \"samples\": [\n          525.4000244140625,\n          385.625,\n          1598.199951171875\n        ],\n        \"semantic_type\": \"\",\n        \"description\": \"\"\n      }\n    },\n    {\n      \"column\": \"low\",\n      \"properties\": {\n        \"dtype\": \"number\",\n        \"std\": 457.37282964092634,\n        \"min\": 0.7128900289535522,\n        \"max\": 1930.5,\n        \"num_unique_values\": 6340,\n        \"samples\": [\n          19.6171875,\n          1438.050048828125,\n          265.0\n        ],\n        \"semantic_type\": \"\",\n        \"description\": \"\"\n      }\n    },\n    {\n      \"column\": \"close\",\n      \"properties\": {\n        \"dtype\": \"number\",\n        \"std\": 461.55075049851433,\n        \"min\": 0.7631829977035522,\n        \"max\": 1939.5,\n        \"num_unique_values\": 6784,\n        \"samples\": [\n          199.8062438964844,\n          57.32500076293945,\n          732.0\n        ],\n        \"semantic_type\": \"\",\n        \"description\": \"\"\n      }\n    },\n    {\n      \"column\": \"adjclose\",\n      \"properties\": {\n        \"dtype\": \"number\",\n        \"std\": 450.4486855497283,\n        \"min\": 0.5027320981025696,\n        \"max\": 1849.313232421875,\n        \"num_unique_values\": 6912,\n        \"samples\": [\n          83.27157592773438,\n          122.12918090820312,\n          1774.55859375\n        ],\n        \"semantic_type\": \"\",\n        \"description\": \"\"\n      }\n    },\n    {\n      \"column\": \"volume\",\n      \"properties\": {\n        \"dtype\": \"number\",\n        \"std\": 15676481.847091904,\n        \"min\": 0.0,\n        \"max\": 276615040.0,\n        \"num_unique_values\": 6645,\n        \"samples\": [\n          7097544.0,\n          36261888.0,\n          41770816.0\n        ],\n        \"semantic_type\": \"\",\n        \"description\": \"\"\n      }\n    },\n    {\n      \"column\": \"ticker\",\n      \"properties\": {\n        \"dtype\": \"category\",\n        \"num_unique_values\": 1,\n        \"samples\": [\n          \"INFY.NS\"\n        ],\n        \"semantic_type\": \"\",\n        \"description\": \"\"\n      }\n    },\n    {\n      \"column\": \"MA7\",\n      \"properties\": {\n        \"dtype\": \"number\",\n        \"std\": 462.3633573657432,\n        \"min\": 0.7696702820914132,\n        \"max\": 1898.0714285714287,\n        \"num_unique_values\": 7058,\n        \"samples\": [\n          148.2624969482422\n        ],\n        \"semantic_type\": \"\",\n        \"description\": \"\"\n      }\n    },\n    {\n      \"column\": \"MA30\",\n      \"properties\": {\n        \"dtype\": \"number\",\n        \"std\": 465.54067605922285,\n        \"min\": 0.797834865252177,\n        \"max\": 1847.3683308919271,\n        \"num_unique_values\": 6882,\n        \"samples\": [\n          1483.0116658528646\n        ],\n        \"semantic_type\": \"\",\n        \"description\": \"\"\n      }\n    }\n  ]\n}"
            }
          },
          "metadata": {},
          "execution_count": 133
        }
      ]
    },
    {
      "cell_type": "code",
      "source": [
        "# Drop rows with NaN in any relevant column\n",
        "df_cleaned = df[['open', 'high', 'low', 'volume', 'MA7', 'MA30', 'close']].dropna()\n",
        "\n",
        "# Features and target\n",
        "features = df_cleaned[['open', 'high', 'low', 'volume', 'MA7', 'MA30', 'close']].values\n",
        "target = df_cleaned['close'].values\n",
        "\n",
        "# Normalize target\n",
        "scaler = MinMaxScaler()\n",
        "target_scaled = scaler.fit_transform(target.reshape(-1, 1)).flatten()\n",
        "\n",
        "# Train-test split\n",
        "from sklearn.model_selection import train_test_split\n",
        "X_train, X_test, y_train, y_test = train_test_split(features, target_scaled, test_size=0.2, random_state=42)\n",
        "\n",
        "# Train Random Forest\n",
        "from sklearn.ensemble import RandomForestRegressor\n",
        "model = RandomForestRegressor(n_estimators=100, random_state=42)\n",
        "model.fit(X_train, y_train)\n",
        "\n",
        "# Predict and inverse transform\n",
        "y_pred_scaled = model.predict(X_test)\n",
        "y_pred = scaler.inverse_transform(y_pred_scaled.reshape(-1, 1)).flatten()\n",
        "y_test_original = scaler.inverse_transform(y_test.reshape(-1, 1)).flatten()\n",
        "\n",
        "# Evaluation\n",
        "from sklearn.metrics import mean_squared_error, mean_absolute_error\n",
        "mse = mean_squared_error(y_test_original, y_pred)\n",
        "rmse = np.sqrt(mse)\n",
        "mae = mean_absolute_error(y_test_original, y_pred)\n",
        "\n",
        "print(f\"Mean Squared Error: {mse}\")\n",
        "print(f\"Root Mean Squared Error: {rmse}\")\n",
        "print(f\"Mean Absolute Error: {mae}\")\n"
      ],
      "metadata": {
        "colab": {
          "base_uri": "https://localhost:8080/"
        },
        "id": "THRqNhMr8gE4",
        "outputId": "422c75fc-5933-4641-f07e-ad4400f37e7a"
      },
      "execution_count": 134,
      "outputs": [
        {
          "output_type": "stream",
          "name": "stdout",
          "text": [
            "Mean Squared Error: 1.0540078866570253\n",
            "Root Mean Squared Error: 1.0266488623950378\n",
            "Mean Absolute Error: 0.2947370478006563\n"
          ]
        }
      ]
    },
    {
      "cell_type": "markdown",
      "source": [
        "## Feature Importance"
      ],
      "metadata": {
        "id": "cV_7fX6SDCVO"
      }
    },
    {
      "cell_type": "code",
      "source": [
        "importances = model.feature_importances_\n",
        "feature_names = ['open', 'high', 'low', 'volume', 'MA7', 'MA30']\n",
        "for name, importance in zip(feature_names, importances):\n",
        "    print(f\"{name}: {importance:.2f}\")\n"
      ],
      "metadata": {
        "colab": {
          "base_uri": "https://localhost:8080/"
        },
        "id": "r1aKMfPeBiBu",
        "outputId": "475daccb-0105-4863-a449-ecddd3533ff1"
      },
      "execution_count": 135,
      "outputs": [
        {
          "output_type": "stream",
          "name": "stdout",
          "text": [
            "open: 0.19\n",
            "high: 0.23\n",
            "low: 0.17\n",
            "volume: 0.00\n",
            "MA7: 0.06\n",
            "MA30: 0.00\n"
          ]
        }
      ]
    },
    {
      "cell_type": "markdown",
      "source": [
        "## Hyperparameter tuning"
      ],
      "metadata": {
        "id": "BFmPX-bMDFT0"
      }
    },
    {
      "cell_type": "code",
      "source": [
        "from sklearn.model_selection import GridSearchCV\n",
        "\n",
        "param_grid = {\n",
        "    'n_estimators': [50, 100, 200],\n",
        "    'max_depth': [None, 10, 20, 30],\n",
        "    'min_samples_split': [2, 5, 10]\n",
        "}\n",
        "grid_search = GridSearchCV(RandomForestRegressor(random_state=42), param_grid, cv=3, scoring='neg_mean_squared_error')\n",
        "grid_search.fit(X_train, y_train)\n",
        "best_model = grid_search.best_estimator_"
      ],
      "metadata": {
        "id": "_LrA3SSgC5v8"
      },
      "execution_count": 136,
      "outputs": []
    },
    {
      "cell_type": "code",
      "source": [
        "import matplotlib.pyplot as plt\n",
        "\n",
        "plt.figure(figsize=(10, 6))\n",
        "plt.plot(y_test, label='Actual Prices')\n",
        "plt.plot(y_pred, label='Predicted Prices')\n",
        "plt.legend()\n",
        "plt.title('Actual vs Predicted Stock Prices')\n",
        "plt.xlabel('Time')\n",
        "plt.ylabel('Stock Price')\n",
        "plt.show()"
      ],
      "metadata": {
        "colab": {
          "base_uri": "https://localhost:8080/",
          "height": 564
        },
        "id": "QDygcABmDJJY",
        "outputId": "366038c9-d4a5-494c-f6fb-7ab6494b2b56"
      },
      "execution_count": 137,
      "outputs": [
        {
          "output_type": "display_data",
          "data": {
            "text/plain": [
              "<Figure size 1000x600 with 1 Axes>"
            ],
            "image/png": "[encoded data removed]"
          },
          "metadata": {}
        }
      ]
    },
    {
      "cell_type": "markdown",
      "source": [
        "# Future Predictions"
      ],
      "metadata": {
        "id": "iVmlyZ7KFzzi"
      }
    },
    {
      "cell_type": "code",
      "source": [
        "future_features = np.array([\n",
        "    [0.19, 0.23, 0.17, 0.00, 0.06, 0.00]  # Replace with your actual values\n",
        "])\n",
        "\n",
        "# Ensure it matches the format used for training\n",
        "print(future_features.shape)"
      ],
      "metadata": {
        "colab": {
          "base_uri": "https://localhost:8080/"
        },
        "id": "0nbpobMvFwJD",
        "outputId": "f741a512-b3a8-466d-fdbf-2813d7a99325"
      },
      "execution_count": 138,
      "outputs": [
        {
          "output_type": "stream",
          "name": "stdout",
          "text": [
            "(1, 6)\n"
          ]
        }
      ]
    },
    {
      "cell_type": "code",
      "source": [
        "scaler = MinMaxScaler()\n",
        "features_scaled = scaler.fit_transform(features)  # Use all 7 features"
      ],
      "metadata": {
        "id": "wDNrhw3MI38s"
      },
      "execution_count": 139,
      "outputs": []
    },
    {
      "cell_type": "code",
      "source": [
        "print(future_features.shape)  # Should output (1, 7)"
      ],
      "metadata": {
        "colab": {
          "base_uri": "https://localhost:8080/"
        },
        "id": "WZigIhRVI67k",
        "outputId": "66d49c84-e5a8-4742-8cfb-b85706440dfa"
      },
      "execution_count": 140,
      "outputs": [
        {
          "output_type": "stream",
          "name": "stdout",
          "text": [
            "(1, 6)\n"
          ]
        }
      ]
    },
    {
      "cell_type": "code",
      "source": [
        "print(scaler.n_features_in_)  # Number of features the scaler was fitted on"
      ],
      "metadata": {
        "colab": {
          "base_uri": "https://localhost:8080/"
        },
        "id": "KganrHm6I9YU",
        "outputId": "14051b1f-5efa-4bc6-ca78-07215a5e7467"
      },
      "execution_count": 141,
      "outputs": [
        {
          "output_type": "stream",
          "name": "stdout",
          "text": [
            "7\n"
          ]
        }
      ]
    },
    {
      "cell_type": "code",
      "source": [
        "# Separate scaler for the close price\n",
        "close_scaler = MinMaxScaler()\n",
        "\n",
        "# Fit the scaler only on the 'close' column\n",
        "target_scaled = close_scaler.fit_transform(df[['close']])"
      ],
      "metadata": {
        "id": "jKiEQU_1I_UN"
      },
      "execution_count": 142,
      "outputs": []
    },
    {
      "cell_type": "code",
      "source": [
        "# Assuming 'df' is your DataFrame with stock data\n",
        "last_row = df.iloc[-1]\n",
        "\n",
        "# Include the 'close' feature in future_features\n",
        "future_features = np.array([[last_row['open'], last_row['high'], last_row['low'],\n",
        "                              last_row['volume'], last_row['MA7'], last_row['MA30'], last_row['close']]])\n",
        "\n",
        "# Scale the features\n",
        "future_features_scaled = scaler.transform(future_features)\n",
        "\n",
        "# Predict scaled 'close' value\n",
        "scaled_prediction = model.predict(future_features_scaled)\n",
        "\n",
        "# Inverse transform the scaled prediction\n",
        "original_prediction = scaler.inverse_transform(\n",
        "    np.hstack([future_features_scaled[0, :-1], scaled_prediction.reshape(-1)]).reshape(1, -1)\n",
        ")\n",
        "\n",
        "# Extract the predicted 'close' price\n",
        "predicted_close = original_prediction[0, -1]\n",
        "print(f\"Predicted Close Price: {predicted_close}\")"
      ],
      "metadata": {
        "colab": {
          "base_uri": "https://localhost:8080/"
        },
        "id": "z8d4EhDkS3V_",
        "outputId": "ecb3e52e-69d6-41be-fb01-676fa3087cd2"
      },
      "execution_count": 143,
      "outputs": [
        {
          "output_type": "stream",
          "name": "stdout",
          "text": [
            "Predicted Close Price: 0.9177816659212111\n"
          ]
        }
      ]
    },
    {
      "cell_type": "code",
      "source": [
        "# Convert numpy array to DataFrame, assuming the columns are the same as in the original data\n",
        "future_features = pd.DataFrame(future_features, columns=['open', 'high', 'low', 'volume', 'MA7', 'MA30', 'extra_column'])\n",
        "\n",
        "# Now you can slice using .iloc\n",
        "future_features = future_features.iloc[:, :6]  # Keep only the first 6 features"
      ],
      "metadata": {
        "id": "09O_0rTdWQPD"
      },
      "execution_count": 144,
      "outputs": []
    },
    {
      "cell_type": "code",
      "source": [
        "# Ensure you are selecting the correct 7 columns by name (matching the training columns)\n",
        "future_features = future_features.iloc[:, :7]  # Use iloc to slice the first 7 columns"
      ],
      "metadata": {
        "id": "true19pIWOwn"
      },
      "execution_count": 145,
      "outputs": []
    },
    {
      "cell_type": "code",
      "source": [
        "if isinstance(future_features, pd.DataFrame):\n",
        "    future_features = future_features.iloc[:, :7]  # If it's a DataFrame, slice with .iloc"
      ],
      "metadata": {
        "id": "Mw_HOP7LWpwH"
      },
      "execution_count": 146,
      "outputs": []
    },
    {
      "cell_type": "code",
      "source": [
        "# Ensure last_row is a copy, not a view\n",
        "last_row = df.iloc[-1].copy()\n",
        "\n",
        "# Predict for multiple days\n",
        "num_days = 5\n",
        "predictions = []\n",
        "\n",
        "for _ in range(num_days):\n",
        "    # Prepare features for prediction\n",
        "    future_features = np.array([[last_row['open'], last_row['high'], last_row['low'],\n",
        "                                  last_row['volume'], last_row['MA7'], last_row['MA30'], last_row['close']]])\n",
        "    future_features_scaled = scaler.transform(future_features)\n",
        "\n",
        "    # Predict and inverse scale\n",
        "    scaled_prediction = model.predict(future_features_scaled)\n",
        "    original_prediction = scaler.inverse_transform(\n",
        "        np.hstack([future_features_scaled[0, :-1], scaled_prediction.reshape(-1)]).reshape(1, -1)\n",
        "    )\n",
        "    predicted_close = original_prediction[0, -1]\n",
        "    predictions.append(predicted_close)\n",
        "\n",
        "    # Update last_row for the next prediction\n",
        "    last_row['close'] = predicted_close\n",
        "    last_row['MA7'] = (last_row['MA7'] * 6 + predicted_close) / 7  # Update moving average\n",
        "    last_row['MA30'] = (last_row['MA30'] * 29 + predicted_close) / 30\n",
        "\n",
        "print(f\"Predicted Close Prices for {num_days} days: {predictions}\")"
      ],
      "metadata": {
        "colab": {
          "base_uri": "https://localhost:8080/"
        },
        "id": "Mzv1Pe53TIXT",
        "outputId": "ba01bf32-e011-4fdf-ea50-8c5dc1105a05"
      },
      "execution_count": 148,
      "outputs": [
        {
          "output_type": "stream",
          "name": "stdout",
          "text": [
            "Predicted Close Prices for 5 days: [0.9177816659212111, 0.9180004161596298, 0.9180004161596298, 0.9180004161596298, 0.9180004161596298]\n"
          ]
        }
      ]
    },
    {
      "cell_type": "code",
      "source": [
        "df"
      ],
      "metadata": {
        "id": "ZTGumHVDURDL",
        "colab": {
          "base_uri": "https://localhost:8080/",
          "height": 640
        },
        "outputId": "9851c4f6-7fdf-437d-a419-8515ee9aaebf"
      },
      "execution_count": 149,
      "outputs": [
        {
          "output_type": "execute_result",
          "data": {
            "text/plain": [
              "                   open         high          low        close     adjclose  \\\n",
              "Date                                                                          \n",
              "1996-01-01     0.794921     0.796679     0.791015     0.796679     0.524797   \n",
              "1996-01-02     0.794921     0.798828     0.793457     0.793457     0.522674   \n",
              "1996-01-03     0.798828     0.798828     0.798828     0.798828     0.526212   \n",
              "1996-01-04     0.791015     0.794921     0.791015     0.793554     0.522738   \n",
              "1996-01-05     0.784179     0.784179     0.784179     0.784179     0.516563   \n",
              "...                 ...          ...          ...          ...          ...   \n",
              "2024-04-23  1443.000000  1446.849976  1433.000000  1442.400024  1442.400024   \n",
              "2024-04-24  1444.300049  1444.300049  1427.050049  1430.750000  1430.750000   \n",
              "2024-04-25  1420.000000  1444.900024  1420.000000  1438.449951  1438.449951   \n",
              "2024-04-26  1439.699951  1445.400024  1427.000000  1430.250000  1430.250000   \n",
              "2024-04-29  1429.949951  1439.800049  1428.250000  1434.750000  1434.750000   \n",
              "\n",
              "               volume   ticker          MA7         MA30  \n",
              "Date                                                      \n",
              "1996-01-01   204800.0  INFY.NS          NaN          NaN  \n",
              "1996-01-02   204800.0  INFY.NS          NaN          NaN  \n",
              "1996-01-03   102400.0  INFY.NS          NaN          NaN  \n",
              "1996-01-04   307200.0  INFY.NS          NaN          NaN  \n",
              "1996-01-05    51200.0  INFY.NS          NaN          NaN  \n",
              "...               ...      ...          ...          ...  \n",
              "2024-04-23  4856174.0  INFY.NS  1439.000000  1519.316659  \n",
              "2024-04-24  4268213.0  INFY.NS  1431.285714  1513.089990  \n",
              "2024-04-25  9089398.0  INFY.NS  1427.042847  1507.156657  \n",
              "2024-04-26  8062444.0  INFY.NS  1429.299997  1501.478324  \n",
              "2024-04-29  5054777.0  INFY.NS  1431.514282  1495.538326  \n",
              "\n",
              "[7124 rows x 9 columns]"
            ],
            "text/html": [
              "\n",
              "  <div id=\"df-43f7e7a1-9a92-4fa8-83f7-1d5c29a2b72c\" class=\"colab-df-container\">\n",
              "    <div>\n",
              "<style scoped>\n",
              "    .dataframe tbody tr th:only-of-type {\n",
              "        vertical-align: middle;\n",
              "    }\n",
              "\n",
              "    .dataframe tbody tr th {\n",
              "        vertical-align: top;\n",
              "    }\n",
              "\n",
              "    .dataframe thead th {\n",
              "        text-align: right;\n",
              "    }\n",
              "</style>\n",
              "<table border=\"1\" class=\"dataframe\">\n",
              "  <thead>\n",
              "    <tr style=\"text-align: right;\">\n",
              "      <th></th>\n",
              "      <th>open</th>\n",
              "      <th>high</th>\n",
              "      <th>low</th>\n",
              "      <th>close</th>\n",
              "      <th>adjclose</th>\n",
              "      <th>volume</th>\n",
              "      <th>ticker</th>\n",
              "      <th>MA7</th>\n",
              "      <th>MA30</th>\n",
              "    </tr>\n",
              "    <tr>\n",
              "      <th>Date</th>\n",
              "      <th></th>\n",
              "      <th></th>\n",
              "      <th></th>\n",
              "      <th></th>\n",
              "      <th></th>\n",
              "      <th></th>\n",
              "      <th></th>\n",
              "      <th></th>\n",
              "      <th></th>\n",
              "    </tr>\n",
              "  </thead>\n",
              "  <tbody>\n",
              "    <tr>\n",
              "      <th>1996-01-01</th>\n",
              "      <td>0.794921</td>\n",
              "      <td>0.796679</td>\n",
              "      <td>0.791015</td>\n",
              "      <td>0.796679</td>\n",
              "      <td>0.524797</td>\n",
              "      <td>204800.0</td>\n",
              "      <td>INFY.NS</td>\n",
              "      <td>NaN</td>\n",
              "      <td>NaN</td>\n",
              "    </tr>\n",
              "    <tr>\n",
              "      <th>1996-01-02</th>\n",
              "      <td>0.794921</td>\n",
              "      <td>0.798828</td>\n",
              "      <td>0.793457</td>\n",
              "      <td>0.793457</td>\n",
              "      <td>0.522674</td>\n",
              "      <td>204800.0</td>\n",
              "      <td>INFY.NS</td>\n",
              "      <td>NaN</td>\n",
              "      <td>NaN</td>\n",
              "    </tr>\n",
              "    <tr>\n",
              "      <th>1996-01-03</th>\n",
              "      <td>0.798828</td>\n",
              "      <td>0.798828</td>\n",
              "      <td>0.798828</td>\n",
              "      <td>0.798828</td>\n",
              "      <td>0.526212</td>\n",
              "      <td>102400.0</td>\n",
              "      <td>INFY.NS</td>\n",
              "      <td>NaN</td>\n",
              "      <td>NaN</td>\n",
              "    </tr>\n",
              "    <tr>\n",
              "      <th>1996-01-04</th>\n",
              "      <td>0.791015</td>\n",
              "      <td>0.794921</td>\n",
              "      <td>0.791015</td>\n",
              "      <td>0.793554</td>\n",
              "      <td>0.522738</td>\n",
              "      <td>307200.0</td>\n",
              "      <td>INFY.NS</td>\n",
              "      <td>NaN</td>\n",
              "      <td>NaN</td>\n",
              "    </tr>\n",
              "    <tr>\n",
              "      <th>1996-01-05</th>\n",
              "      <td>0.784179</td>\n",
              "      <td>0.784179</td>\n",
              "      <td>0.784179</td>\n",
              "      <td>0.784179</td>\n",
              "      <td>0.516563</td>\n",
              "      <td>51200.0</td>\n",
              "      <td>INFY.NS</td>\n",
              "      <td>NaN</td>\n",
              "      <td>NaN</td>\n",
              "    </tr>\n",
              "    <tr>\n",
              "      <th>...</th>\n",
              "      <td>...</td>\n",
              "      <td>...</td>\n",
              "      <td>...</td>\n",
              "      <td>...</td>\n",
              "      <td>...</td>\n",
              "      <td>...</td>\n",
              "      <td>...</td>\n",
              "      <td>...</td>\n",
              "      <td>...</td>\n",
              "    </tr>\n",
              "    <tr>\n",
              "      <th>2024-04-23</th>\n",
              "      <td>1443.000000</td>\n",
              "      <td>1446.849976</td>\n",
              "      <td>1433.000000</td>\n",
              "      <td>1442.400024</td>\n",
              "      <td>1442.400024</td>\n",
              "      <td>4856174.0</td>\n",
              "      <td>INFY.NS</td>\n",
              "      <td>1439.000000</td>\n",
              "      <td>1519.316659</td>\n",
              "    </tr>\n",
              "    <tr>\n",
              "      <th>2024-04-24</th>\n",
              "      <td>1444.300049</td>\n",
              "      <td>1444.300049</td>\n",
              "      <td>1427.050049</td>\n",
              "      <td>1430.750000</td>\n",
              "      <td>1430.750000</td>\n",
              "      <td>4268213.0</td>\n",
              "      <td>INFY.NS</td>\n",
              "      <td>1431.285714</td>\n",
              "      <td>1513.089990</td>\n",
              "    </tr>\n",
              "    <tr>\n",
              "      <th>2024-04-25</th>\n",
              "      <td>1420.000000</td>\n",
              "      <td>1444.900024</td>\n",
              "      <td>1420.000000</td>\n",
              "      <td>1438.449951</td>\n",
              "      <td>1438.449951</td>\n",
              "      <td>9089398.0</td>\n",
              "      <td>INFY.NS</td>\n",
              "      <td>1427.042847</td>\n",
              "      <td>1507.156657</td>\n",
              "    </tr>\n",
              "    <tr>\n",
              "      <th>2024-04-26</th>\n",
              "      <td>1439.699951</td>\n",
              "      <td>1445.400024</td>\n",
              "      <td>1427.000000</td>\n",
              "      <td>1430.250000</td>\n",
              "      <td>1430.250000</td>\n",
              "      <td>8062444.0</td>\n",
              "      <td>INFY.NS</td>\n",
              "      <td>1429.299997</td>\n",
              "      <td>1501.478324</td>\n",
              "    </tr>\n",
              "    <tr>\n",
              "      <th>2024-04-29</th>\n",
              "      <td>1429.949951</td>\n",
              "      <td>1439.800049</td>\n",
              "      <td>1428.250000</td>\n",
              "      <td>1434.750000</td>\n",
              "      <td>1434.750000</td>\n",
              "      <td>5054777.0</td>\n",
              "      <td>INFY.NS</td>\n",
              "      <td>1431.514282</td>\n",
              "      <td>1495.538326</td>\n",
              "    </tr>\n",
              "  </tbody>\n",
              "</table>\n",
              "<p>7124 rows × 9 columns</p>\n",
              "</div>\n",
              "    <div class=\"colab-df-buttons\">\n",
              "\n",
              "  <div class=\"colab-df-container\">\n",
              "    <button class=\"colab-df-convert\" onclick=\"convertToInteractive('df-43f7e7a1-9a92-4fa8-83f7-1d5c29a2b72c')\"\n",
              "            title=\"Convert this dataframe to an interactive table.\"\n",
              "            style=\"display:none;\">\n",
              "\n",
              "  <svg xmlns=\"http://www.w3.org/2000/svg\" height=\"24px\" viewBox=\"0 -960 960 960\">\n",
              "    <path d=\"M120-120v-720h720v720H120Zm60-500h600v-160H180v160Zm220 220h160v-160H400v160Zm0 220h160v-160H400v160ZM180-400h160v-160H180v160Zm440 0h160v-160H620v160ZM180-180h160v-160H180v160Zm440 0h160v-160H620v160Z\"/>\n",
              "  </svg>\n",
              "    </button>\n",
              "\n",
              "  <style>\n",
              "    .colab-df-container {\n",
              "      display:flex;\n",
              "      gap: 12px;\n",
              "    }\n",
              "\n",
              "    .colab-df-convert {\n",
              "      background-color: #E8F0FE;\n",
              "      border: none;\n",
              "      border-radius: 50%;\n",
              "      cursor: pointer;\n",
              "      display: none;\n",
              "      fill: #1967D2;\n",
              "      height: 32px;\n",
              "      padding: 0 0 0 0;\n",
              "      width: 32px;\n",
              "    }\n",
              "\n",
              "    .colab-df-convert:hover {\n",
              "      background-color: #E2EBFA;\n",
              "      box-shadow: 0px 1px 2px rgba(60, 64, 67, 0.3), 0px 1px 3px 1px rgba(60, 64, 67, 0.15);\n",
              "      fill: #174EA6;\n",
              "    }\n",
              "\n",
              "    .colab-df-buttons div {\n",
              "      margin-bottom: 4px;\n",
              "    }\n",
              "\n",
              "    [theme=dark] .colab-df-convert {\n",
              "      background-color: #3B4455;\n",
              "      fill: #D2E3FC;\n",
              "    }\n",
              "\n",
              "    [theme=dark] .colab-df-convert:hover {\n",
              "      background-color: #434B5C;\n",
              "      box-shadow: 0px 1px 3px 1px rgba(0, 0, 0, 0.15);\n",
              "      filter: drop-shadow(0px 1px 2px rgba(0, 0, 0, 0.3));\n",
              "      fill: #FFFFFF;\n",
              "    }\n",
              "  </style>\n",
              "\n",
              "    <script>\n",
              "      const buttonEl =\n",
              "        document.querySelector('#df-43f7e7a1-9a92-4fa8-83f7-1d5c29a2b72c button.colab-df-convert');\n",
              "      buttonEl.style.display =\n",
              "        google.colab.kernel.accessAllowed ? 'block' : 'none';\n",
              "\n",
              "      async function convertToInteractive(key) {\n",
              "        const element = document.querySelector('#df-43f7e7a1-9a92-4fa8-83f7-1d5c29a2b72c');\n",
              "        const dataTable =\n",
              "          await google.colab.kernel.invokeFunction('convertToInteractive',\n",
              "                                                    [key], {});\n",
              "        if (!dataTable) return;\n",
              "\n",
              "        const docLinkHtml = 'Like what you see? Visit the ' +\n",
              "          '<a target=\"_blank\" href=https://colab.research.google.com/notebooks/data_table.ipynb>data table notebook</a>'\n",
              "          + ' to learn more about interactive tables.';\n",
              "        element.innerHTML = '';\n",
              "        dataTable['output_type'] = 'display_data';\n",
              "        await google.colab.output.renderOutput(dataTable, element);\n",
              "        const docLink = document.createElement('div');\n",
              "        docLink.innerHTML = docLinkHtml;\n",
              "        element.appendChild(docLink);\n",
              "      }\n",
              "    </script>\n",
              "  </div>\n",
              "\n",
              "\n",
              "<div id=\"df-2dbce997-eb5c-4fe7-b3a6-0c778205be1a\">\n",
              "  <button class=\"colab-df-quickchart\" onclick=\"quickchart('df-2dbce997-eb5c-4fe7-b3a6-0c778205be1a')\"\n",
              "            title=\"Suggest charts\"\n",
              "            style=\"display:none;\">\n",
              "\n",
              "<svg xmlns=\"http://www.w3.org/2000/svg\" height=\"24px\"viewBox=\"0 0 24 24\"\n",
              "     width=\"24px\">\n",
              "    <g>\n",
              "        <path d=\"M19 3H5c-1.1 0-2 .9-2 2v14c0 1.1.9 2 2 2h14c1.1 0 2-.9 2-2V5c0-1.1-.9-2-2-2zM9 17H7v-7h2v7zm4 0h-2V7h2v10zm4 0h-2v-4h2v4z\"/>\n",
              "    </g>\n",
              "</svg>\n",
              "  </button>\n",
              "\n",
              "<style>\n",
              "  .colab-df-quickchart {\n",
              "      --bg-color: #E8F0FE;\n",
              "      --fill-color: #1967D2;\n",
              "      --hover-bg-color: #E2EBFA;\n",
              "      --hover-fill-color: #174EA6;\n",
              "      --disabled-fill-color: #AAA;\n",
              "      --disabled-bg-color: #DDD;\n",
              "  }\n",
              "\n",
              "  [theme=dark] .colab-df-quickchart {\n",
              "      --bg-color: #3B4455;\n",
              "      --fill-color: #D2E3FC;\n",
              "      --hover-bg-color: #434B5C;\n",
              "      --hover-fill-color: #FFFFFF;\n",
              "      --disabled-bg-color: #3B4455;\n",
              "      --disabled-fill-color: #666;\n",
              "  }\n",
              "\n",
              "  .colab-df-quickchart {\n",
              "    background-color: var(--bg-color);\n",
              "    border: none;\n",
              "    border-radius: 50%;\n",
              "    cursor: pointer;\n",
              "    display: none;\n",
              "    fill: var(--fill-color);\n",
              "    height: 32px;\n",
              "    padding: 0;\n",
              "    width: 32px;\n",
              "  }\n",
              "\n",
              "  .colab-df-quickchart:hover {\n",
              "    background-color: var(--hover-bg-color);\n",
              "    box-shadow: 0 1px 2px rgba(60, 64, 67, 0.3), 0 1px 3px 1px rgba(60, 64, 67, 0.15);\n",
              "    fill: var(--button-hover-fill-color);\n",
              "  }\n",
              "\n",
              "  .colab-df-quickchart-complete:disabled,\n",
              "  .colab-df-quickchart-complete:disabled:hover {\n",
              "    background-color: var(--disabled-bg-color);\n",
              "    fill: var(--disabled-fill-color);\n",
              "    box-shadow: none;\n",
              "  }\n",
              "\n",
              "  .colab-df-spinner {\n",
              "    border: 2px solid var(--fill-color);\n",
              "    border-color: transparent;\n",
              "    border-bottom-color: var(--fill-color);\n",
              "    animation:\n",
              "      spin 1s steps(1) infinite;\n",
              "  }\n",
              "\n",
              "  @keyframes spin {\n",
              "    0% {\n",
              "      border-color: transparent;\n",
              "      border-bottom-color: var(--fill-color);\n",
              "      border-left-color: var(--fill-color);\n",
              "    }\n",
              "    20% {\n",
              "      border-color: transparent;\n",
              "      border-left-color: var(--fill-color);\n",
              "      border-top-color: var(--fill-color);\n",
              "    }\n",
              "    30% {\n",
              "      border-color: transparent;\n",
              "      border-left-color: var(--fill-color);\n",
              "      border-top-color: var(--fill-color);\n",
              "      border-right-color: var(--fill-color);\n",
              "    }\n",
              "    40% {\n",
              "      border-color: transparent;\n",
              "      border-right-color: var(--fill-color);\n",
              "      border-top-color: var(--fill-color);\n",
              "    }\n",
              "    60% {\n",
              "      border-color: transparent;\n",
              "      border-right-color: var(--fill-color);\n",
              "    }\n",
              "    80% {\n",
              "      border-color: transparent;\n",
              "      border-right-color: var(--fill-color);\n",
              "      border-bottom-color: var(--fill-color);\n",
              "    }\n",
              "    90% {\n",
              "      border-color: transparent;\n",
              "      border-bottom-color: var(--fill-color);\n",
              "    }\n",
              "  }\n",
              "</style>\n",
              "\n",
              "  <script>\n",
              "    async function quickchart(key) {\n",
              "      const quickchartButtonEl =\n",
              "        document.querySelector('#' + key + ' button');\n",
              "      quickchartButtonEl.disabled = true;  // To prevent multiple clicks.\n",
              "      quickchartButtonEl.classList.add('colab-df-spinner');\n",
              "      try {\n",
              "        const charts = await google.colab.kernel.invokeFunction(\n",
              "            'suggestCharts', [key], {});\n",
              "      } catch (error) {\n",
              "        console.error('Error during call to suggestCharts:', error);\n",
              "      }\n",
              "      quickchartButtonEl.classList.remove('colab-df-spinner');\n",
              "      quickchartButtonEl.classList.add('colab-df-quickchart-complete');\n",
              "    }\n",
              "    (() => {\n",
              "      let quickchartButtonEl =\n",
              "        document.querySelector('#df-2dbce997-eb5c-4fe7-b3a6-0c778205be1a button');\n",
              "      quickchartButtonEl.style.display =\n",
              "        google.colab.kernel.accessAllowed ? 'block' : 'none';\n",
              "    })();\n",
              "  </script>\n",
              "</div>\n",
              "\n",
              "  <div id=\"id_0ced6d8a-eab6-41c6-abcc-39a6e7eb857e\">\n",
              "    <style>\n",
              "      .colab-df-generate {\n",
              "        background-color: #E8F0FE;\n",
              "        border: none;\n",
              "        border-radius: 50%;\n",
              "        cursor: pointer;\n",
              "        display: none;\n",
              "        fill: #1967D2;\n",
              "        height: 32px;\n",
              "        padding: 0 0 0 0;\n",
              "        width: 32px;\n",
              "      }\n",
              "\n",
              "      .colab-df-generate:hover {\n",
              "        background-color: #E2EBFA;\n",
              "        box-shadow: 0px 1px 2px rgba(60, 64, 67, 0.3), 0px 1px 3px 1px rgba(60, 64, 67, 0.15);\n",
              "        fill: #174EA6;\n",
              "      }\n",
              "\n",
              "      [theme=dark] .colab-df-generate {\n",
              "        background-color: #3B4455;\n",
              "        fill: #D2E3FC;\n",
              "      }\n",
              "\n",
              "      [theme=dark] .colab-df-generate:hover {\n",
              "        background-color: #434B5C;\n",
              "        box-shadow: 0px 1px 3px 1px rgba(0, 0, 0, 0.15);\n",
              "        filter: drop-shadow(0px 1px 2px rgba(0, 0, 0, 0.3));\n",
              "        fill: #FFFFFF;\n",
              "      }\n",
              "    </style>\n",
              "    <button class=\"colab-df-generate\" onclick=\"generateWithVariable('df')\"\n",
              "            title=\"Generate code using this dataframe.\"\n",
              "            style=\"display:none;\">\n",
              "\n",
              "  <svg xmlns=\"http://www.w3.org/2000/svg\" height=\"24px\"viewBox=\"0 0 24 24\"\n",
              "       width=\"24px\">\n",
              "    <path d=\"M7,19H8.4L18.45,9,17,7.55,7,17.6ZM5,21V16.75L18.45,3.32a2,2,0,0,1,2.83,0l1.4,1.43a1.91,1.91,0,0,1,.58,1.4,1.91,1.91,0,0,1-.58,1.4L9.25,21ZM18.45,9,17,7.55Zm-12,3A5.31,5.31,0,0,0,4.9,8.1,5.31,5.31,0,0,0,1,6.5,5.31,5.31,0,0,0,4.9,4.9,5.31,5.31,0,0,0,6.5,1,5.31,5.31,0,0,0,8.1,4.9,5.31,5.31,0,0,0,12,6.5,5.46,5.46,0,0,0,6.5,12Z\"/>\n",
              "  </svg>\n",
              "    </button>\n",
              "    <script>\n",
              "      (() => {\n",
              "      const buttonEl =\n",
              "        document.querySelector('#id_0ced6d8a-eab6-41c6-abcc-39a6e7eb857e button.colab-df-generate');\n",
              "      buttonEl.style.display =\n",
              "        google.colab.kernel.accessAllowed ? 'block' : 'none';\n",
              "\n",
              "      buttonEl.onclick = () => {\n",
              "        google.colab.notebook.generateWithVariable('df');\n",
              "      }\n",
              "      })();\n",
              "    </script>\n",
              "  </div>\n",
              "\n",
              "    </div>\n",
              "  </div>\n"
            ],
            "application/vnd.google.colaboratory.intrinsic+json": {
              "type": "dataframe",
              "variable_name": "df",
              "summary": "{\n  \"name\": \"df\",\n  \"rows\": 7124,\n  \"fields\": [\n    {\n      \"column\": \"Date\",\n      \"properties\": {\n        \"dtype\": \"date\",\n        \"min\": \"1996-01-01 00:00:00\",\n        \"max\": \"2024-04-29 00:00:00\",\n        \"num_unique_values\": 7124,\n        \"samples\": [\n          \"2010-02-17 00:00:00\",\n          \"2003-10-17 00:00:00\",\n          \"2001-12-26 00:00:00\"\n        ],\n        \"semantic_type\": \"\",\n        \"description\": \"\"\n      }\n    },\n    {\n      \"column\": \"open\",\n      \"properties\": {\n        \"dtype\": \"number\",\n        \"std\": 461.6864829742223,\n        \"min\": 0.7631829977035522,\n        \"max\": 1938.550048828125,\n        \"num_unique_values\": 5681,\n        \"samples\": [\n          106.0484390258789,\n          157.96875,\n          83.1148452758789\n        ],\n        \"semantic_type\": \"\",\n        \"description\": \"\"\n      }\n    },\n    {\n      \"column\": \"high\",\n      \"properties\": {\n        \"dtype\": \"number\",\n        \"std\": 465.73510901561104,\n        \"min\": 0.765625,\n        \"max\": 1953.9000244140625,\n        \"num_unique_values\": 6136,\n        \"samples\": [\n          525.4000244140625,\n          385.625,\n          1598.199951171875\n        ],\n        \"semantic_type\": \"\",\n        \"description\": \"\"\n      }\n    },\n    {\n      \"column\": \"low\",\n      \"properties\": {\n        \"dtype\": \"number\",\n        \"std\": 457.37282964092634,\n        \"min\": 0.7128900289535522,\n        \"max\": 1930.5,\n        \"num_unique_values\": 6340,\n        \"samples\": [\n          19.6171875,\n          1438.050048828125,\n          265.0\n        ],\n        \"semantic_type\": \"\",\n        \"description\": \"\"\n      }\n    },\n    {\n      \"column\": \"close\",\n      \"properties\": {\n        \"dtype\": \"number\",\n        \"std\": 461.55075049851433,\n        \"min\": 0.7631829977035522,\n        \"max\": 1939.5,\n        \"num_unique_values\": 6784,\n        \"samples\": [\n          199.8062438964844,\n          57.32500076293945,\n          732.0\n        ],\n        \"semantic_type\": \"\",\n        \"description\": \"\"\n      }\n    },\n    {\n      \"column\": \"adjclose\",\n      \"properties\": {\n        \"dtype\": \"number\",\n        \"std\": 450.4486855497283,\n        \"min\": 0.5027320981025696,\n        \"max\": 1849.313232421875,\n        \"num_unique_values\": 6912,\n        \"samples\": [\n          83.27157592773438,\n          122.12918090820312,\n          1774.55859375\n        ],\n        \"semantic_type\": \"\",\n        \"description\": \"\"\n      }\n    },\n    {\n      \"column\": \"volume\",\n      \"properties\": {\n        \"dtype\": \"number\",\n        \"std\": 15676481.847091904,\n        \"min\": 0.0,\n        \"max\": 276615040.0,\n        \"num_unique_values\": 6645,\n        \"samples\": [\n          7097544.0,\n          36261888.0,\n          41770816.0\n        ],\n        \"semantic_type\": \"\",\n        \"description\": \"\"\n      }\n    },\n    {\n      \"column\": \"ticker\",\n      \"properties\": {\n        \"dtype\": \"category\",\n        \"num_unique_values\": 1,\n        \"samples\": [\n          \"INFY.NS\"\n        ],\n        \"semantic_type\": \"\",\n        \"description\": \"\"\n      }\n    },\n    {\n      \"column\": \"MA7\",\n      \"properties\": {\n        \"dtype\": \"number\",\n        \"std\": 462.3633573657432,\n        \"min\": 0.7696702820914132,\n        \"max\": 1898.0714285714287,\n        \"num_unique_values\": 7058,\n        \"samples\": [\n          148.2624969482422\n        ],\n        \"semantic_type\": \"\",\n        \"description\": \"\"\n      }\n    },\n    {\n      \"column\": \"MA30\",\n      \"properties\": {\n        \"dtype\": \"number\",\n        \"std\": 465.54067605922285,\n        \"min\": 0.797834865252177,\n        \"max\": 1847.3683308919271,\n        \"num_unique_values\": 6882,\n        \"samples\": [\n          1483.0116658528646\n        ],\n        \"semantic_type\": \"\",\n        \"description\": \"\"\n      }\n    }\n  ]\n}"
            }
          },
          "metadata": {},
          "execution_count": 149
        }
      ]
    },
    {
      "cell_type": "code",
      "source": [
        "df['MA7'] = df['MA7'].fillna(df['MA7'].mean())  # Filling with mean, or you can use forward fill df['MA7'].fillna(method='ffill')\n",
        "df['MA30'] = df['MA30'].fillna(df['MA30'].mean())  # Same for MA30"
      ],
      "metadata": {
        "id": "24cdwe5WXMjj"
      },
      "execution_count": 150,
      "outputs": []
    },
    {
      "cell_type": "code",
      "source": [
        "features = df[['open', 'high', 'low', 'volume', 'MA7', 'MA30']]\n",
        "target = df['close'].values.reshape(-1, 1)  # Reshape for the model"
      ],
      "metadata": {
        "id": "R_QGST7wXVvp"
      },
      "execution_count": 151,
      "outputs": []
    },
    {
      "cell_type": "code",
      "source": [
        "feature_scaler = MinMaxScaler()\n",
        "scaled_features = feature_scaler.fit_transform(features)"
      ],
      "metadata": {
        "id": "cy5Ab7-GXYOV"
      },
      "execution_count": 152,
      "outputs": []
    },
    {
      "cell_type": "code",
      "source": [
        "column_names = ['open', 'high', 'low', 'volume', 'MA7', 'MA30', 'close']"
      ],
      "metadata": {
        "id": "x8FMdS1lJF6S"
      },
      "execution_count": 153,
      "outputs": []
    },
    {
      "cell_type": "code",
      "source": [
        "future_features = future_features[:, :6]"
      ],
      "metadata": {
        "id": "0ioR_3I5Xa02"
      },
      "execution_count": 154,
      "outputs": []
    },
    {
      "cell_type": "code",
      "source": [
        "column_names = ['open', 'high', 'low', 'volume', 'MA7', 'MA30']  # Ensure it matches the data\n",
        "future_features_df = pd.DataFrame(future_features, columns=column_names)"
      ],
      "metadata": {
        "id": "qK3gABc6JgO0"
      },
      "execution_count": 155,
      "outputs": []
    },
    {
      "cell_type": "code",
      "source": [
        "import pandas as pd\n",
        "import numpy as np\n",
        "from sklearn.preprocessing import MinMaxScaler\n",
        "from sklearn.ensemble import RandomForestRegressor\n",
        "\n",
        "# Assuming `df` is your DataFrame containing the data\n",
        "\n",
        "# 1. Handle missing values in the target (close column)\n",
        "df_cleaned = df.dropna(subset=['close'])  # Drop rows with NaN in target column\n",
        "\n",
        "# 2. Prepare features and target variable\n",
        "features = df_cleaned[['open', 'high', 'low', 'volume', 'MA7', 'MA30']]  # Features\n",
        "target = df_cleaned['close'].values.reshape(-1)  # Flatten target to 1D\n",
        "\n",
        "# 3. Initialize the MinMaxScaler and scale the features\n",
        "feature_scaler = MinMaxScaler()\n",
        "scaled_features = feature_scaler.fit_transform(features)\n",
        "\n",
        "# 4. Train the RandomForestRegressor model\n",
        "model = RandomForestRegressor()\n",
        "model.fit(scaled_features, target)\n",
        "\n",
        "# 5. Prepare future features (ensure they have 7 columns)\n",
        "# Assuming `future_features` is the new data you want to predict on\n",
        "required_columns = ['open', 'high', 'low', 'volume', 'MA7', 'MA30']\n",
        "\n",
        "# If `future_features` is a DataFrame, ensure it has the required columns\n",
        "if isinstance(future_features, pd.DataFrame):\n",
        "    missing_columns = set(required_columns) - set(future_features.columns)\n",
        "    for column in missing_columns:\n",
        "        future_features[column] = np.nan  # Add missing columns with NaN or handle differently\n",
        "    # Ensure it has exactly 6 features (or 7 if you want extra)\n",
        "    future_features = future_features[required_columns]\n",
        "\n",
        "# If `future_features` is a NumPy array, ensure it has 7 columns\n",
        "elif isinstance(future_features, np.ndarray):\n",
        "    if future_features.shape[1] < 6:\n",
        "        raise ValueError(f\"future_features must have 7 columns, but it has only {future_features.shape[1]}\")\n",
        "    future_features = future_features[:, :6]  # Keep only the first 7 columns\n",
        "\n",
        "# 6. Scale the future features using the same scaler\n",
        "scaled_future_features = feature_scaler.transform(future_features)\n",
        "\n",
        "# 7. Predict using the trained model\n",
        "scaled_predictions = model.predict(scaled_future_features)\n",
        "\n",
        "# 8. Optionally, reshape predictions if needed\n",
        "scaled_predictions = scaled_predictions.reshape(-1, 1)\n",
        "\n",
        "# Print or return the predictions\n",
        "print(scaled_predictions)"
      ],
      "metadata": {
        "colab": {
          "base_uri": "https://localhost:8080/"
        },
        "id": "x-3ndmyKXe_V",
        "outputId": "e22209ea-997b-46d6-9678-8b1c053a97e3"
      },
      "execution_count": 156,
      "outputs": [
        {
          "output_type": "stream",
          "name": "stdout",
          "text": [
            "[[1367.91849854]]\n"
          ]
        },
        {
          "output_type": "stream",
          "name": "stderr",
          "text": [
            "/usr/local/lib/python3.10/dist-packages/sklearn/utils/validation.py:2739: UserWarning: X does not have valid feature names, but MinMaxScaler was fitted with feature names\n",
            "  warnings.warn(\n"
          ]
        }
      ]
    },
    {
      "cell_type": "code",
      "source": [
        "predicted_value = scaled_predictions[0][0]\n",
        "print(predicted_value)"
      ],
      "metadata": {
        "id": "uEwG0PqHXhVU",
        "colab": {
          "base_uri": "https://localhost:8080/"
        },
        "outputId": "ec89d206-bd2f-4df2-a83d-aa808c138f67"
      },
      "execution_count": 157,
      "outputs": [
        {
          "output_type": "stream",
          "name": "stdout",
          "text": [
            "1367.9184985351562\n"
          ]
        }
      ]
    },
    {
      "cell_type": "code",
      "source": [
        "# Assuming you used a MinMaxScaler for target variable scaling\n",
        "target_scaler = MinMaxScaler()\n",
        "target_scaled = target_scaler.fit_transform(target.reshape(-1, 1))\n",
        "\n",
        "# Now inverse transform the scaled prediction\n",
        "predicted_value_original_scale = target_scaler.inverse_transform(scaled_predictions)\n",
        "print(predicted_value_original_scale)"
      ],
      "metadata": {
        "id": "Fs9M6eLRcQbM",
        "colab": {
          "base_uri": "https://localhost:8080/"
        },
        "outputId": "f97a2c31-6ee7-4999-a17b-5bef7d3991c9"
      },
      "execution_count": 158,
      "outputs": [
        {
          "output_type": "stream",
          "name": "stdout",
          "text": [
            "[[2652034.71895161]]\n"
          ]
        }
      ]
    },
    {
      "cell_type": "code",
      "source": [
        "# Assuming target_scaler was used to scale the target variable (close prices)\n",
        "predicted_value_original_scale = target_scaler.inverse_transform(scaled_predictions)\n",
        "\n",
        "# Print the prediction in original scale\n",
        "print(predicted_value_original_scale)"
      ],
      "metadata": {
        "id": "C6RzpWbjcUOG",
        "colab": {
          "base_uri": "https://localhost:8080/"
        },
        "outputId": "69c202ac-e795-437d-f0c1-37dc20ac803b"
      },
      "execution_count": 159,
      "outputs": [
        {
          "output_type": "stream",
          "name": "stdout",
          "text": [
            "[[2652034.71895161]]\n"
          ]
        }
      ]
    }
  ],
  "metadata": {
    "colab": {
      "toc_visible": true,
      "provenance": [],
      "authorship_tag": "ABX9TyORXxgggtCViQi+tmhtW2vB",
      "include_colab_link": true
    },
    "kernelspec": {
      "display_name": "Python 3",
      "name": "python3"
    },
    "language_info": {
      "name": "python"
    }
  },
  "nbformat": 4,
  "nbformat_minor": 0
}