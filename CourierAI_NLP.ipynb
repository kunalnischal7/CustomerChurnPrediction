{
  "cells": [
    {
      "cell_type": "markdown",
      "metadata": {
        "id": "view-in-github",
        "colab_type": "text"
      },
      "source": [
        "<a href=\"https://colab.research.google.com/github/kunalnischal7/CustomerChurnPrediction/blob/main/CourierAI_NLP.ipynb\" target=\"_parent\"><img src=\"https://colab.research.google.com/assets/colab-badge.svg\" alt=\"Open In Colab\"/></a>"
      ]
    },
    {
      "cell_type": "markdown",
      "metadata": {
        "id": "Nc4bioORrpHI"
      },
      "source": [
        "# Importing Libraries"
      ]
    },
    {
      "cell_type": "markdown",
      "metadata": {
        "id": "7W5mYa-Aq16z"
      },
      "source": [
        "## Importing Libraries"
      ]
    },
    {
      "cell_type": "code",
      "execution_count": 1,
      "metadata": {
        "id": "sLrvbCJvmhcv"
      },
      "outputs": [],
      "source": [
        "import numpy as np\n",
        "import pandas as pd\n",
        "import google.generativeai as genai\n",
        "from google.colab import drive\n",
        "from sqlalchemy import create_engine, text"
      ]
    },
    {
      "cell_type": "markdown",
      "metadata": {
        "id": "SKsPL5-Nq4Hd"
      },
      "source": [
        "## Google Gemini API Key"
      ]
    },
    {
      "cell_type": "code",
      "execution_count": 2,
      "metadata": {
        "id": "pyCkEuWKqr1A"
      },
      "outputs": [],
      "source": [
        "genai.configure(api_key=\"Your-API-Key\")"
      ]
    },
    {
      "cell_type": "markdown",
      "metadata": {
        "id": "q_cLCoFRqyWM"
      },
      "source": [
        "## Loading the dataset from google drive"
      ]
    },
    {
      "cell_type": "markdown",
      "metadata": {
        "id": "9v7sGQVPq9Cu"
      },
      "source": [
        "# Data Preprocessing"
      ]
    },
    {
      "cell_type": "code",
      "execution_count": 3,
      "metadata": {
        "colab": {
          "base_uri": "https://localhost:8080/"
        },
        "id": "Un0G-6MFqw9J",
        "outputId": "92c1485e-757a-4d58-bdc7-a60e848deb26"
      },
      "outputs": [
        {
          "output_type": "stream",
          "name": "stdout",
          "text": [
            "Drive already mounted at /content/drive; to attempt to forcibly remount, call drive.mount(\"/content/drive\", force_remount=True).\n",
            "Loading dataset...\n"
          ]
        }
      ],
      "source": [
        "drive.mount('/content/drive')\n",
        "CSV_FILE = '/content/drive/MyDrive/Article_Facility_Dataset.csv'\n",
        "print(\"Loading dataset...\")\n",
        "df = pd.read_csv(CSV_FILE)"
      ]
    },
    {
      "cell_type": "code",
      "execution_count": 4,
      "metadata": {
        "colab": {
          "base_uri": "https://localhost:8080/",
          "height": 419
        },
        "id": "NE-nLAKu0Sch",
        "outputId": "71543c7e-3ddd-4389-9815-c891c2f797d1"
      },
      "outputs": [
        {
          "output_type": "execute_result",
          "data": {
            "text/plain": [
              "      Article_ID      Facility Start_Timestamp End_Timestamp\n",
              "0              1  Lajpat Nagar         2:16:49      21:01:33\n",
              "1              1     Vikaspuri        21:01:33      11:49:05\n",
              "2              1         Saket        11:49:05       2:01:41\n",
              "3              1        Rohini         2:01:41      18:16:36\n",
              "4              1     Janakpuri        18:16:36      12:36:30\n",
              "...          ...           ...             ...           ...\n",
              "3971        1000     Pitampura         3:12:52       8:07:13\n",
              "3972        1000     Janakpuri         8:07:13       7:38:06\n",
              "3973        1000  Lajpat Nagar         7:38:06       1:37:13\n",
              "3974        1000        Rohini         1:37:13      11:48:23\n",
              "3975        1000         Saket        11:48:23      16:10:04\n",
              "\n",
              "[3976 rows x 4 columns]"
            ],
            "text/html": [
              "\n",
              "  <div id=\"df-1e27d3ca-f959-4589-8f01-cb6b7df4ced4\" class=\"colab-df-container\">\n",
              "    <div>\n",
              "<style scoped>\n",
              "    .dataframe tbody tr th:only-of-type {\n",
              "        vertical-align: middle;\n",
              "    }\n",
              "\n",
              "    .dataframe tbody tr th {\n",
              "        vertical-align: top;\n",
              "    }\n",
              "\n",
              "    .dataframe thead th {\n",
              "        text-align: right;\n",
              "    }\n",
              "</style>\n",
              "<table border=\"1\" class=\"dataframe\">\n",
              "  <thead>\n",
              "    <tr style=\"text-align: right;\">\n",
              "      <th></th>\n",
              "      <th>Article_ID</th>\n",
              "      <th>Facility</th>\n",
              "      <th>Start_Timestamp</th>\n",
              "      <th>End_Timestamp</th>\n",
              "    </tr>\n",
              "  </thead>\n",
              "  <tbody>\n",
              "    <tr>\n",
              "      <th>0</th>\n",
              "      <td>1</td>\n",
              "      <td>Lajpat Nagar</td>\n",
              "      <td>2:16:49</td>\n",
              "      <td>21:01:33</td>\n",
              "    </tr>\n",
              "    <tr>\n",
              "      <th>1</th>\n",
              "      <td>1</td>\n",
              "      <td>Vikaspuri</td>\n",
              "      <td>21:01:33</td>\n",
              "      <td>11:49:05</td>\n",
              "    </tr>\n",
              "    <tr>\n",
              "      <th>2</th>\n",
              "      <td>1</td>\n",
              "      <td>Saket</td>\n",
              "      <td>11:49:05</td>\n",
              "      <td>2:01:41</td>\n",
              "    </tr>\n",
              "    <tr>\n",
              "      <th>3</th>\n",
              "      <td>1</td>\n",
              "      <td>Rohini</td>\n",
              "      <td>2:01:41</td>\n",
              "      <td>18:16:36</td>\n",
              "    </tr>\n",
              "    <tr>\n",
              "      <th>4</th>\n",
              "      <td>1</td>\n",
              "      <td>Janakpuri</td>\n",
              "      <td>18:16:36</td>\n",
              "      <td>12:36:30</td>\n",
              "    </tr>\n",
              "    <tr>\n",
              "      <th>...</th>\n",
              "      <td>...</td>\n",
              "      <td>...</td>\n",
              "      <td>...</td>\n",
              "      <td>...</td>\n",
              "    </tr>\n",
              "    <tr>\n",
              "      <th>3971</th>\n",
              "      <td>1000</td>\n",
              "      <td>Pitampura</td>\n",
              "      <td>3:12:52</td>\n",
              "      <td>8:07:13</td>\n",
              "    </tr>\n",
              "    <tr>\n",
              "      <th>3972</th>\n",
              "      <td>1000</td>\n",
              "      <td>Janakpuri</td>\n",
              "      <td>8:07:13</td>\n",
              "      <td>7:38:06</td>\n",
              "    </tr>\n",
              "    <tr>\n",
              "      <th>3973</th>\n",
              "      <td>1000</td>\n",
              "      <td>Lajpat Nagar</td>\n",
              "      <td>7:38:06</td>\n",
              "      <td>1:37:13</td>\n",
              "    </tr>\n",
              "    <tr>\n",
              "      <th>3974</th>\n",
              "      <td>1000</td>\n",
              "      <td>Rohini</td>\n",
              "      <td>1:37:13</td>\n",
              "      <td>11:48:23</td>\n",
              "    </tr>\n",
              "    <tr>\n",
              "      <th>3975</th>\n",
              "      <td>1000</td>\n",
              "      <td>Saket</td>\n",
              "      <td>11:48:23</td>\n",
              "      <td>16:10:04</td>\n",
              "    </tr>\n",
              "  </tbody>\n",
              "</table>\n",
              "<p>3976 rows × 4 columns</p>\n",
              "</div>\n",
              "    <div class=\"colab-df-buttons\">\n",
              "\n",
              "  <div class=\"colab-df-container\">\n",
              "    <button class=\"colab-df-convert\" onclick=\"convertToInteractive('df-1e27d3ca-f959-4589-8f01-cb6b7df4ced4')\"\n",
              "            title=\"Convert this dataframe to an interactive table.\"\n",
              "            style=\"display:none;\">\n",
              "\n",
              "  <svg xmlns=\"http://www.w3.org/2000/svg\" height=\"24px\" viewBox=\"0 -960 960 960\">\n",
              "    <path d=\"M120-120v-720h720v720H120Zm60-500h600v-160H180v160Zm220 220h160v-160H400v160Zm0 220h160v-160H400v160ZM180-400h160v-160H180v160Zm440 0h160v-160H620v160ZM180-180h160v-160H180v160Zm440 0h160v-160H620v160Z\"/>\n",
              "  </svg>\n",
              "    </button>\n",
              "\n",
              "  <style>\n",
              "    .colab-df-container {\n",
              "      display:flex;\n",
              "      gap: 12px;\n",
              "    }\n",
              "\n",
              "    .colab-df-convert {\n",
              "      background-color: #E8F0FE;\n",
              "      border: none;\n",
              "      border-radius: 50%;\n",
              "      cursor: pointer;\n",
              "      display: none;\n",
              "      fill: #1967D2;\n",
              "      height: 32px;\n",
              "      padding: 0 0 0 0;\n",
              "      width: 32px;\n",
              "    }\n",
              "\n",
              "    .colab-df-convert:hover {\n",
              "      background-color: #E2EBFA;\n",
              "      box-shadow: 0px 1px 2px rgba(60, 64, 67, 0.3), 0px 1px 3px 1px rgba(60, 64, 67, 0.15);\n",
              "      fill: #174EA6;\n",
              "    }\n",
              "\n",
              "    .colab-df-buttons div {\n",
              "      margin-bottom: 4px;\n",
              "    }\n",
              "\n",
              "    [theme=dark] .colab-df-convert {\n",
              "      background-color: #3B4455;\n",
              "      fill: #D2E3FC;\n",
              "    }\n",
              "\n",
              "    [theme=dark] .colab-df-convert:hover {\n",
              "      background-color: #434B5C;\n",
              "      box-shadow: 0px 1px 3px 1px rgba(0, 0, 0, 0.15);\n",
              "      filter: drop-shadow(0px 1px 2px rgba(0, 0, 0, 0.3));\n",
              "      fill: #FFFFFF;\n",
              "    }\n",
              "  </style>\n",
              "\n",
              "    <script>\n",
              "      const buttonEl =\n",
              "        document.querySelector('#df-1e27d3ca-f959-4589-8f01-cb6b7df4ced4 button.colab-df-convert');\n",
              "      buttonEl.style.display =\n",
              "        google.colab.kernel.accessAllowed ? 'block' : 'none';\n",
              "\n",
              "      async function convertToInteractive(key) {\n",
              "        const element = document.querySelector('#df-1e27d3ca-f959-4589-8f01-cb6b7df4ced4');\n",
              "        const dataTable =\n",
              "          await google.colab.kernel.invokeFunction('convertToInteractive',\n",
              "                                                    [key], {});\n",
              "        if (!dataTable) return;\n",
              "\n",
              "        const docLinkHtml = 'Like what you see? Visit the ' +\n",
              "          '<a target=\"_blank\" href=https://colab.research.google.com/notebooks/data_table.ipynb>data table notebook</a>'\n",
              "          + ' to learn more about interactive tables.';\n",
              "        element.innerHTML = '';\n",
              "        dataTable['output_type'] = 'display_data';\n",
              "        await google.colab.output.renderOutput(dataTable, element);\n",
              "        const docLink = document.createElement('div');\n",
              "        docLink.innerHTML = docLinkHtml;\n",
              "        element.appendChild(docLink);\n",
              "      }\n",
              "    </script>\n",
              "  </div>\n",
              "\n",
              "\n",
              "<div id=\"df-86e48d7a-4584-4550-a14f-e2bb3700c20f\">\n",
              "  <button class=\"colab-df-quickchart\" onclick=\"quickchart('df-86e48d7a-4584-4550-a14f-e2bb3700c20f')\"\n",
              "            title=\"Suggest charts\"\n",
              "            style=\"display:none;\">\n",
              "\n",
              "<svg xmlns=\"http://www.w3.org/2000/svg\" height=\"24px\"viewBox=\"0 0 24 24\"\n",
              "     width=\"24px\">\n",
              "    <g>\n",
              "        <path d=\"M19 3H5c-1.1 0-2 .9-2 2v14c0 1.1.9 2 2 2h14c1.1 0 2-.9 2-2V5c0-1.1-.9-2-2-2zM9 17H7v-7h2v7zm4 0h-2V7h2v10zm4 0h-2v-4h2v4z\"/>\n",
              "    </g>\n",
              "</svg>\n",
              "  </button>\n",
              "\n",
              "<style>\n",
              "  .colab-df-quickchart {\n",
              "      --bg-color: #E8F0FE;\n",
              "      --fill-color: #1967D2;\n",
              "      --hover-bg-color: #E2EBFA;\n",
              "      --hover-fill-color: #174EA6;\n",
              "      --disabled-fill-color: #AAA;\n",
              "      --disabled-bg-color: #DDD;\n",
              "  }\n",
              "\n",
              "  [theme=dark] .colab-df-quickchart {\n",
              "      --bg-color: #3B4455;\n",
              "      --fill-color: #D2E3FC;\n",
              "      --hover-bg-color: #434B5C;\n",
              "      --hover-fill-color: #FFFFFF;\n",
              "      --disabled-bg-color: #3B4455;\n",
              "      --disabled-fill-color: #666;\n",
              "  }\n",
              "\n",
              "  .colab-df-quickchart {\n",
              "    background-color: var(--bg-color);\n",
              "    border: none;\n",
              "    border-radius: 50%;\n",
              "    cursor: pointer;\n",
              "    display: none;\n",
              "    fill: var(--fill-color);\n",
              "    height: 32px;\n",
              "    padding: 0;\n",
              "    width: 32px;\n",
              "  }\n",
              "\n",
              "  .colab-df-quickchart:hover {\n",
              "    background-color: var(--hover-bg-color);\n",
              "    box-shadow: 0 1px 2px rgba(60, 64, 67, 0.3), 0 1px 3px 1px rgba(60, 64, 67, 0.15);\n",
              "    fill: var(--button-hover-fill-color);\n",
              "  }\n",
              "\n",
              "  .colab-df-quickchart-complete:disabled,\n",
              "  .colab-df-quickchart-complete:disabled:hover {\n",
              "    background-color: var(--disabled-bg-color);\n",
              "    fill: var(--disabled-fill-color);\n",
              "    box-shadow: none;\n",
              "  }\n",
              "\n",
              "  .colab-df-spinner {\n",
              "    border: 2px solid var(--fill-color);\n",
              "    border-color: transparent;\n",
              "    border-bottom-color: var(--fill-color);\n",
              "    animation:\n",
              "      spin 1s steps(1) infinite;\n",
              "  }\n",
              "\n",
              "  @keyframes spin {\n",
              "    0% {\n",
              "      border-color: transparent;\n",
              "      border-bottom-color: var(--fill-color);\n",
              "      border-left-color: var(--fill-color);\n",
              "    }\n",
              "    20% {\n",
              "      border-color: transparent;\n",
              "      border-left-color: var(--fill-color);\n",
              "      border-top-color: var(--fill-color);\n",
              "    }\n",
              "    30% {\n",
              "      border-color: transparent;\n",
              "      border-left-color: var(--fill-color);\n",
              "      border-top-color: var(--fill-color);\n",
              "      border-right-color: var(--fill-color);\n",
              "    }\n",
              "    40% {\n",
              "      border-color: transparent;\n",
              "      border-right-color: var(--fill-color);\n",
              "      border-top-color: var(--fill-color);\n",
              "    }\n",
              "    60% {\n",
              "      border-color: transparent;\n",
              "      border-right-color: var(--fill-color);\n",
              "    }\n",
              "    80% {\n",
              "      border-color: transparent;\n",
              "      border-right-color: var(--fill-color);\n",
              "      border-bottom-color: var(--fill-color);\n",
              "    }\n",
              "    90% {\n",
              "      border-color: transparent;\n",
              "      border-bottom-color: var(--fill-color);\n",
              "    }\n",
              "  }\n",
              "</style>\n",
              "\n",
              "  <script>\n",
              "    async function quickchart(key) {\n",
              "      const quickchartButtonEl =\n",
              "        document.querySelector('#' + key + ' button');\n",
              "      quickchartButtonEl.disabled = true;  // To prevent multiple clicks.\n",
              "      quickchartButtonEl.classList.add('colab-df-spinner');\n",
              "      try {\n",
              "        const charts = await google.colab.kernel.invokeFunction(\n",
              "            'suggestCharts', [key], {});\n",
              "      } catch (error) {\n",
              "        console.error('Error during call to suggestCharts:', error);\n",
              "      }\n",
              "      quickchartButtonEl.classList.remove('colab-df-spinner');\n",
              "      quickchartButtonEl.classList.add('colab-df-quickchart-complete');\n",
              "    }\n",
              "    (() => {\n",
              "      let quickchartButtonEl =\n",
              "        document.querySelector('#df-86e48d7a-4584-4550-a14f-e2bb3700c20f button');\n",
              "      quickchartButtonEl.style.display =\n",
              "        google.colab.kernel.accessAllowed ? 'block' : 'none';\n",
              "    })();\n",
              "  </script>\n",
              "</div>\n",
              "\n",
              "  <div id=\"id_f5e8ce8e-97be-4863-899c-b6514189af32\">\n",
              "    <style>\n",
              "      .colab-df-generate {\n",
              "        background-color: #E8F0FE;\n",
              "        border: none;\n",
              "        border-radius: 50%;\n",
              "        cursor: pointer;\n",
              "        display: none;\n",
              "        fill: #1967D2;\n",
              "        height: 32px;\n",
              "        padding: 0 0 0 0;\n",
              "        width: 32px;\n",
              "      }\n",
              "\n",
              "      .colab-df-generate:hover {\n",
              "        background-color: #E2EBFA;\n",
              "        box-shadow: 0px 1px 2px rgba(60, 64, 67, 0.3), 0px 1px 3px 1px rgba(60, 64, 67, 0.15);\n",
              "        fill: #174EA6;\n",
              "      }\n",
              "\n",
              "      [theme=dark] .colab-df-generate {\n",
              "        background-color: #3B4455;\n",
              "        fill: #D2E3FC;\n",
              "      }\n",
              "\n",
              "      [theme=dark] .colab-df-generate:hover {\n",
              "        background-color: #434B5C;\n",
              "        box-shadow: 0px 1px 3px 1px rgba(0, 0, 0, 0.15);\n",
              "        filter: drop-shadow(0px 1px 2px rgba(0, 0, 0, 0.3));\n",
              "        fill: #FFFFFF;\n",
              "      }\n",
              "    </style>\n",
              "    <button class=\"colab-df-generate\" onclick=\"generateWithVariable('df')\"\n",
              "            title=\"Generate code using this dataframe.\"\n",
              "            style=\"display:none;\">\n",
              "\n",
              "  <svg xmlns=\"http://www.w3.org/2000/svg\" height=\"24px\"viewBox=\"0 0 24 24\"\n",
              "       width=\"24px\">\n",
              "    <path d=\"M7,19H8.4L18.45,9,17,7.55,7,17.6ZM5,21V16.75L18.45,3.32a2,2,0,0,1,2.83,0l1.4,1.43a1.91,1.91,0,0,1,.58,1.4,1.91,1.91,0,0,1-.58,1.4L9.25,21ZM18.45,9,17,7.55Zm-12,3A5.31,5.31,0,0,0,4.9,8.1,5.31,5.31,0,0,0,1,6.5,5.31,5.31,0,0,0,4.9,4.9,5.31,5.31,0,0,0,6.5,1,5.31,5.31,0,0,0,8.1,4.9,5.31,5.31,0,0,0,12,6.5,5.46,5.46,0,0,0,6.5,12Z\"/>\n",
              "  </svg>\n",
              "    </button>\n",
              "    <script>\n",
              "      (() => {\n",
              "      const buttonEl =\n",
              "        document.querySelector('#id_f5e8ce8e-97be-4863-899c-b6514189af32 button.colab-df-generate');\n",
              "      buttonEl.style.display =\n",
              "        google.colab.kernel.accessAllowed ? 'block' : 'none';\n",
              "\n",
              "      buttonEl.onclick = () => {\n",
              "        google.colab.notebook.generateWithVariable('df');\n",
              "      }\n",
              "      })();\n",
              "    </script>\n",
              "  </div>\n",
              "\n",
              "    </div>\n",
              "  </div>\n"
            ],
            "application/vnd.google.colaboratory.intrinsic+json": {
              "type": "dataframe",
              "variable_name": "df",
              "summary": "{\n  \"name\": \"df\",\n  \"rows\": 3976,\n  \"fields\": [\n    {\n      \"column\": \"Article_ID\",\n      \"properties\": {\n        \"dtype\": \"number\",\n        \"std\": 289,\n        \"min\": 1,\n        \"max\": 1000,\n        \"num_unique_values\": 1000,\n        \"samples\": [\n          522,\n          738,\n          741\n        ],\n        \"semantic_type\": \"\",\n        \"description\": \"\"\n      }\n    },\n    {\n      \"column\": \"Facility\",\n      \"properties\": {\n        \"dtype\": \"category\",\n        \"num_unique_values\": 10,\n        \"samples\": [\n          \"Rajouri Garden\",\n          \"Vikaspuri\",\n          \"Shadipur\"\n        ],\n        \"semantic_type\": \"\",\n        \"description\": \"\"\n      }\n    },\n    {\n      \"column\": \"Start_Timestamp\",\n      \"properties\": {\n        \"dtype\": \"object\",\n        \"num_unique_values\": 3880,\n        \"samples\": [\n          \"15:20:33\",\n          \"23:02:30\",\n          \"10:30:09\"\n        ],\n        \"semantic_type\": \"\",\n        \"description\": \"\"\n      }\n    },\n    {\n      \"column\": \"End_Timestamp\",\n      \"properties\": {\n        \"dtype\": \"object\",\n        \"num_unique_values\": 3884,\n        \"samples\": [\n          \"10:54:54\",\n          \"22:07:35\",\n          \"5:43:24\"\n        ],\n        \"semantic_type\": \"\",\n        \"description\": \"\"\n      }\n    }\n  ]\n}"
            }
          },
          "metadata": {},
          "execution_count": 4
        }
      ],
      "source": [
        "df"
      ]
    },
    {
      "cell_type": "markdown",
      "metadata": {
        "id": "Ah_Tdp5Nq__G"
      },
      "source": [
        "## Ensuring the data has all the columns"
      ]
    },
    {
      "cell_type": "code",
      "execution_count": 5,
      "metadata": {
        "id": "q1wB7XZBq_Vs"
      },
      "outputs": [],
      "source": [
        "required_columns = {'Article_ID', 'Facility', 'Start_Timestamp', 'End_Timestamp'}\n",
        "if not required_columns.issubset(df.columns):\n",
        "    raise ValueError(f\"Dataset must contain columns: {required_columns}\")"
      ]
    },
    {
      "cell_type": "markdown",
      "metadata": {
        "id": "3XmnfkQhraEH"
      },
      "source": [
        "# SQL"
      ]
    },
    {
      "cell_type": "markdown",
      "metadata": {
        "id": "9c-QIwXva5U1"
      },
      "source": [
        "## Initialising SQL Alchemy Engine"
      ]
    },
    {
      "cell_type": "code",
      "execution_count": 6,
      "metadata": {
        "colab": {
          "base_uri": "https://localhost:8080/"
        },
        "id": "tC-KKycaa41H",
        "outputId": "fbbc3dca-c17d-4200-ca80-e8588d1dbfb2"
      },
      "outputs": [
        {
          "output_type": "stream",
          "name": "stdout",
          "text": [
            "Stored Start_Timestamp in SQL table:\n",
            "2:16:49\n",
            "21:01:33\n",
            "11:49:05\n",
            "2:01:41\n",
            "18:16:36\n"
          ]
        }
      ],
      "source": [
        "# Initialize the SQLAlchemy engine\n",
        "from sqlalchemy.types import String\n",
        "engine = create_engine('sqlite:///:memory:')  # Using an in-memory SQLite database for simplicity\n",
        "\n",
        "# Create the SQL table\n",
        "df.to_sql('articles', con=engine, if_exists='replace', index=False, dtype={\n",
        "    'Start_Timestamp': String(8),  # Explicit length for HH:MM:SS\n",
        "    'End_Timestamp': String(8)\n",
        "})\n",
        "# Debug: Query the table to verify stored timestamps\n",
        "with engine.connect() as conn:\n",
        "    result = conn.execute(text(\"SELECT Start_Timestamp FROM articles WHERE Article_ID = 1\"))\n",
        "    rows = result.fetchall()\n",
        "    print(\"Stored Start_Timestamp in SQL table:\")\n",
        "    for row in rows:\n",
        "        print(row[0])"
      ]
    },
    {
      "cell_type": "markdown",
      "metadata": {
        "id": "_B1n2MMDVNJA"
      },
      "source": [
        "## Create SQL Database"
      ]
    },
    {
      "cell_type": "code",
      "execution_count": 7,
      "metadata": {
        "id": "pyV2LUElVCoY"
      },
      "outputs": [],
      "source": [
        "def generate_sql(natural_query):\n",
        "    prompt = f\"\"\"\n",
        "    **Task**: Convert natural language to precise SQL\n",
        "    **Schema**:\n",
        "    - articles (Article_ID INT, Facility TEXT, Start_Timestamp TEXT, End_Timestamp TEXT)\n",
        "\n",
        "    **Rules**:\n",
        "    1. Use EXACT facility names (case-sensitive): {sorted(df['Facility'].unique())}\n",
        "    2. For counts, use COUNT(DISTINCT Article_ID)\n",
        "    3. Use GROUP BY for facility-level aggregations\n",
        "    4. Use ORDER BY and LIMIT for \"maximum\" or \"highest\" queries\n",
        "    5. For timestamp queries, return all matching timestamps unless specified otherwise.\n",
        "\n",
        "    **Examples**:\n",
        "    - \"How many unique articles passed through Lajpat Nagar?\" →\n",
        "      SELECT COUNT(DISTINCT Article_ID)\n",
        "      FROM articles\n",
        "      WHERE Facility='Lajpat Nagar'\n",
        "\n",
        "    - \"Facility with the most articles\" →\n",
        "      SELECT Facility, COUNT(DISTINCT Article_ID) AS Article_Count\n",
        "      FROM articles\n",
        "      GROUP BY Facility\n",
        "      ORDER BY Article_Count DESC\n",
        "      LIMIT 1\n",
        "\n",
        "    - \"Start timestamp for Article 1\" →\n",
        "      SELECT Start_Timestamp\n",
        "      FROM articles\n",
        "      WHERE Article_ID = 1\n",
        "\n",
        "    **Query to Convert**: \"{natural_query}\"\n",
        "    \"\"\"\n",
        "\n",
        "    model = genai.GenerativeModel('gemini-pro')\n",
        "    response = model.generate_content(prompt)\n",
        "    return response.text.strip().replace('```sql', '').replace('```', '').strip()"
      ]
    },
    {
      "cell_type": "markdown",
      "metadata": {
        "id": "DICI-I79W9g-"
      },
      "source": [
        "## SQL Validation Layer"
      ]
    },
    {
      "cell_type": "code",
      "execution_count": 8,
      "metadata": {
        "id": "iG9ED_InW9Dg"
      },
      "outputs": [],
      "source": [
        "def validate_sql(sql):\n",
        "    \"\"\"Check for critical components\"\"\"\n",
        "    required_terms = {'SELECT', 'FROM', 'ARTICLES'}  # Uppercase to match case-insensitive check\n",
        "    if 'GROUP BY' in sql.upper() and 'COUNT(' not in sql.upper():\n",
        "        raise ValueError(\"Aggregation queries must include COUNT(DISTINCT Article_ID)\")\n",
        "    return all(term in sql.upper() for term in required_terms)"
      ]
    },
    {
      "cell_type": "markdown",
      "metadata": {
        "id": "OEeN0qQ4VH8-"
      },
      "source": [
        "## Executing SQL"
      ]
    },
    {
      "cell_type": "code",
      "execution_count": 9,
      "metadata": {
        "id": "-7ydniZaYCSO"
      },
      "outputs": [],
      "source": [
        "def execute_sql(sql_query):\n",
        "    \"\"\"Execute SQL query and return results with enhanced error handling\"\"\"\n",
        "    try:\n",
        "        # Validate SQL query for safety\n",
        "        if not sql_query.strip().upper().startswith(\"SELECT\"):\n",
        "            raise ValueError(\"Only SELECT queries are allowed for security reasons.\")\n",
        "\n",
        "        # Check for common SQL injection patterns\n",
        "        if any(keyword in sql_query.upper() for keyword in [\"DROP\", \"DELETE\", \"UPDATE\", \"INSERT\", \"ALTER\"]):\n",
        "            raise ValueError(\"Modification queries are not permitted.\")\n",
        "\n",
        "        # Execute the query\n",
        "        with engine.connect() as conn:\n",
        "            result = conn.execute(text(sql_query))\n",
        "            rows = result.fetchall()\n",
        "\n",
        "            # Handle empty results\n",
        "            if not rows:\n",
        "                return None  # Return None for no results\n",
        "\n",
        "            # Always return rows as lists of tuples\n",
        "            return rows  # Remove single-column special case\n",
        "\n",
        "    except Exception as e:\n",
        "        return f\"Error executing SQL: {str(e)}\""
      ]
    },
    {
      "cell_type": "markdown",
      "metadata": {
        "id": "Core2fMQVT5T"
      },
      "source": [
        "## Explain SQL Results"
      ]
    },
    {
      "cell_type": "code",
      "execution_count": 10,
      "metadata": {
        "colab": {
          "base_uri": "https://localhost:8080/"
        },
        "id": "EDxANw9b5Sqh",
        "outputId": "1047f8ec-085e-4a12-80b2-7643c5fbbfee"
      },
      "outputs": [
        {
          "output_type": "stream",
          "name": "stdout",
          "text": [
            "Start_Timestamp after preprocessing:\n",
            "0    02:16:49\n",
            "1    21:01:33\n",
            "2    11:49:05\n",
            "3    02:01:41\n",
            "4    18:16:36\n",
            "Name: Start_Timestamp, dtype: object\n"
          ]
        }
      ],
      "source": [
        "# Convert timestamps to HH:MM:SS format\n",
        "df['Start_Timestamp'] = pd.to_datetime(\n",
        "    df['Start_Timestamp'],\n",
        "    format='%H:%M:%S',\n",
        "    errors='coerce'\n",
        ").dt.strftime('%H:%M:%S')\n",
        "\n",
        "df['End_Timestamp'] = pd.to_datetime(\n",
        "    df['End_Timestamp'],\n",
        "    format='%H:%M:%S',\n",
        "    errors='coerce'\n",
        ").dt.strftime('%H:%M:%S')\n",
        "\n",
        "# Debug: Print the first few rows to verify\n",
        "print(\"Start_Timestamp after preprocessing:\")\n",
        "print(df['Start_Timestamp'].head())"
      ]
    },
    {
      "cell_type": "code",
      "execution_count": 11,
      "metadata": {
        "id": "L9bcNUq_VTkO"
      },
      "outputs": [],
      "source": [
        "def explain_results(results, original_query, sql):\n",
        "    explanation = \"\"\n",
        "\n",
        "    # Handle count results\n",
        "    if 'COUNT' in sql.upper():\n",
        "        explanation = f\"Found {results[0][0]} unique articles.\"\n",
        "\n",
        "    # Handle facility ranking results\n",
        "    elif 'ORDER BY' in sql.upper() and 'LIMIT 1' in sql.upper():\n",
        "        facility, count = results[0]\n",
        "        explanation = f\"'{facility}' has the most unique articles: {count}\"\n",
        "\n",
        "    # Handle timestamp queries\n",
        "    elif 'START_TIMESTAMP' in sql.upper() or 'END_TIMESTAMP' in sql.upper():\n",
        "        timestamps = [row[0] for row in results]  # Extract first element from each tuple\n",
        "        explanation = \"Timestamps:\\\\n\" + \"\\\\n\".join(timestamps)\n",
        "\n",
        "    # Handle generic queries\n",
        "    else:\n",
        "        if len(results[0]) == 1:  # Single column\n",
        "            explanation = \"Results:\\\\n\" + \"\\\\n\".join([str(row[0]) for row in results])\n",
        "        else:\n",
        "            explanation = \"Results:\\\\n\" + \"\\\\n\".join([str(row) for row in results])\n",
        "\n",
        "    return explanation"
      ]
    },
    {
      "cell_type": "code",
      "source": [
        "# Keep timestamps as strings throughout preprocessing\n",
        "df['Start_Timestamp'] = df['Start_Timestamp'].astype(str)\n",
        "df['End_Timestamp'] = df['End_Timestamp'].astype(str)"
      ],
      "metadata": {
        "id": "9I0iMdrXDM-Q"
      },
      "execution_count": 12,
      "outputs": []
    },
    {
      "cell_type": "markdown",
      "metadata": {
        "id": "-lRz9rT3OrRW"
      },
      "source": [
        "## SQL Accuracy function"
      ]
    },
    {
      "cell_type": "code",
      "execution_count": 13,
      "metadata": {
        "id": "rprmv6GOOqYo"
      },
      "outputs": [],
      "source": [
        "from sqlalchemy import text\n",
        "\n",
        "def check_sql_accuracy(temp_db, generated_sql, ground_truth_sql):\n",
        "    \"\"\"\n",
        "    Compares the Gemini-generated SQL query with a manually written ground truth query.\n",
        "\n",
        "    Parameters:\n",
        "        temp_db (SQLAlchemy Engine): SQLite in-memory database.\n",
        "        generated_sql (str): SQL query generated by Gemini.\n",
        "        ground_truth_sql (str): Manually written correct SQL query.\n",
        "\n",
        "    Returns:\n",
        "        str: Accuracy message indicating if the query is correct or not.\n",
        "    \"\"\"\n",
        "    try:\n",
        "        with temp_db.connect() as conn:\n",
        "            # Execute Gemini-generated SQL\n",
        "            result_gemini = conn.execute(text(generated_sql)).fetchall()\n",
        "\n",
        "            # Execute Ground Truth SQL\n",
        "            result_ground_truth = conn.execute(text(ground_truth_sql)).fetchall()\n",
        "\n",
        "            # Compare results\n",
        "            if result_gemini == result_ground_truth:\n",
        "                return \"\\n✅ The generated SQL is **accurate**!\"\n",
        "            else:\n",
        "                return \"\\n❌ The generated SQL is **inaccurate**. Mismatch in results.\"\n",
        "\n",
        "    except Exception as e:\n",
        "        return f\"\\n❌ Error executing queries: {e}\""
      ]
    },
    {
      "cell_type": "code",
      "execution_count": 14,
      "metadata": {
        "id": "0VGtT7aCTFdU"
      },
      "outputs": [],
      "source": [
        "def convert_to_time(time_str):\n",
        "    try:\n",
        "        return pd.to_datetime(time_str, format='%H:%M:%S').time()\n",
        "    except ValueError:\n",
        "        return None\n",
        "\n",
        "df['Start_Timestamp'] = df['Start_Timestamp'].apply(convert_to_time)\n",
        "df['End_Timestamp'] = df['End_Timestamp'].apply(convert_to_time)\n",
        "\n",
        "# Calculate duration, handling potential midnight crossings\n",
        "def calculate_duration(start_time, end_time):\n",
        "    if start_time is None or end_time is None:\n",
        "        return None  # Handle missing values\n",
        "\n",
        "    # Combine with a dummy date for comparison\n",
        "    start_dt = pd.Timestamp.combine(pd.Timestamp.today(), start_time)\n",
        "    end_dt = pd.Timestamp.combine(pd.Timestamp.today(), end_time)\n",
        "\n",
        "    if end_dt < start_dt:\n",
        "        end_dt += pd.Timedelta(days=1)\n",
        "\n",
        "    return (end_dt - start_dt).total_seconds()\n",
        "\n",
        "df['Duration'] = df.apply(lambda row: calculate_duration(row['Start_Timestamp'], row['End_Timestamp']), axis=1)"
      ]
    },
    {
      "cell_type": "markdown",
      "metadata": {
        "id": "ZP1KWwhnSiSS"
      },
      "source": [
        "## Feature Engineering"
      ]
    },
    {
      "cell_type": "code",
      "execution_count": 15,
      "metadata": {
        "id": "sIGQWphnSgEv"
      },
      "outputs": [],
      "source": [
        "df['Start_Timestamp'] = pd.to_datetime(df['Start_Timestamp'], format='%H:%M:%S')\n",
        "df['End_Timestamp'] = pd.to_datetime(df['End_Timestamp'], format='%H:%M:%S')\n",
        "df['Duration'] = (df['End_Timestamp'] - df['Start_Timestamp']).dt.total_seconds()"
      ]
    },
    {
      "cell_type": "markdown",
      "metadata": {
        "id": "xXorAZ5wVcWb"
      },
      "source": [
        "# Main Interaction Loop"
      ]
    },
    {
      "cell_type": "code",
      "execution_count": null,
      "metadata": {
        "colab": {
          "base_uri": "https://localhost:8080/",
          "height": 225
        },
        "id": "sYcZpCNnVjKK",
        "outputId": "a877f236-8edc-4da4-b3dd-585c4c5d4cb5"
      },
      "outputs": [
        {
          "output_type": "stream",
          "name": "stdout",
          "text": [
            "\n",
            "Ask a question (or 'exit'): Time duration of Article 1 at Vikaspuri\n",
            "\n",
            "Generated SQL: SELECT End_Timestamp - Start_Timestamp AS Time_Duration\n",
            "FROM articles\n",
            "WHERE Article_ID = 1 AND Facility = 'Vikaspuri';\n",
            "\n",
            "❌ Error: sequence item 0: expected str instance, int found\n",
            "Tip: Try rephrasing with facility names from: Lajpat Nagar, Vikaspuri, Saket, Rohini, Janakpuri, Shadipur, Karol Bagh, Pitampura, Rajouri Garden, saket\n"
          ]
        }
      ],
      "source": [
        "# Main interaction loop\n",
        "while True:\n",
        "    user_question = input(\"\\nAsk a question (or 'exit'): \").strip()\n",
        "    if user_question.lower() == 'exit':\n",
        "        break\n",
        "\n",
        "    # Generate SQL with validation\n",
        "    try:\n",
        "        sql = generate_sql(user_question)\n",
        "        if not validate_sql(sql):\n",
        "            raise ValueError(\"Generated SQL failed validation checks\")\n",
        "\n",
        "        print(f\"\\nGenerated SQL: {sql}\")\n",
        "\n",
        "        # Execute SQL\n",
        "        results = execute_sql(sql)\n",
        "        if results is None:  # No results found\n",
        "            print(\"\\n🔍 No matching records found in the dataset.\")\n",
        "        elif isinstance(results, str):  # Error occurred\n",
        "            print(f\"\\n❌ {results}\")\n",
        "        else:\n",
        "            # Explain results\n",
        "            explanation = explain_results(results, user_question, sql)\n",
        "            print(f\"\\n🔍 Analysis: {explanation}\")\n",
        "\n",
        "    except Exception as e:\n",
        "        print(f\"\\n❌ Error: {str(e)}\")\n",
        "        print(\"Tip: Try rephrasing with facility names from: \" + \", \".join(df['Facility'].unique()))"
      ]
    }
  ],
  "metadata": {
    "colab": {
      "machine_shape": "hm",
      "provenance": [],
      "authorship_tag": "ABX9TyOAcWJTW8PvoWsQxhVDChBE",
      "include_colab_link": true
    },
    "kernelspec": {
      "display_name": "Python 3",
      "name": "python3"
    },
    "language_info": {
      "name": "python"
    }
  },
  "nbformat": 4,
  "nbformat_minor": 0
}