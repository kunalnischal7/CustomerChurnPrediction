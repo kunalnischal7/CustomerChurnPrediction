{
  "cells": [
    {
      "cell_type": "markdown",
      "metadata": {
        "id": "view-in-github",
        "colab_type": "text"
      },
      "source": [
        "<a href=\"https://colab.research.google.com/github/kunalnischal7/CustomerChurnPrediction/blob/main/Recommendation.ipynb\" target=\"_parent\"><img src=\"https://colab.research.google.com/assets/colab-badge.svg\" alt=\"Open In Colab\"/></a>"
      ]
    },
    {
      "cell_type": "markdown",
      "metadata": {
        "id": "BamjajCUNU7G"
      },
      "source": [
        "# Import Libraries and Data Set"
      ]
    },
    {
      "cell_type": "code",
      "execution_count": null,
      "metadata": {
        "id": "55ziWd8wMTaO"
      },
      "outputs": [],
      "source": [
        "import pandas as pd"
      ]
    },
    {
      "cell_type": "markdown",
      "metadata": {
        "id": "E13TedE8NmvN"
      },
      "source": [
        "## Import DataSet from google drive"
      ]
    },
    {
      "cell_type": "code",
      "execution_count": null,
      "metadata": {
        "colab": {
          "base_uri": "https://localhost:8080/"
        },
        "id": "0YyZ8qzkNmBk",
        "outputId": "2f129a3b-275b-4d12-bf14-1fd3dd4f16a9"
      },
      "outputs": [
        {
          "name": "stdout",
          "output_type": "stream",
          "text": [
            "Mounted at /content/drive\n"
          ]
        }
      ],
      "source": [
        "from google.colab import drive\n",
        "drive.mount('/content/drive')"
      ]
    },
    {
      "cell_type": "code",
      "execution_count": null,
      "metadata": {
        "colab": {
          "base_uri": "https://localhost:8080/"
        },
        "id": "R_deBaOUQVZb",
        "outputId": "635c4f55-e12c-4541-ae65-6f8491c93d4d"
      },
      "outputs": [
        {
          "name": "stdout",
          "output_type": "stream",
          "text": [
            "/content/drive/My Drive\n"
          ]
        }
      ],
      "source": [
        "%cd \"/content/drive/My Drive/\""
      ]
    },
    {
      "cell_type": "code",
      "execution_count": null,
      "metadata": {
        "id": "Qik0LjcoODCj"
      },
      "outputs": [],
      "source": [
        "file_path = 'Online Retail.xlsx'"
      ]
    },
    {
      "cell_type": "code",
      "execution_count": null,
      "metadata": {
        "id": "tXswU_9WOGir"
      },
      "outputs": [],
      "source": [
        "df = pd.read_excel(file_path)"
      ]
    },
    {
      "cell_type": "markdown",
      "metadata": {
        "id": "HXQDlWszRIkY"
      },
      "source": [
        "# Data Preparation"
      ]
    },
    {
      "cell_type": "markdown",
      "source": [
        "## Data Shuffling"
      ],
      "metadata": {
        "id": "6Ro1ypMdwpt6"
      }
    },
    {
      "cell_type": "code",
      "execution_count": null,
      "metadata": {
        "id": "ydqoMkqKQLVk"
      },
      "outputs": [],
      "source": [
        "from sklearn.utils import shuffle\n",
        "df = shuffle(df, random_state = 44)"
      ]
    },
    {
      "cell_type": "code",
      "execution_count": null,
      "metadata": {
        "colab": {
          "base_uri": "https://localhost:8080/"
        },
        "id": "2rsFyANzSv9y",
        "outputId": "f502ac22-0929-4216-d18d-6a7f48e92134"
      },
      "outputs": [
        {
          "data": {
            "text/plain": [
              "InvoiceNo           0\n",
              "StockCode           0\n",
              "Description      1454\n",
              "Quantity            0\n",
              "InvoiceDate         0\n",
              "UnitPrice           0\n",
              "CustomerID     135080\n",
              "Country             0\n",
              "dtype: int64"
            ]
          },
          "execution_count": 7,
          "metadata": {},
          "output_type": "execute_result"
        }
      ],
      "source": [
        "df.isnull().sum()"
      ]
    },
    {
      "cell_type": "markdown",
      "source": [
        "## Dropping Rows with Null Values"
      ],
      "metadata": {
        "id": "7kGHz6eWw8Zz"
      }
    },
    {
      "cell_type": "code",
      "execution_count": null,
      "metadata": {
        "id": "hGTopjsLTjkk"
      },
      "outputs": [],
      "source": [
        "df.dropna(subset=['CustomerID'], inplace=True)"
      ]
    },
    {
      "cell_type": "code",
      "execution_count": null,
      "metadata": {
        "id": "KNLJXCdRUElu"
      },
      "outputs": [],
      "source": [
        "df.dropna(subset=['Description'], inplace=True)"
      ]
    },
    {
      "cell_type": "code",
      "execution_count": null,
      "metadata": {
        "colab": {
          "base_uri": "https://localhost:8080/",
          "height": 419
        },
        "id": "Q-Tdqd8P7Pms",
        "outputId": "84c2e8f6-7d15-4b97-b5b5-4e04a0bc9ce3"
      },
      "outputs": [
        {
          "data": {
            "text/html": [
              "\n",
              "  <div id=\"df-8a88ad21-42da-4817-a03d-fb0335b421d5\" class=\"colab-df-container\">\n",
              "    <div>\n",
              "<style scoped>\n",
              "    .dataframe tbody tr th:only-of-type {\n",
              "        vertical-align: middle;\n",
              "    }\n",
              "\n",
              "    .dataframe tbody tr th {\n",
              "        vertical-align: top;\n",
              "    }\n",
              "\n",
              "    .dataframe thead th {\n",
              "        text-align: right;\n",
              "    }\n",
              "</style>\n",
              "<table border=\"1\" class=\"dataframe\">\n",
              "  <thead>\n",
              "    <tr style=\"text-align: right;\">\n",
              "      <th></th>\n",
              "      <th>InvoiceNo</th>\n",
              "      <th>StockCode</th>\n",
              "      <th>Description</th>\n",
              "      <th>Quantity</th>\n",
              "      <th>InvoiceDate</th>\n",
              "      <th>UnitPrice</th>\n",
              "      <th>CustomerID</th>\n",
              "      <th>Country</th>\n",
              "    </tr>\n",
              "  </thead>\n",
              "  <tbody>\n",
              "    <tr>\n",
              "      <th>534132</th>\n",
              "      <td>581133</td>\n",
              "      <td>22510</td>\n",
              "      <td>GINGHAM BABUSHKA DOORSTOP</td>\n",
              "      <td>8</td>\n",
              "      <td>2011-12-07 12:55:00</td>\n",
              "      <td>0.79</td>\n",
              "      <td>14904.0</td>\n",
              "      <td>United Kingdom</td>\n",
              "    </tr>\n",
              "    <tr>\n",
              "      <th>346910</th>\n",
              "      <td>567211</td>\n",
              "      <td>21931</td>\n",
              "      <td>JUMBO STORAGE BAG SUKI</td>\n",
              "      <td>2</td>\n",
              "      <td>2011-09-19 11:02:00</td>\n",
              "      <td>2.08</td>\n",
              "      <td>14159.0</td>\n",
              "      <td>United Kingdom</td>\n",
              "    </tr>\n",
              "    <tr>\n",
              "      <th>388159</th>\n",
              "      <td>570419</td>\n",
              "      <td>23483</td>\n",
              "      <td>HANGING  BUTTERFLY T-LIGHT HOLDER</td>\n",
              "      <td>12</td>\n",
              "      <td>2011-10-10 13:33:00</td>\n",
              "      <td>1.25</td>\n",
              "      <td>15608.0</td>\n",
              "      <td>United Kingdom</td>\n",
              "    </tr>\n",
              "    <tr>\n",
              "      <th>134017</th>\n",
              "      <td>547817</td>\n",
              "      <td>22663</td>\n",
              "      <td>JUMBO BAG DOLLY GIRL DESIGN</td>\n",
              "      <td>3</td>\n",
              "      <td>2011-03-25 14:34:00</td>\n",
              "      <td>1.95</td>\n",
              "      <td>17946.0</td>\n",
              "      <td>United Kingdom</td>\n",
              "    </tr>\n",
              "    <tr>\n",
              "      <th>364256</th>\n",
              "      <td>568654</td>\n",
              "      <td>22577</td>\n",
              "      <td>WOODEN HEART CHRISTMAS SCANDINAVIAN</td>\n",
              "      <td>12</td>\n",
              "      <td>2011-09-28 12:20:00</td>\n",
              "      <td>0.85</td>\n",
              "      <td>14911.0</td>\n",
              "      <td>EIRE</td>\n",
              "    </tr>\n",
              "    <tr>\n",
              "      <th>...</th>\n",
              "      <td>...</td>\n",
              "      <td>...</td>\n",
              "      <td>...</td>\n",
              "      <td>...</td>\n",
              "      <td>...</td>\n",
              "      <td>...</td>\n",
              "      <td>...</td>\n",
              "      <td>...</td>\n",
              "    </tr>\n",
              "    <tr>\n",
              "      <th>461802</th>\n",
              "      <td>575952</td>\n",
              "      <td>22488</td>\n",
              "      <td>NATURAL SLATE RECTANGLE CHALKBOARD</td>\n",
              "      <td>2</td>\n",
              "      <td>2011-11-13 11:55:00</td>\n",
              "      <td>1.65</td>\n",
              "      <td>16015.0</td>\n",
              "      <td>United Kingdom</td>\n",
              "    </tr>\n",
              "    <tr>\n",
              "      <th>397396</th>\n",
              "      <td>571183</td>\n",
              "      <td>22951</td>\n",
              "      <td>60 CAKE CASES DOLLY GIRL DESIGN</td>\n",
              "      <td>2</td>\n",
              "      <td>2011-10-14 11:08:00</td>\n",
              "      <td>0.55</td>\n",
              "      <td>14796.0</td>\n",
              "      <td>United Kingdom</td>\n",
              "    </tr>\n",
              "    <tr>\n",
              "      <th>49723</th>\n",
              "      <td>540528</td>\n",
              "      <td>21448</td>\n",
              "      <td>12 DAISY PEGS IN WOOD BOX</td>\n",
              "      <td>2</td>\n",
              "      <td>2011-01-09 13:50:00</td>\n",
              "      <td>1.65</td>\n",
              "      <td>17800.0</td>\n",
              "      <td>United Kingdom</td>\n",
              "    </tr>\n",
              "    <tr>\n",
              "      <th>156845</th>\n",
              "      <td>550178</td>\n",
              "      <td>84569D</td>\n",
              "      <td>PACK 6 HEART/ICE-CREAM PATCHES</td>\n",
              "      <td>12</td>\n",
              "      <td>2011-04-14 17:25:00</td>\n",
              "      <td>1.25</td>\n",
              "      <td>12662.0</td>\n",
              "      <td>Germany</td>\n",
              "    </tr>\n",
              "    <tr>\n",
              "      <th>538388</th>\n",
              "      <td>581405</td>\n",
              "      <td>84993A</td>\n",
              "      <td>75 GREEN PETIT FOUR CASES</td>\n",
              "      <td>1</td>\n",
              "      <td>2011-12-08 13:50:00</td>\n",
              "      <td>0.42</td>\n",
              "      <td>13521.0</td>\n",
              "      <td>United Kingdom</td>\n",
              "    </tr>\n",
              "  </tbody>\n",
              "</table>\n",
              "<p>406829 rows × 8 columns</p>\n",
              "</div>\n",
              "    <div class=\"colab-df-buttons\">\n",
              "\n",
              "  <div class=\"colab-df-container\">\n",
              "    <button class=\"colab-df-convert\" onclick=\"convertToInteractive('df-8a88ad21-42da-4817-a03d-fb0335b421d5')\"\n",
              "            title=\"Convert this dataframe to an interactive table.\"\n",
              "            style=\"display:none;\">\n",
              "\n",
              "  <svg xmlns=\"http://www.w3.org/2000/svg\" height=\"24px\" viewBox=\"0 -960 960 960\">\n",
              "    <path d=\"M120-120v-720h720v720H120Zm60-500h600v-160H180v160Zm220 220h160v-160H400v160Zm0 220h160v-160H400v160ZM180-400h160v-160H180v160Zm440 0h160v-160H620v160ZM180-180h160v-160H180v160Zm440 0h160v-160H620v160Z\"/>\n",
              "  </svg>\n",
              "    </button>\n",
              "\n",
              "  <style>\n",
              "    .colab-df-container {\n",
              "      display:flex;\n",
              "      gap: 12px;\n",
              "    }\n",
              "\n",
              "    .colab-df-convert {\n",
              "      background-color: #E8F0FE;\n",
              "      border: none;\n",
              "      border-radius: 50%;\n",
              "      cursor: pointer;\n",
              "      display: none;\n",
              "      fill: #1967D2;\n",
              "      height: 32px;\n",
              "      padding: 0 0 0 0;\n",
              "      width: 32px;\n",
              "    }\n",
              "\n",
              "    .colab-df-convert:hover {\n",
              "      background-color: #E2EBFA;\n",
              "      box-shadow: 0px 1px 2px rgba(60, 64, 67, 0.3), 0px 1px 3px 1px rgba(60, 64, 67, 0.15);\n",
              "      fill: #174EA6;\n",
              "    }\n",
              "\n",
              "    .colab-df-buttons div {\n",
              "      margin-bottom: 4px;\n",
              "    }\n",
              "\n",
              "    [theme=dark] .colab-df-convert {\n",
              "      background-color: #3B4455;\n",
              "      fill: #D2E3FC;\n",
              "    }\n",
              "\n",
              "    [theme=dark] .colab-df-convert:hover {\n",
              "      background-color: #434B5C;\n",
              "      box-shadow: 0px 1px 3px 1px rgba(0, 0, 0, 0.15);\n",
              "      filter: drop-shadow(0px 1px 2px rgba(0, 0, 0, 0.3));\n",
              "      fill: #FFFFFF;\n",
              "    }\n",
              "  </style>\n",
              "\n",
              "    <script>\n",
              "      const buttonEl =\n",
              "        document.querySelector('#df-8a88ad21-42da-4817-a03d-fb0335b421d5 button.colab-df-convert');\n",
              "      buttonEl.style.display =\n",
              "        google.colab.kernel.accessAllowed ? 'block' : 'none';\n",
              "\n",
              "      async function convertToInteractive(key) {\n",
              "        const element = document.querySelector('#df-8a88ad21-42da-4817-a03d-fb0335b421d5');\n",
              "        const dataTable =\n",
              "          await google.colab.kernel.invokeFunction('convertToInteractive',\n",
              "                                                    [key], {});\n",
              "        if (!dataTable) return;\n",
              "\n",
              "        const docLinkHtml = 'Like what you see? Visit the ' +\n",
              "          '<a target=\"_blank\" href=https://colab.research.google.com/notebooks/data_table.ipynb>data table notebook</a>'\n",
              "          + ' to learn more about interactive tables.';\n",
              "        element.innerHTML = '';\n",
              "        dataTable['output_type'] = 'display_data';\n",
              "        await google.colab.output.renderOutput(dataTable, element);\n",
              "        const docLink = document.createElement('div');\n",
              "        docLink.innerHTML = docLinkHtml;\n",
              "        element.appendChild(docLink);\n",
              "      }\n",
              "    </script>\n",
              "  </div>\n",
              "\n",
              "\n",
              "<div id=\"df-cc672478-dfb8-490a-9f97-b1d5b25535ee\">\n",
              "  <button class=\"colab-df-quickchart\" onclick=\"quickchart('df-cc672478-dfb8-490a-9f97-b1d5b25535ee')\"\n",
              "            title=\"Suggest charts.\"\n",
              "            style=\"display:none;\">\n",
              "\n",
              "<svg xmlns=\"http://www.w3.org/2000/svg\" height=\"24px\"viewBox=\"0 0 24 24\"\n",
              "     width=\"24px\">\n",
              "    <g>\n",
              "        <path d=\"M19 3H5c-1.1 0-2 .9-2 2v14c0 1.1.9 2 2 2h14c1.1 0 2-.9 2-2V5c0-1.1-.9-2-2-2zM9 17H7v-7h2v7zm4 0h-2V7h2v10zm4 0h-2v-4h2v4z\"/>\n",
              "    </g>\n",
              "</svg>\n",
              "  </button>\n",
              "\n",
              "<style>\n",
              "  .colab-df-quickchart {\n",
              "      --bg-color: #E8F0FE;\n",
              "      --fill-color: #1967D2;\n",
              "      --hover-bg-color: #E2EBFA;\n",
              "      --hover-fill-color: #174EA6;\n",
              "      --disabled-fill-color: #AAA;\n",
              "      --disabled-bg-color: #DDD;\n",
              "  }\n",
              "\n",
              "  [theme=dark] .colab-df-quickchart {\n",
              "      --bg-color: #3B4455;\n",
              "      --fill-color: #D2E3FC;\n",
              "      --hover-bg-color: #434B5C;\n",
              "      --hover-fill-color: #FFFFFF;\n",
              "      --disabled-bg-color: #3B4455;\n",
              "      --disabled-fill-color: #666;\n",
              "  }\n",
              "\n",
              "  .colab-df-quickchart {\n",
              "    background-color: var(--bg-color);\n",
              "    border: none;\n",
              "    border-radius: 50%;\n",
              "    cursor: pointer;\n",
              "    display: none;\n",
              "    fill: var(--fill-color);\n",
              "    height: 32px;\n",
              "    padding: 0;\n",
              "    width: 32px;\n",
              "  }\n",
              "\n",
              "  .colab-df-quickchart:hover {\n",
              "    background-color: var(--hover-bg-color);\n",
              "    box-shadow: 0 1px 2px rgba(60, 64, 67, 0.3), 0 1px 3px 1px rgba(60, 64, 67, 0.15);\n",
              "    fill: var(--button-hover-fill-color);\n",
              "  }\n",
              "\n",
              "  .colab-df-quickchart-complete:disabled,\n",
              "  .colab-df-quickchart-complete:disabled:hover {\n",
              "    background-color: var(--disabled-bg-color);\n",
              "    fill: var(--disabled-fill-color);\n",
              "    box-shadow: none;\n",
              "  }\n",
              "\n",
              "  .colab-df-spinner {\n",
              "    border: 2px solid var(--fill-color);\n",
              "    border-color: transparent;\n",
              "    border-bottom-color: var(--fill-color);\n",
              "    animation:\n",
              "      spin 1s steps(1) infinite;\n",
              "  }\n",
              "\n",
              "  @keyframes spin {\n",
              "    0% {\n",
              "      border-color: transparent;\n",
              "      border-bottom-color: var(--fill-color);\n",
              "      border-left-color: var(--fill-color);\n",
              "    }\n",
              "    20% {\n",
              "      border-color: transparent;\n",
              "      border-left-color: var(--fill-color);\n",
              "      border-top-color: var(--fill-color);\n",
              "    }\n",
              "    30% {\n",
              "      border-color: transparent;\n",
              "      border-left-color: var(--fill-color);\n",
              "      border-top-color: var(--fill-color);\n",
              "      border-right-color: var(--fill-color);\n",
              "    }\n",
              "    40% {\n",
              "      border-color: transparent;\n",
              "      border-right-color: var(--fill-color);\n",
              "      border-top-color: var(--fill-color);\n",
              "    }\n",
              "    60% {\n",
              "      border-color: transparent;\n",
              "      border-right-color: var(--fill-color);\n",
              "    }\n",
              "    80% {\n",
              "      border-color: transparent;\n",
              "      border-right-color: var(--fill-color);\n",
              "      border-bottom-color: var(--fill-color);\n",
              "    }\n",
              "    90% {\n",
              "      border-color: transparent;\n",
              "      border-bottom-color: var(--fill-color);\n",
              "    }\n",
              "  }\n",
              "</style>\n",
              "\n",
              "  <script>\n",
              "    async function quickchart(key) {\n",
              "      const quickchartButtonEl =\n",
              "        document.querySelector('#' + key + ' button');\n",
              "      quickchartButtonEl.disabled = true;  // To prevent multiple clicks.\n",
              "      quickchartButtonEl.classList.add('colab-df-spinner');\n",
              "      try {\n",
              "        const charts = await google.colab.kernel.invokeFunction(\n",
              "            'suggestCharts', [key], {});\n",
              "      } catch (error) {\n",
              "        console.error('Error during call to suggestCharts:', error);\n",
              "      }\n",
              "      quickchartButtonEl.classList.remove('colab-df-spinner');\n",
              "      quickchartButtonEl.classList.add('colab-df-quickchart-complete');\n",
              "    }\n",
              "    (() => {\n",
              "      let quickchartButtonEl =\n",
              "        document.querySelector('#df-cc672478-dfb8-490a-9f97-b1d5b25535ee button');\n",
              "      quickchartButtonEl.style.display =\n",
              "        google.colab.kernel.accessAllowed ? 'block' : 'none';\n",
              "    })();\n",
              "  </script>\n",
              "</div>\n",
              "    </div>\n",
              "  </div>\n"
            ],
            "text/plain": [
              "       InvoiceNo StockCode                          Description  Quantity  \\\n",
              "534132    581133     22510            GINGHAM BABUSHKA DOORSTOP         8   \n",
              "346910    567211     21931               JUMBO STORAGE BAG SUKI         2   \n",
              "388159    570419     23483    HANGING  BUTTERFLY T-LIGHT HOLDER        12   \n",
              "134017    547817     22663          JUMBO BAG DOLLY GIRL DESIGN         3   \n",
              "364256    568654     22577  WOODEN HEART CHRISTMAS SCANDINAVIAN        12   \n",
              "...          ...       ...                                  ...       ...   \n",
              "461802    575952     22488   NATURAL SLATE RECTANGLE CHALKBOARD         2   \n",
              "397396    571183     22951      60 CAKE CASES DOLLY GIRL DESIGN         2   \n",
              "49723     540528     21448            12 DAISY PEGS IN WOOD BOX         2   \n",
              "156845    550178    84569D       PACK 6 HEART/ICE-CREAM PATCHES        12   \n",
              "538388    581405    84993A            75 GREEN PETIT FOUR CASES         1   \n",
              "\n",
              "               InvoiceDate  UnitPrice  CustomerID         Country  \n",
              "534132 2011-12-07 12:55:00       0.79     14904.0  United Kingdom  \n",
              "346910 2011-09-19 11:02:00       2.08     14159.0  United Kingdom  \n",
              "388159 2011-10-10 13:33:00       1.25     15608.0  United Kingdom  \n",
              "134017 2011-03-25 14:34:00       1.95     17946.0  United Kingdom  \n",
              "364256 2011-09-28 12:20:00       0.85     14911.0            EIRE  \n",
              "...                    ...        ...         ...             ...  \n",
              "461802 2011-11-13 11:55:00       1.65     16015.0  United Kingdom  \n",
              "397396 2011-10-14 11:08:00       0.55     14796.0  United Kingdom  \n",
              "49723  2011-01-09 13:50:00       1.65     17800.0  United Kingdom  \n",
              "156845 2011-04-14 17:25:00       1.25     12662.0         Germany  \n",
              "538388 2011-12-08 13:50:00       0.42     13521.0  United Kingdom  \n",
              "\n",
              "[406829 rows x 8 columns]"
            ]
          },
          "execution_count": 10,
          "metadata": {},
          "output_type": "execute_result"
        }
      ],
      "source": [
        "df"
      ]
    },
    {
      "cell_type": "code",
      "execution_count": null,
      "metadata": {
        "colab": {
          "base_uri": "https://localhost:8080/"
        },
        "id": "F65U2Yf-Uhkf",
        "outputId": "2012e268-222e-468f-9349-a61edda7cf47"
      },
      "outputs": [
        {
          "data": {
            "text/plain": [
              "InvoiceNo      0\n",
              "StockCode      0\n",
              "Description    0\n",
              "Quantity       0\n",
              "InvoiceDate    0\n",
              "UnitPrice      0\n",
              "CustomerID     0\n",
              "Country        0\n",
              "dtype: int64"
            ]
          },
          "execution_count": 11,
          "metadata": {},
          "output_type": "execute_result"
        }
      ],
      "source": [
        "df.isnull().sum()"
      ]
    },
    {
      "cell_type": "markdown",
      "source": [
        "## Dropping Rows with Duplicate Values"
      ],
      "metadata": {
        "id": "qRIgKty5xEef"
      }
    },
    {
      "cell_type": "code",
      "source": [
        "duplicate_rows = df[df.duplicated()]\n",
        "print(\"Duplicate Rows:\")\n",
        "print(duplicate_rows)"
      ],
      "metadata": {
        "colab": {
          "base_uri": "https://localhost:8080/"
        },
        "id": "FPZaZ31ao2qJ",
        "outputId": "c8e99784-cbef-4275-c2a4-fdaaf865277c"
      },
      "execution_count": 28,
      "outputs": [
        {
          "output_type": "stream",
          "name": "stdout",
          "text": [
            "Duplicate Rows:\n",
            "       InvoiceNo StockCode                         Description  Quantity  \\\n",
            "456051    575668     21790                  VINTAGE SNAP CARDS         1   \n",
            "534739    581166     23240    SET OF 4 KNICK KNACK TINS DOILY          1   \n",
            "428151    573414     22633              HAND WARMER UNION JACK         1   \n",
            "325303    565434     23326       HANGING MINI COLOURED BOTTLES         1   \n",
            "469299    576592     21533            RETROSPOT LARGE MILK JUG         1   \n",
            "...          ...       ...                                 ...       ...   \n",
            "489537    578017     23101       SILVER STARS TABLE DECORATION         1   \n",
            "312126    564342     23247          BISCUIT TIN 50'S CHRISTMAS         1   \n",
            "506319    579135     20983  12 PENCILS TALL TUBE RED RETROSPOT         2   \n",
            "491808    578074     21328              BALLOONS  WRITING SET          1   \n",
            "158746    550312     22460      EMBOSSED GLASS TEALIGHT HOLDER        12   \n",
            "\n",
            "               InvoiceDate  UnitPrice  CustomerID         Country  \n",
            "456051 2011-11-10 14:59:00       0.85     18283.0  United Kingdom  \n",
            "534739 2011-12-07 14:43:00       4.15     15525.0  United Kingdom  \n",
            "428151 2011-10-30 16:15:00       2.10     16877.0  United Kingdom  \n",
            "325303 2011-09-04 13:35:00       0.63     12867.0  United Kingdom  \n",
            "469299 2011-11-15 14:47:00       4.95     13614.0  United Kingdom  \n",
            "...                    ...        ...         ...             ...  \n",
            "489537 2011-11-22 13:07:00       0.83     13569.0  United Kingdom  \n",
            "312126 2011-08-24 14:53:00       2.89     16340.0  United Kingdom  \n",
            "506319 2011-11-28 12:44:00       0.85     18096.0  United Kingdom  \n",
            "491808 2011-11-22 16:06:00       1.65     17590.0  United Kingdom  \n",
            "158746 2011-04-17 11:18:00       1.25     13089.0  United Kingdom  \n",
            "\n",
            "[5225 rows x 8 columns]\n"
          ]
        }
      ]
    },
    {
      "cell_type": "code",
      "source": [
        "#Dropping Duplicate Values\n",
        "df = df.drop_duplicates()"
      ],
      "metadata": {
        "id": "NPJWeNlao9aV"
      },
      "execution_count": 29,
      "outputs": []
    },
    {
      "cell_type": "code",
      "source": [
        "#Checking for outliers in the data\n",
        "from scipy import stats\n",
        "\n",
        "z_scores = stats.zscore(df['Quantity'])\n",
        "outliers = (z_scores > 3) | (z_scores < -3)\n",
        "outlier_rows = df[outliers]\n",
        "print(\"Outlier Rows:\")\n",
        "print(outlier_rows)"
      ],
      "metadata": {
        "colab": {
          "base_uri": "https://localhost:8080/"
        },
        "id": "2Nm5-okYpBxw",
        "outputId": "c38b3332-1d09-413d-fce2-8fb5cf966880"
      },
      "execution_count": 30,
      "outputs": [
        {
          "output_type": "stream",
          "name": "stdout",
          "text": [
            "Outlier Rows:\n",
            "       InvoiceNo StockCode                         Description  Quantity  \\\n",
            "80983     543099     22985        WRAP, BILLBOARD FONTS DESIGN       800   \n",
            "52711     540815     21108  FAIRY CAKE FLANNEL ASSORTED COLOUR      3114   \n",
            "490502    578060         M                              Manual      1600   \n",
            "230315    557135     22616          PACK OF 12 LONDON TISSUES        864   \n",
            "166426    550917     84077   WORLD WAR 2 GLIDERS ASSTD DESIGNS      1008   \n",
            "...          ...       ...                                 ...       ...   \n",
            "63444     541570     21212     PACK OF 72 RETROSPOT CAKE CASES      1440   \n",
            "250766    559047     15036           ASSORTED COLOURS SILK FAN      1200   \n",
            "380505    569815    85099B             JUMBO BAG RED RETROSPOT      1000   \n",
            "201149    554272     21977  PACK OF 60 PINK PAISLEY CAKE CASES      2700   \n",
            "4850      536809     84950      ASSORTED COLOUR T-LIGHT HOLDER      1824   \n",
            "\n",
            "               InvoiceDate  UnitPrice  CustomerID         Country  \n",
            "80983  2011-02-03 12:00:00       0.34     16684.0  United Kingdom  \n",
            "52711  2011-01-11 12:55:00       2.10     15749.0  United Kingdom  \n",
            "490502 2011-11-22 15:22:00       0.25     17857.0  United Kingdom  \n",
            "230315 2011-06-17 09:12:00       0.25     17306.0  United Kingdom  \n",
            "166426 2011-04-21 13:40:00       0.21     17381.0  United Kingdom  \n",
            "...                    ...        ...         ...             ...  \n",
            "63444  2011-01-19 12:34:00       0.42     14646.0     Netherlands  \n",
            "250766 2011-07-05 15:44:00       0.72     13082.0  United Kingdom  \n",
            "380505 2011-10-06 11:53:00       1.79     15838.0  United Kingdom  \n",
            "201149 2011-05-23 13:08:00       0.42     12901.0  United Kingdom  \n",
            "4850   2010-12-02 16:48:00       0.55     15299.0  United Kingdom  \n",
            "\n",
            "[185 rows x 8 columns]\n"
          ]
        }
      ]
    },
    {
      "cell_type": "code",
      "source": [
        "#Removing Outliers from the dataset\n",
        "df = df[~outliers]"
      ],
      "metadata": {
        "id": "IHB7SF0JpFB3"
      },
      "execution_count": 31,
      "outputs": []
    },
    {
      "cell_type": "code",
      "execution_count": null,
      "metadata": {
        "colab": {
          "base_uri": "https://localhost:8080/"
        },
        "id": "Vj6ibMiWVj-D",
        "outputId": "a80ccf7a-4928-40c6-a218-503c6ca85b7f"
      },
      "outputs": [
        {
          "name": "stdout",
          "output_type": "stream",
          "text": [
            "Collecting scikit-surprise\n",
            "  Downloading scikit-surprise-1.1.3.tar.gz (771 kB)\n",
            "\u001b[?25l     \u001b[90m━━━━━━━━━━━━━━━━━━━━━━━━━━━━━━━━━━━━━━━━\u001b[0m \u001b[32m0.0/772.0 kB\u001b[0m \u001b[31m?\u001b[0m eta \u001b[36m-:--:--\u001b[0m\r\u001b[2K     \u001b[91m━━━━━━━━━━\u001b[0m\u001b[91m╸\u001b[0m\u001b[90m━━━━━━━━━━━━━━━━━━━━━━━━━━━━\u001b[0m \u001b[32m215.0/772.0 kB\u001b[0m \u001b[31m6.2 MB/s\u001b[0m eta \u001b[36m0:00:01\u001b[0m\r\u001b[2K     \u001b[91m━━━━━━━━━━━━━━━━━━━━━━━━━━━━━━━━━━\u001b[0m\u001b[90m╺\u001b[0m\u001b[90m━━━\u001b[0m \u001b[32m696.3/772.0 kB\u001b[0m \u001b[31m10.0 MB/s\u001b[0m eta \u001b[36m0:00:01\u001b[0m\r\u001b[2K     \u001b[90m━━━━━━━━━━━━━━━━━━━━━━━━━━━━━━━━━━━━━━━\u001b[0m \u001b[32m772.0/772.0 kB\u001b[0m \u001b[31m9.4 MB/s\u001b[0m eta \u001b[36m0:00:00\u001b[0m\n",
            "\u001b[?25h  Preparing metadata (setup.py) ... \u001b[?25l\u001b[?25hdone\n",
            "Requirement already satisfied: joblib>=1.0.0 in /usr/local/lib/python3.10/dist-packages (from scikit-surprise) (1.3.2)\n",
            "Requirement already satisfied: numpy>=1.17.3 in /usr/local/lib/python3.10/dist-packages (from scikit-surprise) (1.23.5)\n",
            "Requirement already satisfied: scipy>=1.3.2 in /usr/local/lib/python3.10/dist-packages (from scikit-surprise) (1.11.2)\n",
            "Building wheels for collected packages: scikit-surprise\n",
            "  Building wheel for scikit-surprise (setup.py) ... \u001b[?25l\u001b[?25hdone\n",
            "  Created wheel for scikit-surprise: filename=scikit_surprise-1.1.3-cp310-cp310-linux_x86_64.whl size=3156225 sha256=6952b802f039289d1e1dfa86fa2cca648f0a4e3943dd1215dd0192b5b8b1311f\n",
            "  Stored in directory: /root/.cache/pip/wheels/a5/ca/a8/4e28def53797fdc4363ca4af740db15a9c2f1595ebc51fb445\n",
            "Successfully built scikit-surprise\n",
            "Installing collected packages: scikit-surprise\n",
            "Successfully installed scikit-surprise-1.1.3\n"
          ]
        }
      ],
      "source": [
        "!pip install scikit-surprise"
      ]
    },
    {
      "cell_type": "code",
      "execution_count": null,
      "metadata": {
        "id": "TcAw3JxwVcq3"
      },
      "outputs": [],
      "source": [
        "from surprise import Dataset, Reader, SVD"
      ]
    },
    {
      "cell_type": "code",
      "execution_count": null,
      "metadata": {
        "id": "dQrsmfCqV7W6"
      },
      "outputs": [],
      "source": [
        "from surprise.model_selection import train_test_split"
      ]
    },
    {
      "cell_type": "code",
      "execution_count": 32,
      "metadata": {
        "id": "sG9RC86SUjYw"
      },
      "outputs": [],
      "source": [
        "reader = Reader(rating_scale=(0,df['Quantity'].max()))\n",
        "data = Dataset.load_from_df(df[['CustomerID', 'Description', 'Quantity']], reader)"
      ]
    },
    {
      "cell_type": "code",
      "execution_count": 33,
      "metadata": {
        "id": "8GoaVOHlVK9L"
      },
      "outputs": [],
      "source": [
        "#Train Test 80/20 Split\n",
        "trainset, testset = train_test_split(data, test_size=0.2, random_state=44)"
      ]
    },
    {
      "cell_type": "code",
      "execution_count": 34,
      "metadata": {
        "colab": {
          "base_uri": "https://localhost:8080/"
        },
        "id": "wnB9TdHQV8uD",
        "outputId": "86b2d222-3657-4593-99a4-93c8ac883446"
      },
      "outputs": [
        {
          "output_type": "execute_result",
          "data": {
            "text/plain": [
              "<surprise.prediction_algorithms.matrix_factorization.SVD at 0x7c1eb0f3db70>"
            ]
          },
          "metadata": {},
          "execution_count": 34
        }
      ],
      "source": [
        "#Using SVD Values for predicting\n",
        "model = SVD()\n",
        "model.fit(trainset)"
      ]
    },
    {
      "cell_type": "markdown",
      "source": [
        "## Model Evaluation"
      ],
      "metadata": {
        "id": "QKW4SnOMwC4c"
      }
    },
    {
      "cell_type": "code",
      "execution_count": 35,
      "metadata": {
        "id": "Wuq5GTqzWAjs"
      },
      "outputs": [],
      "source": [
        "predictions = model.test(testset)"
      ]
    },
    {
      "cell_type": "code",
      "execution_count": null,
      "metadata": {
        "id": "kUWBFAsCWHSV"
      },
      "outputs": [],
      "source": [
        "from surprise import accuracy"
      ]
    },
    {
      "cell_type": "code",
      "execution_count": 36,
      "metadata": {
        "colab": {
          "base_uri": "https://localhost:8080/"
        },
        "id": "7aTMuFkoWLCV",
        "outputId": "c6fccd93-c647-460e-941d-41374ad41836"
      },
      "outputs": [
        {
          "output_type": "stream",
          "name": "stdout",
          "text": [
            "RMSE: 748.9977\n",
            "MAE:  748.3779\n"
          ]
        },
        {
          "output_type": "execute_result",
          "data": {
            "text/plain": [
              "748.377871057745"
            ]
          },
          "metadata": {},
          "execution_count": 36
        }
      ],
      "source": [
        "#Using rmse and mae to evaluate the model\n",
        "rmse = accuracy.rmse(predictions)\n",
        "mae = accuracy.mae(predictions)\n",
        "rmse\n",
        "mae"
      ]
    },
    {
      "cell_type": "markdown",
      "source": [
        "### Hyperparameter Tuning for better results"
      ],
      "metadata": {
        "id": "754EehYLwZfZ"
      }
    },
    {
      "cell_type": "code",
      "execution_count": 37,
      "metadata": {
        "id": "LNEfjxOSaEPs"
      },
      "outputs": [],
      "source": [
        "from surprise.model_selection import GridSearchCV"
      ]
    },
    {
      "cell_type": "code",
      "execution_count": 38,
      "metadata": {
        "id": "C9QblZQCavuB"
      },
      "outputs": [],
      "source": [
        "param_grid = {\n",
        "    'n_factors': [10, 20, 30],\n",
        "    'n_epochs': [10, 20, 30],\n",
        "    'lr_all': [0.001, 0.005, 0.01],\n",
        "    'reg_all': [0.02, 0.1, 0.2]\n",
        "}"
      ]
    },
    {
      "cell_type": "code",
      "execution_count": 39,
      "metadata": {
        "id": "B5lvKIpgWPtX"
      },
      "outputs": [],
      "source": [
        "grid_search = GridSearchCV(SVD, param_grid, measures=['rmse'], cv=3)"
      ]
    },
    {
      "cell_type": "code",
      "execution_count": 40,
      "metadata": {
        "id": "R2FEV4a2aADt"
      },
      "outputs": [],
      "source": [
        "grid_search.fit(data)"
      ]
    },
    {
      "cell_type": "code",
      "execution_count": 41,
      "metadata": {
        "id": "ub8s4GsBa1Im"
      },
      "outputs": [],
      "source": [
        "best_params = grid_search.best_params['rmse']"
      ]
    },
    {
      "cell_type": "code",
      "execution_count": 42,
      "metadata": {
        "colab": {
          "base_uri": "https://localhost:8080/"
        },
        "id": "1jvSvfO2bCLz",
        "outputId": "7c3b5e07-efb9-4e83-b28e-826ef9592f8d"
      },
      "outputs": [
        {
          "output_type": "execute_result",
          "data": {
            "text/plain": [
              "<surprise.prediction_algorithms.matrix_factorization.SVD at 0x7c1eb0f9f1c0>"
            ]
          },
          "metadata": {},
          "execution_count": 42
        }
      ],
      "source": [
        "best_model = SVD(**best_params)\n",
        "best_model.fit(trainset)"
      ]
    },
    {
      "cell_type": "code",
      "execution_count": 43,
      "metadata": {
        "colab": {
          "base_uri": "https://localhost:8080/"
        },
        "id": "ZbezMsZ761Hp",
        "outputId": "50aff0eb-081c-4498-f7d8-6af1b08bbde0"
      },
      "outputs": [
        {
          "output_type": "stream",
          "name": "stdout",
          "text": [
            "RMSE: 23.8917\n",
            "MAE:  7.3415\n",
            "RMSE: 23.89167571877375\n",
            "MAE: 7.341457031303144\n"
          ]
        }
      ],
      "source": [
        "predictions = best_model.test(testset)\n",
        "\n",
        "rmse = accuracy.rmse(predictions)\n",
        "mae = accuracy.mae(predictions)\n",
        "\n",
        "print(f'RMSE: {rmse}')\n",
        "print(f'MAE: {mae}')"
      ]
    },
    {
      "cell_type": "code",
      "execution_count": null,
      "metadata": {
        "colab": {
          "background_save": true
        },
        "id": "WrGvZmC263oz"
      },
      "outputs": [],
      "source": []
    }
  ],
  "metadata": {
    "colab": {
      "provenance": [],
      "toc_visible": true,
      "authorship_tag": "ABX9TyPyjXLL6yUKucBF24BfjZur",
      "include_colab_link": true
    },
    "kernelspec": {
      "display_name": "Python 3",
      "name": "python3"
    },
    "language_info": {
      "name": "python"
    }
  },
  "nbformat": 4,
  "nbformat_minor": 0
}